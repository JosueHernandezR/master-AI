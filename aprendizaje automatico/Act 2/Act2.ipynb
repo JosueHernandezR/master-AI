{
  "cells": [
    {
      "cell_type": "markdown",
      "id": "17d12b48",
      "metadata": {
        "id": "17d12b48"
      },
      "source": [
        "# CLASIFICACION CON SVM Y NN\n",
        "\n",
        "En la presente actividad se va a emplear un dataset que contiene información de características de celulares para clasificarlos en un rango de precios.\n",
        "\n",
        "La información del *dataset* es:\n",
        "* *battery_power*: Energía total que una batería puede almacenar en un tiempo medido en *mAh*\n",
        "* *blue*: Indica si tiene *bluetooth* o no\n",
        "* *clock_speed*: Velocidad del microprocesador\n",
        "* *dual_sim*: Indica si tiene soporte dual de *sim* o no\n",
        "* *fc*: Megapíxeles de la cámara frontal\n",
        "* *four_g*: Indica si tiene 4G o no\n",
        "* *int_memory*: Memoria interna en GB\n",
        "* *m_dep*: Grosor del celular en cm\n",
        "* *mobile_wt*: Peso del celular\n",
        "* *n_cores*: Número de núcleos del procesador\n",
        "* *pc*: Megapíxeles de la cámara principal\n",
        "* *px_height*: Alto de la resolución de píxeles\n",
        "* *px_width*: Ancho de resolución de píxeles\n",
        "* *ram*: RAM en MB\n",
        "* *sc_h*: Alto de la pantalla en cm\n",
        "* *sc_w*: Ancho de la pantalla en cm\n",
        "* *talk_time*: tiempo máximo que durará una sola carga de la batería\n",
        "* *tres_g*: Indica si es 3G o no\n",
        "* *touch_screen*: Indica si tiene pantalla táctil o no\n",
        "* *wifi*: Indica si tiene wifi o no\n",
        "* ***price_range***: Es la variable objetivo con valor 0 (bajo costo), 1 (costo medio), 2 (costo alto) y 3 (costo muy alto)."
      ]
    },
    {
      "cell_type": "markdown",
      "id": "9eca735b",
      "metadata": {
        "id": "9eca735b"
      },
      "source": [
        "### IMPORTACIÓN DE LIBRERIAS A UTILIZAR"
      ]
    },
    {
      "cell_type": "code",
      "execution_count": null,
      "id": "56b5f827",
      "metadata": {
        "id": "56b5f827"
      },
      "outputs": [],
      "source": [
        "import numpy as np\n",
        "import pandas as pd\n",
        "\n",
        "import matplotlib.pyplot as plt\n",
        "import seaborn as sns\n",
        "\n",
        "from sklearn.preprocessing import StandardScaler\n",
        "from sklearn.model_selection import train_test_split, GridSearchCV\n",
        "\n",
        "from sklearn.svm import SVC\n",
        "from sklearn.neural_network import MLPClassifier\n",
        "\n",
        "from sklearn.metrics import accuracy_score, confusion_matrix, classification_report"
      ]
    },
    {
      "cell_type": "markdown",
      "id": "58cb2daa",
      "metadata": {
        "id": "58cb2daa"
      },
      "source": [
        "### CARGA DEL DATASET"
      ]
    },
    {
      "cell_type": "code",
      "execution_count": null,
      "id": "f5ebb5b4",
      "metadata": {
        "id": "f5ebb5b4",
        "outputId": "f0f18024-64b4-4e63-801d-6315f87226c1"
      },
      "outputs": [
        {
          "data": {
            "text/html": [
              "<div>\n",
              "<style scoped>\n",
              "    .dataframe tbody tr th:only-of-type {\n",
              "        vertical-align: middle;\n",
              "    }\n",
              "\n",
              "    .dataframe tbody tr th {\n",
              "        vertical-align: top;\n",
              "    }\n",
              "\n",
              "    .dataframe thead th {\n",
              "        text-align: right;\n",
              "    }\n",
              "</style>\n",
              "<table border=\"1\" class=\"dataframe\">\n",
              "  <thead>\n",
              "    <tr style=\"text-align: right;\">\n",
              "      <th></th>\n",
              "      <th>danceability</th>\n",
              "      <th>energy</th>\n",
              "      <th>key</th>\n",
              "      <th>loudness</th>\n",
              "      <th>mode</th>\n",
              "      <th>speechiness</th>\n",
              "      <th>acousticness</th>\n",
              "      <th>instrumentalness</th>\n",
              "      <th>liveness</th>\n",
              "      <th>valence</th>\n",
              "      <th>tempo</th>\n",
              "      <th>duration_ms</th>\n",
              "      <th>time_signature</th>\n",
              "      <th>liked</th>\n",
              "    </tr>\n",
              "  </thead>\n",
              "  <tbody>\n",
              "    <tr>\n",
              "      <th>0</th>\n",
              "      <td>0.803</td>\n",
              "      <td>0.6240</td>\n",
              "      <td>7</td>\n",
              "      <td>-6.764</td>\n",
              "      <td>0</td>\n",
              "      <td>0.0477</td>\n",
              "      <td>0.4510</td>\n",
              "      <td>0.000734</td>\n",
              "      <td>0.1000</td>\n",
              "      <td>0.6280</td>\n",
              "      <td>95.968</td>\n",
              "      <td>304524</td>\n",
              "      <td>4</td>\n",
              "      <td>0</td>\n",
              "    </tr>\n",
              "    <tr>\n",
              "      <th>1</th>\n",
              "      <td>0.762</td>\n",
              "      <td>0.7030</td>\n",
              "      <td>10</td>\n",
              "      <td>-7.951</td>\n",
              "      <td>0</td>\n",
              "      <td>0.3060</td>\n",
              "      <td>0.2060</td>\n",
              "      <td>0.000000</td>\n",
              "      <td>0.0912</td>\n",
              "      <td>0.5190</td>\n",
              "      <td>151.329</td>\n",
              "      <td>247178</td>\n",
              "      <td>4</td>\n",
              "      <td>1</td>\n",
              "    </tr>\n",
              "    <tr>\n",
              "      <th>2</th>\n",
              "      <td>0.261</td>\n",
              "      <td>0.0149</td>\n",
              "      <td>1</td>\n",
              "      <td>-27.528</td>\n",
              "      <td>1</td>\n",
              "      <td>0.0419</td>\n",
              "      <td>0.9920</td>\n",
              "      <td>0.897000</td>\n",
              "      <td>0.1020</td>\n",
              "      <td>0.0382</td>\n",
              "      <td>75.296</td>\n",
              "      <td>286987</td>\n",
              "      <td>4</td>\n",
              "      <td>0</td>\n",
              "    </tr>\n",
              "    <tr>\n",
              "      <th>3</th>\n",
              "      <td>0.722</td>\n",
              "      <td>0.7360</td>\n",
              "      <td>3</td>\n",
              "      <td>-6.994</td>\n",
              "      <td>0</td>\n",
              "      <td>0.0585</td>\n",
              "      <td>0.4310</td>\n",
              "      <td>0.000001</td>\n",
              "      <td>0.1230</td>\n",
              "      <td>0.5820</td>\n",
              "      <td>89.860</td>\n",
              "      <td>208920</td>\n",
              "      <td>4</td>\n",
              "      <td>1</td>\n",
              "    </tr>\n",
              "    <tr>\n",
              "      <th>4</th>\n",
              "      <td>0.787</td>\n",
              "      <td>0.5720</td>\n",
              "      <td>1</td>\n",
              "      <td>-7.516</td>\n",
              "      <td>1</td>\n",
              "      <td>0.2220</td>\n",
              "      <td>0.1450</td>\n",
              "      <td>0.000000</td>\n",
              "      <td>0.0753</td>\n",
              "      <td>0.6470</td>\n",
              "      <td>155.117</td>\n",
              "      <td>179413</td>\n",
              "      <td>4</td>\n",
              "      <td>1</td>\n",
              "    </tr>\n",
              "    <tr>\n",
              "      <th>...</th>\n",
              "      <td>...</td>\n",
              "      <td>...</td>\n",
              "      <td>...</td>\n",
              "      <td>...</td>\n",
              "      <td>...</td>\n",
              "      <td>...</td>\n",
              "      <td>...</td>\n",
              "      <td>...</td>\n",
              "      <td>...</td>\n",
              "      <td>...</td>\n",
              "      <td>...</td>\n",
              "      <td>...</td>\n",
              "      <td>...</td>\n",
              "      <td>...</td>\n",
              "    </tr>\n",
              "    <tr>\n",
              "      <th>190</th>\n",
              "      <td>0.166</td>\n",
              "      <td>0.0551</td>\n",
              "      <td>9</td>\n",
              "      <td>-19.494</td>\n",
              "      <td>0</td>\n",
              "      <td>0.0520</td>\n",
              "      <td>0.9760</td>\n",
              "      <td>0.635000</td>\n",
              "      <td>0.1190</td>\n",
              "      <td>0.1430</td>\n",
              "      <td>176.616</td>\n",
              "      <td>206520</td>\n",
              "      <td>3</td>\n",
              "      <td>0</td>\n",
              "    </tr>\n",
              "    <tr>\n",
              "      <th>191</th>\n",
              "      <td>0.862</td>\n",
              "      <td>0.6240</td>\n",
              "      <td>3</td>\n",
              "      <td>-11.630</td>\n",
              "      <td>1</td>\n",
              "      <td>0.0565</td>\n",
              "      <td>0.0192</td>\n",
              "      <td>0.000153</td>\n",
              "      <td>0.0465</td>\n",
              "      <td>0.8820</td>\n",
              "      <td>124.896</td>\n",
              "      <td>254240</td>\n",
              "      <td>4</td>\n",
              "      <td>0</td>\n",
              "    </tr>\n",
              "    <tr>\n",
              "      <th>192</th>\n",
              "      <td>0.499</td>\n",
              "      <td>0.3510</td>\n",
              "      <td>9</td>\n",
              "      <td>-11.509</td>\n",
              "      <td>0</td>\n",
              "      <td>0.0448</td>\n",
              "      <td>0.9510</td>\n",
              "      <td>0.000099</td>\n",
              "      <td>0.1180</td>\n",
              "      <td>0.6160</td>\n",
              "      <td>90.664</td>\n",
              "      <td>235947</td>\n",
              "      <td>4</td>\n",
              "      <td>0</td>\n",
              "    </tr>\n",
              "    <tr>\n",
              "      <th>193</th>\n",
              "      <td>0.574</td>\n",
              "      <td>0.7290</td>\n",
              "      <td>10</td>\n",
              "      <td>-5.838</td>\n",
              "      <td>0</td>\n",
              "      <td>0.0965</td>\n",
              "      <td>0.0406</td>\n",
              "      <td>0.000004</td>\n",
              "      <td>0.1940</td>\n",
              "      <td>0.4130</td>\n",
              "      <td>110.547</td>\n",
              "      <td>190239</td>\n",
              "      <td>5</td>\n",
              "      <td>1</td>\n",
              "    </tr>\n",
              "    <tr>\n",
              "      <th>194</th>\n",
              "      <td>0.747</td>\n",
              "      <td>0.6660</td>\n",
              "      <td>11</td>\n",
              "      <td>-7.845</td>\n",
              "      <td>1</td>\n",
              "      <td>0.1970</td>\n",
              "      <td>0.1300</td>\n",
              "      <td>0.000000</td>\n",
              "      <td>0.3600</td>\n",
              "      <td>0.5310</td>\n",
              "      <td>77.507</td>\n",
              "      <td>177213</td>\n",
              "      <td>4</td>\n",
              "      <td>1</td>\n",
              "    </tr>\n",
              "  </tbody>\n",
              "</table>\n",
              "<p>195 rows × 14 columns</p>\n",
              "</div>"
            ],
            "text/plain": [
              "     danceability  energy  key  loudness  mode  speechiness  acousticness  \\\n",
              "0           0.803  0.6240    7    -6.764     0       0.0477        0.4510   \n",
              "1           0.762  0.7030   10    -7.951     0       0.3060        0.2060   \n",
              "2           0.261  0.0149    1   -27.528     1       0.0419        0.9920   \n",
              "3           0.722  0.7360    3    -6.994     0       0.0585        0.4310   \n",
              "4           0.787  0.5720    1    -7.516     1       0.2220        0.1450   \n",
              "..            ...     ...  ...       ...   ...          ...           ...   \n",
              "190         0.166  0.0551    9   -19.494     0       0.0520        0.9760   \n",
              "191         0.862  0.6240    3   -11.630     1       0.0565        0.0192   \n",
              "192         0.499  0.3510    9   -11.509     0       0.0448        0.9510   \n",
              "193         0.574  0.7290   10    -5.838     0       0.0965        0.0406   \n",
              "194         0.747  0.6660   11    -7.845     1       0.1970        0.1300   \n",
              "\n",
              "     instrumentalness  liveness  valence    tempo  duration_ms  \\\n",
              "0            0.000734    0.1000   0.6280   95.968       304524   \n",
              "1            0.000000    0.0912   0.5190  151.329       247178   \n",
              "2            0.897000    0.1020   0.0382   75.296       286987   \n",
              "3            0.000001    0.1230   0.5820   89.860       208920   \n",
              "4            0.000000    0.0753   0.6470  155.117       179413   \n",
              "..                ...       ...      ...      ...          ...   \n",
              "190          0.635000    0.1190   0.1430  176.616       206520   \n",
              "191          0.000153    0.0465   0.8820  124.896       254240   \n",
              "192          0.000099    0.1180   0.6160   90.664       235947   \n",
              "193          0.000004    0.1940   0.4130  110.547       190239   \n",
              "194          0.000000    0.3600   0.5310   77.507       177213   \n",
              "\n",
              "     time_signature  liked  \n",
              "0                 4      0  \n",
              "1                 4      1  \n",
              "2                 4      0  \n",
              "3                 4      1  \n",
              "4                 4      1  \n",
              "..              ...    ...  \n",
              "190               3      0  \n",
              "191               4      0  \n",
              "192               4      0  \n",
              "193               5      1  \n",
              "194               4      1  \n",
              "\n",
              "[195 rows x 14 columns]"
            ]
          },
          "execution_count": 2,
          "metadata": {},
          "output_type": "execute_result"
        }
      ],
      "source": [
        "data = pd.read_csv('train.csv')\n",
        "data"
      ]
    },
    {
      "cell_type": "code",
      "execution_count": null,
      "id": "5da389fe",
      "metadata": {
        "id": "5da389fe",
        "outputId": "569c5d1b-c1b9-4dca-c294-f07cbd830ba8"
      },
      "outputs": [
        {
          "data": {
            "text/plain": [
              "(195, 14)"
            ]
          },
          "execution_count": 3,
          "metadata": {},
          "output_type": "execute_result"
        }
      ],
      "source": [
        "#Tamaño del dataset\n",
        "data.shape"
      ]
    },
    {
      "cell_type": "code",
      "execution_count": null,
      "id": "8d5da9e6",
      "metadata": {
        "id": "8d5da9e6",
        "outputId": "f1cf61be-f62f-4a3d-a495-0ea37397fb23"
      },
      "outputs": [
        {
          "name": "stdout",
          "output_type": "stream",
          "text": [
            "<class 'pandas.core.frame.DataFrame'>\n",
            "RangeIndex: 195 entries, 0 to 194\n",
            "Data columns (total 14 columns):\n",
            " #   Column            Non-Null Count  Dtype  \n",
            "---  ------            --------------  -----  \n",
            " 0   danceability      195 non-null    float64\n",
            " 1   energy            195 non-null    float64\n",
            " 2   key               195 non-null    int64  \n",
            " 3   loudness          195 non-null    float64\n",
            " 4   mode              195 non-null    int64  \n",
            " 5   speechiness       195 non-null    float64\n",
            " 6   acousticness      195 non-null    float64\n",
            " 7   instrumentalness  195 non-null    float64\n",
            " 8   liveness          195 non-null    float64\n",
            " 9   valence           195 non-null    float64\n",
            " 10  tempo             195 non-null    float64\n",
            " 11  duration_ms       195 non-null    int64  \n",
            " 12  time_signature    195 non-null    int64  \n",
            " 13  liked             195 non-null    int64  \n",
            "dtypes: float64(9), int64(5)\n",
            "memory usage: 21.5 KB\n"
          ]
        }
      ],
      "source": [
        "#Información de las variables\n",
        "data.info()"
      ]
    },
    {
      "cell_type": "markdown",
      "id": "51ac3b3a",
      "metadata": {
        "id": "51ac3b3a"
      },
      "source": [
        "# 1. ANÁLISIS DESCRIPTIVO DE DATOS\n",
        "\n",
        "\n",
        "## Variables numéricas"
      ]
    },
    {
      "cell_type": "code",
      "execution_count": null,
      "id": "7df8a7b0",
      "metadata": {
        "scrolled": false,
        "id": "7df8a7b0",
        "outputId": "8f5e19bc-7cf4-48e7-c4cf-3eb2a64c7c82"
      },
      "outputs": [
        {
          "data": {
            "text/html": [
              "<div>\n",
              "<style scoped>\n",
              "    .dataframe tbody tr th:only-of-type {\n",
              "        vertical-align: middle;\n",
              "    }\n",
              "\n",
              "    .dataframe tbody tr th {\n",
              "        vertical-align: top;\n",
              "    }\n",
              "\n",
              "    .dataframe thead th {\n",
              "        text-align: right;\n",
              "    }\n",
              "</style>\n",
              "<table border=\"1\" class=\"dataframe\">\n",
              "  <thead>\n",
              "    <tr style=\"text-align: right;\">\n",
              "      <th></th>\n",
              "      <th>danceability</th>\n",
              "      <th>energy</th>\n",
              "      <th>key</th>\n",
              "      <th>loudness</th>\n",
              "      <th>mode</th>\n",
              "      <th>speechiness</th>\n",
              "      <th>acousticness</th>\n",
              "      <th>instrumentalness</th>\n",
              "      <th>liveness</th>\n",
              "      <th>valence</th>\n",
              "      <th>tempo</th>\n",
              "      <th>duration_ms</th>\n",
              "      <th>time_signature</th>\n",
              "      <th>liked</th>\n",
              "    </tr>\n",
              "  </thead>\n",
              "  <tbody>\n",
              "    <tr>\n",
              "      <th>count</th>\n",
              "      <td>195.000000</td>\n",
              "      <td>195.000000</td>\n",
              "      <td>195.000000</td>\n",
              "      <td>195.000000</td>\n",
              "      <td>195.000000</td>\n",
              "      <td>195.000000</td>\n",
              "      <td>195.000000</td>\n",
              "      <td>195.000000</td>\n",
              "      <td>195.000000</td>\n",
              "      <td>195.000000</td>\n",
              "      <td>195.000000</td>\n",
              "      <td>195.000000</td>\n",
              "      <td>195.000000</td>\n",
              "      <td>195.000000</td>\n",
              "    </tr>\n",
              "    <tr>\n",
              "      <th>mean</th>\n",
              "      <td>0.636656</td>\n",
              "      <td>0.638431</td>\n",
              "      <td>5.497436</td>\n",
              "      <td>-9.481631</td>\n",
              "      <td>0.538462</td>\n",
              "      <td>0.148957</td>\n",
              "      <td>0.319093</td>\n",
              "      <td>0.192337</td>\n",
              "      <td>0.148455</td>\n",
              "      <td>0.493632</td>\n",
              "      <td>121.086174</td>\n",
              "      <td>213408.933333</td>\n",
              "      <td>3.912821</td>\n",
              "      <td>0.512821</td>\n",
              "    </tr>\n",
              "    <tr>\n",
              "      <th>std</th>\n",
              "      <td>0.216614</td>\n",
              "      <td>0.260096</td>\n",
              "      <td>3.415209</td>\n",
              "      <td>6.525086</td>\n",
              "      <td>0.499802</td>\n",
              "      <td>0.120414</td>\n",
              "      <td>0.320782</td>\n",
              "      <td>0.346226</td>\n",
              "      <td>0.105975</td>\n",
              "      <td>0.267695</td>\n",
              "      <td>28.084829</td>\n",
              "      <td>72152.392864</td>\n",
              "      <td>0.451332</td>\n",
              "      <td>0.501122</td>\n",
              "    </tr>\n",
              "    <tr>\n",
              "      <th>min</th>\n",
              "      <td>0.130000</td>\n",
              "      <td>0.002400</td>\n",
              "      <td>0.000000</td>\n",
              "      <td>-42.261000</td>\n",
              "      <td>0.000000</td>\n",
              "      <td>0.027800</td>\n",
              "      <td>0.000003</td>\n",
              "      <td>0.000000</td>\n",
              "      <td>0.033100</td>\n",
              "      <td>0.035300</td>\n",
              "      <td>60.171000</td>\n",
              "      <td>77203.000000</td>\n",
              "      <td>1.000000</td>\n",
              "      <td>0.000000</td>\n",
              "    </tr>\n",
              "    <tr>\n",
              "      <th>25%</th>\n",
              "      <td>0.462500</td>\n",
              "      <td>0.533500</td>\n",
              "      <td>2.000000</td>\n",
              "      <td>-9.962000</td>\n",
              "      <td>0.000000</td>\n",
              "      <td>0.056800</td>\n",
              "      <td>0.042200</td>\n",
              "      <td>0.000000</td>\n",
              "      <td>0.084000</td>\n",
              "      <td>0.269000</td>\n",
              "      <td>100.242000</td>\n",
              "      <td>178300.500000</td>\n",
              "      <td>4.000000</td>\n",
              "      <td>0.000000</td>\n",
              "    </tr>\n",
              "    <tr>\n",
              "      <th>50%</th>\n",
              "      <td>0.705000</td>\n",
              "      <td>0.659000</td>\n",
              "      <td>6.000000</td>\n",
              "      <td>-7.766000</td>\n",
              "      <td>1.000000</td>\n",
              "      <td>0.096200</td>\n",
              "      <td>0.213000</td>\n",
              "      <td>0.000008</td>\n",
              "      <td>0.105000</td>\n",
              "      <td>0.525000</td>\n",
              "      <td>124.896000</td>\n",
              "      <td>204000.000000</td>\n",
              "      <td>4.000000</td>\n",
              "      <td>1.000000</td>\n",
              "    </tr>\n",
              "    <tr>\n",
              "      <th>75%</th>\n",
              "      <td>0.799000</td>\n",
              "      <td>0.837500</td>\n",
              "      <td>8.000000</td>\n",
              "      <td>-5.829000</td>\n",
              "      <td>1.000000</td>\n",
              "      <td>0.230500</td>\n",
              "      <td>0.504000</td>\n",
              "      <td>0.097500</td>\n",
              "      <td>0.177000</td>\n",
              "      <td>0.717500</td>\n",
              "      <td>142.460500</td>\n",
              "      <td>242373.500000</td>\n",
              "      <td>4.000000</td>\n",
              "      <td>1.000000</td>\n",
              "    </tr>\n",
              "    <tr>\n",
              "      <th>max</th>\n",
              "      <td>0.946000</td>\n",
              "      <td>0.996000</td>\n",
              "      <td>11.000000</td>\n",
              "      <td>-2.336000</td>\n",
              "      <td>1.000000</td>\n",
              "      <td>0.540000</td>\n",
              "      <td>0.995000</td>\n",
              "      <td>0.969000</td>\n",
              "      <td>0.633000</td>\n",
              "      <td>0.980000</td>\n",
              "      <td>180.036000</td>\n",
              "      <td>655213.000000</td>\n",
              "      <td>5.000000</td>\n",
              "      <td>1.000000</td>\n",
              "    </tr>\n",
              "  </tbody>\n",
              "</table>\n",
              "</div>"
            ],
            "text/plain": [
              "       danceability      energy         key    loudness        mode  \\\n",
              "count    195.000000  195.000000  195.000000  195.000000  195.000000   \n",
              "mean       0.636656    0.638431    5.497436   -9.481631    0.538462   \n",
              "std        0.216614    0.260096    3.415209    6.525086    0.499802   \n",
              "min        0.130000    0.002400    0.000000  -42.261000    0.000000   \n",
              "25%        0.462500    0.533500    2.000000   -9.962000    0.000000   \n",
              "50%        0.705000    0.659000    6.000000   -7.766000    1.000000   \n",
              "75%        0.799000    0.837500    8.000000   -5.829000    1.000000   \n",
              "max        0.946000    0.996000   11.000000   -2.336000    1.000000   \n",
              "\n",
              "       speechiness  acousticness  instrumentalness    liveness     valence  \\\n",
              "count   195.000000    195.000000        195.000000  195.000000  195.000000   \n",
              "mean      0.148957      0.319093          0.192337    0.148455    0.493632   \n",
              "std       0.120414      0.320782          0.346226    0.105975    0.267695   \n",
              "min       0.027800      0.000003          0.000000    0.033100    0.035300   \n",
              "25%       0.056800      0.042200          0.000000    0.084000    0.269000   \n",
              "50%       0.096200      0.213000          0.000008    0.105000    0.525000   \n",
              "75%       0.230500      0.504000          0.097500    0.177000    0.717500   \n",
              "max       0.540000      0.995000          0.969000    0.633000    0.980000   \n",
              "\n",
              "            tempo    duration_ms  time_signature       liked  \n",
              "count  195.000000     195.000000      195.000000  195.000000  \n",
              "mean   121.086174  213408.933333        3.912821    0.512821  \n",
              "std     28.084829   72152.392864        0.451332    0.501122  \n",
              "min     60.171000   77203.000000        1.000000    0.000000  \n",
              "25%    100.242000  178300.500000        4.000000    0.000000  \n",
              "50%    124.896000  204000.000000        4.000000    1.000000  \n",
              "75%    142.460500  242373.500000        4.000000    1.000000  \n",
              "max    180.036000  655213.000000        5.000000    1.000000  "
            ]
          },
          "execution_count": 5,
          "metadata": {},
          "output_type": "execute_result"
        }
      ],
      "source": [
        "#Resumen estadístico de las variables\n",
        "data.describe()"
      ]
    },
    {
      "cell_type": "markdown",
      "id": "7439e1c1",
      "metadata": {
        "id": "7439e1c1"
      },
      "source": [
        "### **1.1. Escriba el código que permita crear la matriz de correlación de todas las variables numéricas:**"
      ]
    },
    {
      "cell_type": "code",
      "execution_count": null,
      "id": "e1ffcd08",
      "metadata": {
        "id": "e1ffcd08"
      },
      "outputs": [],
      "source": [
        "corr ="
      ]
    },
    {
      "cell_type": "markdown",
      "id": "29028509",
      "metadata": {
        "id": "29028509"
      },
      "source": [
        "## Variables catégoricas\n",
        "\n",
        "### **1.2. Escriba el código para su análisis y la creación de gráficos de frecuencia:**\n"
      ]
    },
    {
      "cell_type": "code",
      "execution_count": null,
      "id": "5dfcbefd",
      "metadata": {
        "id": "5dfcbefd"
      },
      "outputs": [],
      "source": []
    },
    {
      "cell_type": "markdown",
      "source": [
        "### **1.3. Escriba el código que permita validar si el dataset está balanceado**"
      ],
      "metadata": {
        "id": "HXG63fD5i4bh"
      },
      "id": "HXG63fD5i4bh"
    },
    {
      "cell_type": "code",
      "source": [],
      "metadata": {
        "id": "vWLH0sbBi44w"
      },
      "id": "vWLH0sbBi44w",
      "execution_count": null,
      "outputs": []
    },
    {
      "cell_type": "markdown",
      "id": "aa184300",
      "metadata": {
        "id": "aa184300"
      },
      "source": [
        "## PREPROCESAMIENTO DE DATOS"
      ]
    },
    {
      "cell_type": "code",
      "execution_count": null,
      "id": "869a65f2",
      "metadata": {
        "id": "869a65f2"
      },
      "outputs": [],
      "source": [
        "#Crear una copia del dataset para modificaciones\n",
        "data2 = data.copy()"
      ]
    },
    {
      "cell_type": "code",
      "execution_count": null,
      "id": "842f4de4",
      "metadata": {
        "id": "842f4de4",
        "outputId": "bdc1b802-f55d-4f93-cfb8-11cb906a1fc3"
      },
      "outputs": [
        {
          "data": {
            "text/plain": [
              "(195, 14)"
            ]
          },
          "execution_count": 20,
          "metadata": {},
          "output_type": "execute_result"
        }
      ],
      "source": [
        "#Verificar tamaño\n",
        "data2.shape"
      ]
    },
    {
      "cell_type": "markdown",
      "id": "21937a56",
      "metadata": {
        "id": "21937a56"
      },
      "source": [
        "### Escriba el código que permita reescalar todos los atributos del dataset utilizando la función del StandardScaler:"
      ]
    },
    {
      "cell_type": "code",
      "execution_count": null,
      "id": "fad4fc87",
      "metadata": {
        "id": "fad4fc87"
      },
      "outputs": [],
      "source": []
    },
    {
      "cell_type": "markdown",
      "id": "5aa0a3c7",
      "metadata": {
        "id": "5aa0a3c7"
      },
      "source": [
        "# 2. Aplicación de SVM sobre los datos\n"
      ]
    },
    {
      "cell_type": "code",
      "source": [
        "# Separación de los datos en train y test\n",
        "X = data2.drop(columns = 'price_range')\n",
        "y = data2['price_range']\n",
        "\n",
        "X_train, X_test, y_train, y_test = train_test_split(\n",
        "                                        X,\n",
        "                                        y,\n",
        "                                        train_size   = 0.8,\n",
        "                                        random_state = 123,\n",
        "                                        shuffle      = True\n",
        "                                    )"
      ],
      "metadata": {
        "id": "r9SK3GIJgToi"
      },
      "id": "r9SK3GIJgToi",
      "execution_count": null,
      "outputs": []
    },
    {
      "cell_type": "markdown",
      "id": "9ac11f6a",
      "metadata": {
        "id": "9ac11f6a"
      },
      "source": [
        "### **2.1. Escriba el código que permita crear un modelo utilizando SVM con kernel lineal, el valor de C =1 y la semilla aleatoria es de 1234:**"
      ]
    },
    {
      "cell_type": "code",
      "execution_count": null,
      "id": "8a2022d5",
      "metadata": {
        "id": "8a2022d5",
        "outputId": "7680db4f-075a-4d10-f9ab-d3a78458f226"
      },
      "outputs": [
        {
          "data": {
            "text/plain": [
              "SVC(C=1, kernel='linear', random_state=1234)"
            ]
          },
          "execution_count": 30,
          "metadata": {},
          "output_type": "execute_result"
        }
      ],
      "source": [
        "# Creación del modelo SVM lineal\n",
        "modeloSVM ="
      ]
    },
    {
      "cell_type": "code",
      "execution_count": null,
      "id": "56cc0623",
      "metadata": {
        "id": "56cc0623"
      },
      "outputs": [],
      "source": [
        "# Predicciones test\n",
        "predictSVM = modeloSVM.predict(X_test)\n",
        "predictSVM"
      ]
    },
    {
      "cell_type": "markdown",
      "id": "434ff5ad",
      "metadata": {
        "id": "434ff5ad"
      },
      "source": [
        "### **2.2. Escriba el código que permita hallar la exactitud (accuracy) del modelo SVM anteriormente entrenado:**"
      ]
    },
    {
      "cell_type": "code",
      "execution_count": null,
      "id": "2be5f603",
      "metadata": {
        "id": "2be5f603"
      },
      "outputs": [],
      "source": []
    },
    {
      "cell_type": "markdown",
      "id": "c1679df8",
      "metadata": {
        "id": "c1679df8"
      },
      "source": [
        "### **2.3. Escriba el código que permita encontrar los mejores parámetros para el modelo  SVM, con un param_grid = {'C': np.linspace(0.1, 100, 200), 'kernel': ('linear', 'rbf')**"
      ]
    },
    {
      "cell_type": "markdown",
      "id": "569d32b9",
      "metadata": {
        "id": "569d32b9"
      },
      "source": [
        "#### Tunear hiperparámetros"
      ]
    },
    {
      "cell_type": "code",
      "execution_count": null,
      "id": "1c360147",
      "metadata": {
        "id": "1c360147"
      },
      "outputs": [],
      "source": []
    },
    {
      "cell_type": "markdown",
      "id": "a807c32b",
      "metadata": {
        "id": "a807c32b"
      },
      "source": [
        "### **2.4. Escriba el código que permita conocer los mejores parámetros encontrados en el ítem anterior**"
      ]
    },
    {
      "cell_type": "code",
      "execution_count": null,
      "id": "d2b5fea0",
      "metadata": {
        "id": "d2b5fea0"
      },
      "outputs": [],
      "source": []
    },
    {
      "cell_type": "markdown",
      "id": "da668113",
      "metadata": {
        "id": "da668113"
      },
      "source": [
        "### **2.5. Escriba el código que permita hallar la exactitud del modelo de SVM aplicando los mejores parámetros**"
      ]
    },
    {
      "cell_type": "code",
      "execution_count": null,
      "id": "f7810987",
      "metadata": {
        "id": "f7810987"
      },
      "outputs": [],
      "source": [
        "# Accuracy de test del modelo\n",
        "# ==============================================================================\n",
        "accuracy ="
      ]
    },
    {
      "cell_type": "markdown",
      "id": "36cd43d0",
      "metadata": {
        "id": "36cd43d0"
      },
      "source": [
        "### **2.6. Escriba el código que permita hallar la las métricas del modelo entrenado en el ítem anterior. Utilice la función classification_report**"
      ]
    },
    {
      "cell_type": "code",
      "execution_count": null,
      "id": "23ea38e0",
      "metadata": {
        "id": "23ea38e0"
      },
      "outputs": [],
      "source": []
    },
    {
      "cell_type": "markdown",
      "id": "66fe9fa2",
      "metadata": {
        "id": "66fe9fa2"
      },
      "source": [
        "# 3. REDES NEURONALES\n",
        "\n",
        "### **3.1. Escriba el código que permita entrenar un perceptrón multicapa con 3 capas ocultas con 200, 100 y 50 neuronas respectivamente en cada capa. Función de activación 'Relu' y random_state=1**"
      ]
    },
    {
      "cell_type": "code",
      "execution_count": null,
      "id": "16601962",
      "metadata": {
        "id": "16601962"
      },
      "outputs": [],
      "source": [
        "classifier ="
      ]
    },
    {
      "cell_type": "markdown",
      "id": "d1add51d",
      "metadata": {
        "id": "d1add51d"
      },
      "source": [
        "### **3.2. Escriba el código que permita hallar la exactitud del modelo de redes neuronales anteriormente entrenado:**"
      ]
    },
    {
      "cell_type": "code",
      "source": [],
      "metadata": {
        "id": "TxO5qI-ClIvw"
      },
      "id": "TxO5qI-ClIvw",
      "execution_count": 1,
      "outputs": []
    },
    {
      "cell_type": "markdown",
      "id": "096f3357",
      "metadata": {
        "id": "096f3357"
      },
      "source": [
        "### **3.3. Escriba el código que permita hallar la las métricas del modelo entrenado en el ítem anterior. Utilice la función classification_report**"
      ]
    },
    {
      "cell_type": "code",
      "execution_count": null,
      "id": "5f74d4d1",
      "metadata": {
        "id": "5f74d4d1"
      },
      "outputs": [],
      "source": []
    },
    {
      "cell_type": "markdown",
      "source": [
        "### 4. **Conclusiones**"
      ],
      "metadata": {
        "id": "RU41gZ-0lLej"
      },
      "id": "RU41gZ-0lLej"
    },
    {
      "cell_type": "code",
      "execution_count": null,
      "id": "7311948b",
      "metadata": {
        "id": "7311948b"
      },
      "outputs": [],
      "source": []
    }
  ],
  "metadata": {
    "kernelspec": {
      "display_name": "Python 3",
      "language": "python",
      "name": "python3"
    },
    "language_info": {
      "codemirror_mode": {
        "name": "ipython",
        "version": 3
      },
      "file_extension": ".py",
      "mimetype": "text/x-python",
      "name": "python",
      "nbconvert_exporter": "python",
      "pygments_lexer": "ipython3",
      "version": "3.8.8"
    },
    "colab": {
      "provenance": []
    }
  },
  "nbformat": 4,
  "nbformat_minor": 5
}