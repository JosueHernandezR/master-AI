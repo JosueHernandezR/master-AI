{
 "cells": [
  {
   "cell_type": "markdown",
   "metadata": {},
   "source": [
    "## Laboratorio. Árboles y random forest para clasificación"
   ]
  },
  {
   "cell_type": "markdown",
   "metadata": {},
   "source": [
    "## Librerías utilizadas"
   ]
  },
  {
   "cell_type": "code",
   "execution_count": 1,
   "metadata": {},
   "outputs": [],
   "source": [
    "import pandas as pd\n",
    "import numpy as np\n",
    "import matplotlib.pyplot as plt\n",
    "from sklearn.tree import plot_tree\n",
    "from sklearn import preprocessing\n",
    "from sklearn.model_selection import train_test_split\n",
    "from sklearn.metrics import mean_squared_error\n",
    "from sklearn.metrics import mean_absolute_error\n",
    "from sklearn.metrics import classification_report, confusion_matrix, accuracy_score\n",
    "from sklearn.metrics import r2_score\n",
    "from sklearn.tree import DecisionTreeRegressor,DecisionTreeClassifier\n",
    "from sklearn.ensemble import RandomForestRegressor,RandomForestClassifier\n",
    "from sklearn.model_selection import learning_curve\n",
    "from sklearn.model_selection import ShuffleSplit\n",
    "from sklearn.model_selection import cross_val_score\n",
    "from sklearn.metrics import classification_report\n",
    "from sklearn.metrics import confusion_matrix\n",
    "from sklearn.model_selection import KFold"
   ]
  },
  {
   "cell_type": "markdown",
   "metadata": {},
   "source": []
  },
  {
   "cell_type": "code",
   "execution_count": 2,
   "metadata": {},
   "outputs": [],
   "source": [
    "semilla_aleatoria = 1234"
   ]
  },
  {
   "cell_type": "markdown",
   "metadata": {},
   "source": [
    "# 1.- Leer los datos del archivo pima-indians-diabetes.csv"
   ]
  },
  {
   "cell_type": "code",
   "execution_count": 3,
   "metadata": {},
   "outputs": [
    {
     "data": {
      "text/html": [
       "<div>\n",
       "<style scoped>\n",
       "    .dataframe tbody tr th:only-of-type {\n",
       "        vertical-align: middle;\n",
       "    }\n",
       "\n",
       "    .dataframe tbody tr th {\n",
       "        vertical-align: top;\n",
       "    }\n",
       "\n",
       "    .dataframe thead th {\n",
       "        text-align: right;\n",
       "    }\n",
       "</style>\n",
       "<table border=\"1\" class=\"dataframe\">\n",
       "  <thead>\n",
       "    <tr style=\"text-align: right;\">\n",
       "      <th></th>\n",
       "      <th>nEmbarazos</th>\n",
       "      <th>concentracionGlucosa</th>\n",
       "      <th>presionArterialSistolica</th>\n",
       "      <th>pliegueCutaneo</th>\n",
       "      <th>insulinaSerica</th>\n",
       "      <th>IMC</th>\n",
       "      <th>funcionPediDiabe</th>\n",
       "      <th>edad</th>\n",
       "      <th>diabetes</th>\n",
       "    </tr>\n",
       "  </thead>\n",
       "  <tbody>\n",
       "    <tr>\n",
       "      <th>0</th>\n",
       "      <td>6</td>\n",
       "      <td>148</td>\n",
       "      <td>72</td>\n",
       "      <td>35</td>\n",
       "      <td>0</td>\n",
       "      <td>33.6</td>\n",
       "      <td>0.627</td>\n",
       "      <td>50</td>\n",
       "      <td>1</td>\n",
       "    </tr>\n",
       "    <tr>\n",
       "      <th>1</th>\n",
       "      <td>1</td>\n",
       "      <td>85</td>\n",
       "      <td>66</td>\n",
       "      <td>29</td>\n",
       "      <td>0</td>\n",
       "      <td>26.6</td>\n",
       "      <td>0.351</td>\n",
       "      <td>31</td>\n",
       "      <td>0</td>\n",
       "    </tr>\n",
       "    <tr>\n",
       "      <th>2</th>\n",
       "      <td>8</td>\n",
       "      <td>183</td>\n",
       "      <td>64</td>\n",
       "      <td>0</td>\n",
       "      <td>0</td>\n",
       "      <td>23.3</td>\n",
       "      <td>0.672</td>\n",
       "      <td>32</td>\n",
       "      <td>1</td>\n",
       "    </tr>\n",
       "    <tr>\n",
       "      <th>3</th>\n",
       "      <td>1</td>\n",
       "      <td>89</td>\n",
       "      <td>66</td>\n",
       "      <td>23</td>\n",
       "      <td>94</td>\n",
       "      <td>28.1</td>\n",
       "      <td>0.167</td>\n",
       "      <td>21</td>\n",
       "      <td>0</td>\n",
       "    </tr>\n",
       "    <tr>\n",
       "      <th>4</th>\n",
       "      <td>0</td>\n",
       "      <td>137</td>\n",
       "      <td>40</td>\n",
       "      <td>35</td>\n",
       "      <td>168</td>\n",
       "      <td>43.1</td>\n",
       "      <td>2.288</td>\n",
       "      <td>33</td>\n",
       "      <td>1</td>\n",
       "    </tr>\n",
       "  </tbody>\n",
       "</table>\n",
       "</div>"
      ],
      "text/plain": [
       "   nEmbarazos  concentracionGlucosa  presionArterialSistolica  pliegueCutaneo  \\\n",
       "0           6                   148                        72              35   \n",
       "1           1                    85                        66              29   \n",
       "2           8                   183                        64               0   \n",
       "3           1                    89                        66              23   \n",
       "4           0                   137                        40              35   \n",
       "\n",
       "   insulinaSerica   IMC  funcionPediDiabe  edad  diabetes  \n",
       "0               0  33.6             0.627    50         1  \n",
       "1               0  26.6             0.351    31         0  \n",
       "2               0  23.3             0.672    32         1  \n",
       "3              94  28.1             0.167    21         0  \n",
       "4             168  43.1             2.288    33         1  "
      ]
     },
     "metadata": {},
     "output_type": "display_data"
    }
   ],
   "source": [
    "df_base=pd.read_csv(\"pima-indians-diabetes.csv\")\n",
    "\n",
    "display(df_base.head(5))"
   ]
  },
  {
   "cell_type": "code",
   "execution_count": 4,
   "metadata": {},
   "outputs": [
    {
     "data": {
      "text/plain": [
       "(768, 9)"
      ]
     },
     "execution_count": 4,
     "metadata": {},
     "output_type": "execute_result"
    }
   ],
   "source": [
    "df_base.shape"
   ]
  },
  {
   "cell_type": "code",
   "execution_count": 5,
   "metadata": {},
   "outputs": [
    {
     "data": {
      "text/html": [
       "<div>\n",
       "<style scoped>\n",
       "    .dataframe tbody tr th:only-of-type {\n",
       "        vertical-align: middle;\n",
       "    }\n",
       "\n",
       "    .dataframe tbody tr th {\n",
       "        vertical-align: top;\n",
       "    }\n",
       "\n",
       "    .dataframe thead th {\n",
       "        text-align: right;\n",
       "    }\n",
       "</style>\n",
       "<table border=\"1\" class=\"dataframe\">\n",
       "  <thead>\n",
       "    <tr style=\"text-align: right;\">\n",
       "      <th></th>\n",
       "      <th>nEmbarazos</th>\n",
       "      <th>concentracionGlucosa</th>\n",
       "      <th>presionArterialSistolica</th>\n",
       "      <th>pliegueCutaneo</th>\n",
       "      <th>insulinaSerica</th>\n",
       "      <th>IMC</th>\n",
       "      <th>funcionPediDiabe</th>\n",
       "      <th>edad</th>\n",
       "      <th>diabetes</th>\n",
       "    </tr>\n",
       "  </thead>\n",
       "  <tbody>\n",
       "    <tr>\n",
       "      <th>0</th>\n",
       "      <td>6</td>\n",
       "      <td>148</td>\n",
       "      <td>72</td>\n",
       "      <td>35</td>\n",
       "      <td>0</td>\n",
       "      <td>33.6</td>\n",
       "      <td>0.627</td>\n",
       "      <td>50</td>\n",
       "      <td>1</td>\n",
       "    </tr>\n",
       "    <tr>\n",
       "      <th>2</th>\n",
       "      <td>8</td>\n",
       "      <td>183</td>\n",
       "      <td>64</td>\n",
       "      <td>0</td>\n",
       "      <td>0</td>\n",
       "      <td>23.3</td>\n",
       "      <td>0.672</td>\n",
       "      <td>32</td>\n",
       "      <td>1</td>\n",
       "    </tr>\n",
       "    <tr>\n",
       "      <th>4</th>\n",
       "      <td>0</td>\n",
       "      <td>137</td>\n",
       "      <td>40</td>\n",
       "      <td>35</td>\n",
       "      <td>168</td>\n",
       "      <td>43.1</td>\n",
       "      <td>2.288</td>\n",
       "      <td>33</td>\n",
       "      <td>1</td>\n",
       "    </tr>\n",
       "    <tr>\n",
       "      <th>6</th>\n",
       "      <td>3</td>\n",
       "      <td>78</td>\n",
       "      <td>50</td>\n",
       "      <td>32</td>\n",
       "      <td>88</td>\n",
       "      <td>31.0</td>\n",
       "      <td>0.248</td>\n",
       "      <td>26</td>\n",
       "      <td>1</td>\n",
       "    </tr>\n",
       "    <tr>\n",
       "      <th>8</th>\n",
       "      <td>2</td>\n",
       "      <td>197</td>\n",
       "      <td>70</td>\n",
       "      <td>45</td>\n",
       "      <td>543</td>\n",
       "      <td>30.5</td>\n",
       "      <td>0.158</td>\n",
       "      <td>53</td>\n",
       "      <td>1</td>\n",
       "    </tr>\n",
       "    <tr>\n",
       "      <th>...</th>\n",
       "      <td>...</td>\n",
       "      <td>...</td>\n",
       "      <td>...</td>\n",
       "      <td>...</td>\n",
       "      <td>...</td>\n",
       "      <td>...</td>\n",
       "      <td>...</td>\n",
       "      <td>...</td>\n",
       "      <td>...</td>\n",
       "    </tr>\n",
       "    <tr>\n",
       "      <th>755</th>\n",
       "      <td>1</td>\n",
       "      <td>128</td>\n",
       "      <td>88</td>\n",
       "      <td>39</td>\n",
       "      <td>110</td>\n",
       "      <td>36.5</td>\n",
       "      <td>1.057</td>\n",
       "      <td>37</td>\n",
       "      <td>1</td>\n",
       "    </tr>\n",
       "    <tr>\n",
       "      <th>757</th>\n",
       "      <td>0</td>\n",
       "      <td>123</td>\n",
       "      <td>72</td>\n",
       "      <td>0</td>\n",
       "      <td>0</td>\n",
       "      <td>36.3</td>\n",
       "      <td>0.258</td>\n",
       "      <td>52</td>\n",
       "      <td>1</td>\n",
       "    </tr>\n",
       "    <tr>\n",
       "      <th>759</th>\n",
       "      <td>6</td>\n",
       "      <td>190</td>\n",
       "      <td>92</td>\n",
       "      <td>0</td>\n",
       "      <td>0</td>\n",
       "      <td>35.5</td>\n",
       "      <td>0.278</td>\n",
       "      <td>66</td>\n",
       "      <td>1</td>\n",
       "    </tr>\n",
       "    <tr>\n",
       "      <th>761</th>\n",
       "      <td>9</td>\n",
       "      <td>170</td>\n",
       "      <td>74</td>\n",
       "      <td>31</td>\n",
       "      <td>0</td>\n",
       "      <td>44.0</td>\n",
       "      <td>0.403</td>\n",
       "      <td>43</td>\n",
       "      <td>1</td>\n",
       "    </tr>\n",
       "    <tr>\n",
       "      <th>766</th>\n",
       "      <td>1</td>\n",
       "      <td>126</td>\n",
       "      <td>60</td>\n",
       "      <td>0</td>\n",
       "      <td>0</td>\n",
       "      <td>30.1</td>\n",
       "      <td>0.349</td>\n",
       "      <td>47</td>\n",
       "      <td>1</td>\n",
       "    </tr>\n",
       "  </tbody>\n",
       "</table>\n",
       "<p>268 rows × 9 columns</p>\n",
       "</div>"
      ],
      "text/plain": [
       "     nEmbarazos  concentracionGlucosa  presionArterialSistolica  \\\n",
       "0             6                   148                        72   \n",
       "2             8                   183                        64   \n",
       "4             0                   137                        40   \n",
       "6             3                    78                        50   \n",
       "8             2                   197                        70   \n",
       "..          ...                   ...                       ...   \n",
       "755           1                   128                        88   \n",
       "757           0                   123                        72   \n",
       "759           6                   190                        92   \n",
       "761           9                   170                        74   \n",
       "766           1                   126                        60   \n",
       "\n",
       "     pliegueCutaneo  insulinaSerica   IMC  funcionPediDiabe  edad  diabetes  \n",
       "0                35               0  33.6             0.627    50         1  \n",
       "2                 0               0  23.3             0.672    32         1  \n",
       "4                35             168  43.1             2.288    33         1  \n",
       "6                32              88  31.0             0.248    26         1  \n",
       "8                45             543  30.5             0.158    53         1  \n",
       "..              ...             ...   ...               ...   ...       ...  \n",
       "755              39             110  36.5             1.057    37         1  \n",
       "757               0               0  36.3             0.258    52         1  \n",
       "759               0               0  35.5             0.278    66         1  \n",
       "761              31               0  44.0             0.403    43         1  \n",
       "766               0               0  30.1             0.349    47         1  \n",
       "\n",
       "[268 rows x 9 columns]"
      ]
     },
     "execution_count": 5,
     "metadata": {},
     "output_type": "execute_result"
    }
   ],
   "source": [
    "df_base[(df_base['diabetes']==1)]"
   ]
  },
  {
   "cell_type": "code",
   "execution_count": 6,
   "metadata": {},
   "outputs": [
    {
     "data": {
      "text/plain": [
       "nEmbarazos                    int64\n",
       "concentracionGlucosa          int64\n",
       "presionArterialSistolica      int64\n",
       "pliegueCutaneo                int64\n",
       "insulinaSerica                int64\n",
       "IMC                         float64\n",
       "funcionPediDiabe            float64\n",
       "edad                          int64\n",
       "diabetes                      int64\n",
       "dtype: object"
      ]
     },
     "execution_count": 6,
     "metadata": {},
     "output_type": "execute_result"
    }
   ],
   "source": [
    "df_base.dtypes"
   ]
  },
  {
   "cell_type": "markdown",
   "metadata": {},
   "source": [
    "# 2.- Análisis exploratorio de los datos\n",
    "## **2.1. Escriba el código que permita crear los histogramas de todas las variables:**"
   ]
  },
  {
   "cell_type": "code",
   "execution_count": 7,
   "metadata": {},
   "outputs": [
    {
     "data": {
      "image/png": "[encoded data removed]",
      "text/plain": [
       "<Figure size 2000x1000 with 9 Axes>"
      ]
     },
     "metadata": {},
     "output_type": "display_data"
    }
   ],
   "source": [
    "# Dibujar histogramas de todos los atributos\n",
    "plt.rcParams['figure.figsize'] = [20, 10];\n",
    "df_base.hist()\n",
    "plt.show()\n"
   ]
  },
  {
   "cell_type": "code",
   "execution_count": 8,
   "metadata": {},
   "outputs": [
    {
     "data": {
      "text/html": [
       "<div>\n",
       "<style scoped>\n",
       "    .dataframe tbody tr th:only-of-type {\n",
       "        vertical-align: middle;\n",
       "    }\n",
       "\n",
       "    .dataframe tbody tr th {\n",
       "        vertical-align: top;\n",
       "    }\n",
       "\n",
       "    .dataframe thead th {\n",
       "        text-align: right;\n",
       "    }\n",
       "</style>\n",
       "<table border=\"1\" class=\"dataframe\">\n",
       "  <thead>\n",
       "    <tr style=\"text-align: right;\">\n",
       "      <th></th>\n",
       "      <th>nEmbarazos</th>\n",
       "      <th>concentracionGlucosa</th>\n",
       "      <th>presionArterialSistolica</th>\n",
       "      <th>pliegueCutaneo</th>\n",
       "      <th>insulinaSerica</th>\n",
       "      <th>IMC</th>\n",
       "      <th>funcionPediDiabe</th>\n",
       "      <th>edad</th>\n",
       "      <th>diabetes</th>\n",
       "    </tr>\n",
       "  </thead>\n",
       "  <tbody>\n",
       "    <tr>\n",
       "      <th>count</th>\n",
       "      <td>768.000000</td>\n",
       "      <td>768.000000</td>\n",
       "      <td>768.000000</td>\n",
       "      <td>768.000000</td>\n",
       "      <td>768.000000</td>\n",
       "      <td>768.000000</td>\n",
       "      <td>768.000000</td>\n",
       "      <td>768.000000</td>\n",
       "      <td>768.000000</td>\n",
       "    </tr>\n",
       "    <tr>\n",
       "      <th>mean</th>\n",
       "      <td>3.845052</td>\n",
       "      <td>120.894531</td>\n",
       "      <td>69.105469</td>\n",
       "      <td>20.536458</td>\n",
       "      <td>79.799479</td>\n",
       "      <td>31.992578</td>\n",
       "      <td>0.471876</td>\n",
       "      <td>33.240885</td>\n",
       "      <td>0.348958</td>\n",
       "    </tr>\n",
       "    <tr>\n",
       "      <th>std</th>\n",
       "      <td>3.369578</td>\n",
       "      <td>31.972618</td>\n",
       "      <td>19.355807</td>\n",
       "      <td>15.952218</td>\n",
       "      <td>115.244002</td>\n",
       "      <td>7.884160</td>\n",
       "      <td>0.331329</td>\n",
       "      <td>11.760232</td>\n",
       "      <td>0.476951</td>\n",
       "    </tr>\n",
       "    <tr>\n",
       "      <th>min</th>\n",
       "      <td>0.000000</td>\n",
       "      <td>0.000000</td>\n",
       "      <td>0.000000</td>\n",
       "      <td>0.000000</td>\n",
       "      <td>0.000000</td>\n",
       "      <td>0.000000</td>\n",
       "      <td>0.078000</td>\n",
       "      <td>21.000000</td>\n",
       "      <td>0.000000</td>\n",
       "    </tr>\n",
       "    <tr>\n",
       "      <th>25%</th>\n",
       "      <td>1.000000</td>\n",
       "      <td>99.000000</td>\n",
       "      <td>62.000000</td>\n",
       "      <td>0.000000</td>\n",
       "      <td>0.000000</td>\n",
       "      <td>27.300000</td>\n",
       "      <td>0.243750</td>\n",
       "      <td>24.000000</td>\n",
       "      <td>0.000000</td>\n",
       "    </tr>\n",
       "    <tr>\n",
       "      <th>50%</th>\n",
       "      <td>3.000000</td>\n",
       "      <td>117.000000</td>\n",
       "      <td>72.000000</td>\n",
       "      <td>23.000000</td>\n",
       "      <td>30.500000</td>\n",
       "      <td>32.000000</td>\n",
       "      <td>0.372500</td>\n",
       "      <td>29.000000</td>\n",
       "      <td>0.000000</td>\n",
       "    </tr>\n",
       "    <tr>\n",
       "      <th>75%</th>\n",
       "      <td>6.000000</td>\n",
       "      <td>140.250000</td>\n",
       "      <td>80.000000</td>\n",
       "      <td>32.000000</td>\n",
       "      <td>127.250000</td>\n",
       "      <td>36.600000</td>\n",
       "      <td>0.626250</td>\n",
       "      <td>41.000000</td>\n",
       "      <td>1.000000</td>\n",
       "    </tr>\n",
       "    <tr>\n",
       "      <th>max</th>\n",
       "      <td>17.000000</td>\n",
       "      <td>199.000000</td>\n",
       "      <td>122.000000</td>\n",
       "      <td>99.000000</td>\n",
       "      <td>846.000000</td>\n",
       "      <td>67.100000</td>\n",
       "      <td>2.420000</td>\n",
       "      <td>81.000000</td>\n",
       "      <td>1.000000</td>\n",
       "    </tr>\n",
       "  </tbody>\n",
       "</table>\n",
       "</div>"
      ],
      "text/plain": [
       "       nEmbarazos  concentracionGlucosa  presionArterialSistolica  \\\n",
       "count  768.000000            768.000000                768.000000   \n",
       "mean     3.845052            120.894531                 69.105469   \n",
       "std      3.369578             31.972618                 19.355807   \n",
       "min      0.000000              0.000000                  0.000000   \n",
       "25%      1.000000             99.000000                 62.000000   \n",
       "50%      3.000000            117.000000                 72.000000   \n",
       "75%      6.000000            140.250000                 80.000000   \n",
       "max     17.000000            199.000000                122.000000   \n",
       "\n",
       "       pliegueCutaneo  insulinaSerica         IMC  funcionPediDiabe  \\\n",
       "count      768.000000      768.000000  768.000000        768.000000   \n",
       "mean        20.536458       79.799479   31.992578          0.471876   \n",
       "std         15.952218      115.244002    7.884160          0.331329   \n",
       "min          0.000000        0.000000    0.000000          0.078000   \n",
       "25%          0.000000        0.000000   27.300000          0.243750   \n",
       "50%         23.000000       30.500000   32.000000          0.372500   \n",
       "75%         32.000000      127.250000   36.600000          0.626250   \n",
       "max         99.000000      846.000000   67.100000          2.420000   \n",
       "\n",
       "             edad    diabetes  \n",
       "count  768.000000  768.000000  \n",
       "mean    33.240885    0.348958  \n",
       "std     11.760232    0.476951  \n",
       "min     21.000000    0.000000  \n",
       "25%     24.000000    0.000000  \n",
       "50%     29.000000    0.000000  \n",
       "75%     41.000000    1.000000  \n",
       "max     81.000000    1.000000  "
      ]
     },
     "execution_count": 8,
     "metadata": {},
     "output_type": "execute_result"
    }
   ],
   "source": [
    "df_base.describe()\n"
   ]
  },
  {
   "cell_type": "code",
   "execution_count": 9,
   "metadata": {},
   "outputs": [
    {
     "data": {
      "text/html": [
       "<div>\n",
       "<style scoped>\n",
       "    .dataframe tbody tr th:only-of-type {\n",
       "        vertical-align: middle;\n",
       "    }\n",
       "\n",
       "    .dataframe tbody tr th {\n",
       "        vertical-align: top;\n",
       "    }\n",
       "\n",
       "    .dataframe thead th {\n",
       "        text-align: right;\n",
       "    }\n",
       "</style>\n",
       "<table border=\"1\" class=\"dataframe\">\n",
       "  <thead>\n",
       "    <tr style=\"text-align: right;\">\n",
       "      <th></th>\n",
       "      <th>nEmbarazos</th>\n",
       "      <th>concentracionGlucosa</th>\n",
       "      <th>presionArterialSistolica</th>\n",
       "      <th>pliegueCutaneo</th>\n",
       "      <th>insulinaSerica</th>\n",
       "      <th>IMC</th>\n",
       "      <th>funcionPediDiabe</th>\n",
       "      <th>edad</th>\n",
       "      <th>diabetes</th>\n",
       "    </tr>\n",
       "  </thead>\n",
       "  <tbody>\n",
       "    <tr>\n",
       "      <th>0</th>\n",
       "      <td>6</td>\n",
       "      <td>148</td>\n",
       "      <td>72</td>\n",
       "      <td>35</td>\n",
       "      <td>0</td>\n",
       "      <td>33.6</td>\n",
       "      <td>0.627</td>\n",
       "      <td>50</td>\n",
       "      <td>1</td>\n",
       "    </tr>\n",
       "    <tr>\n",
       "      <th>1</th>\n",
       "      <td>1</td>\n",
       "      <td>85</td>\n",
       "      <td>66</td>\n",
       "      <td>29</td>\n",
       "      <td>0</td>\n",
       "      <td>26.6</td>\n",
       "      <td>0.351</td>\n",
       "      <td>31</td>\n",
       "      <td>0</td>\n",
       "    </tr>\n",
       "    <tr>\n",
       "      <th>2</th>\n",
       "      <td>8</td>\n",
       "      <td>183</td>\n",
       "      <td>64</td>\n",
       "      <td>0</td>\n",
       "      <td>0</td>\n",
       "      <td>23.3</td>\n",
       "      <td>0.672</td>\n",
       "      <td>32</td>\n",
       "      <td>1</td>\n",
       "    </tr>\n",
       "    <tr>\n",
       "      <th>3</th>\n",
       "      <td>1</td>\n",
       "      <td>89</td>\n",
       "      <td>66</td>\n",
       "      <td>23</td>\n",
       "      <td>94</td>\n",
       "      <td>28.1</td>\n",
       "      <td>0.167</td>\n",
       "      <td>21</td>\n",
       "      <td>0</td>\n",
       "    </tr>\n",
       "    <tr>\n",
       "      <th>4</th>\n",
       "      <td>0</td>\n",
       "      <td>137</td>\n",
       "      <td>40</td>\n",
       "      <td>35</td>\n",
       "      <td>168</td>\n",
       "      <td>43.1</td>\n",
       "      <td>2.288</td>\n",
       "      <td>33</td>\n",
       "      <td>1</td>\n",
       "    </tr>\n",
       "    <tr>\n",
       "      <th>5</th>\n",
       "      <td>5</td>\n",
       "      <td>116</td>\n",
       "      <td>74</td>\n",
       "      <td>0</td>\n",
       "      <td>0</td>\n",
       "      <td>25.6</td>\n",
       "      <td>0.201</td>\n",
       "      <td>30</td>\n",
       "      <td>0</td>\n",
       "    </tr>\n",
       "    <tr>\n",
       "      <th>6</th>\n",
       "      <td>3</td>\n",
       "      <td>78</td>\n",
       "      <td>50</td>\n",
       "      <td>32</td>\n",
       "      <td>88</td>\n",
       "      <td>31.0</td>\n",
       "      <td>0.248</td>\n",
       "      <td>26</td>\n",
       "      <td>1</td>\n",
       "    </tr>\n",
       "    <tr>\n",
       "      <th>7</th>\n",
       "      <td>10</td>\n",
       "      <td>115</td>\n",
       "      <td>0</td>\n",
       "      <td>0</td>\n",
       "      <td>0</td>\n",
       "      <td>35.3</td>\n",
       "      <td>0.134</td>\n",
       "      <td>29</td>\n",
       "      <td>0</td>\n",
       "    </tr>\n",
       "    <tr>\n",
       "      <th>8</th>\n",
       "      <td>2</td>\n",
       "      <td>197</td>\n",
       "      <td>70</td>\n",
       "      <td>45</td>\n",
       "      <td>543</td>\n",
       "      <td>30.5</td>\n",
       "      <td>0.158</td>\n",
       "      <td>53</td>\n",
       "      <td>1</td>\n",
       "    </tr>\n",
       "    <tr>\n",
       "      <th>9</th>\n",
       "      <td>8</td>\n",
       "      <td>125</td>\n",
       "      <td>96</td>\n",
       "      <td>0</td>\n",
       "      <td>0</td>\n",
       "      <td>0.0</td>\n",
       "      <td>0.232</td>\n",
       "      <td>54</td>\n",
       "      <td>1</td>\n",
       "    </tr>\n",
       "    <tr>\n",
       "      <th>10</th>\n",
       "      <td>4</td>\n",
       "      <td>110</td>\n",
       "      <td>92</td>\n",
       "      <td>0</td>\n",
       "      <td>0</td>\n",
       "      <td>37.6</td>\n",
       "      <td>0.191</td>\n",
       "      <td>30</td>\n",
       "      <td>0</td>\n",
       "    </tr>\n",
       "    <tr>\n",
       "      <th>11</th>\n",
       "      <td>10</td>\n",
       "      <td>168</td>\n",
       "      <td>74</td>\n",
       "      <td>0</td>\n",
       "      <td>0</td>\n",
       "      <td>38.0</td>\n",
       "      <td>0.537</td>\n",
       "      <td>34</td>\n",
       "      <td>1</td>\n",
       "    </tr>\n",
       "    <tr>\n",
       "      <th>12</th>\n",
       "      <td>10</td>\n",
       "      <td>139</td>\n",
       "      <td>80</td>\n",
       "      <td>0</td>\n",
       "      <td>0</td>\n",
       "      <td>27.1</td>\n",
       "      <td>1.441</td>\n",
       "      <td>57</td>\n",
       "      <td>0</td>\n",
       "    </tr>\n",
       "    <tr>\n",
       "      <th>13</th>\n",
       "      <td>1</td>\n",
       "      <td>189</td>\n",
       "      <td>60</td>\n",
       "      <td>23</td>\n",
       "      <td>846</td>\n",
       "      <td>30.1</td>\n",
       "      <td>0.398</td>\n",
       "      <td>59</td>\n",
       "      <td>1</td>\n",
       "    </tr>\n",
       "    <tr>\n",
       "      <th>14</th>\n",
       "      <td>5</td>\n",
       "      <td>166</td>\n",
       "      <td>72</td>\n",
       "      <td>19</td>\n",
       "      <td>175</td>\n",
       "      <td>25.8</td>\n",
       "      <td>0.587</td>\n",
       "      <td>51</td>\n",
       "      <td>1</td>\n",
       "    </tr>\n",
       "    <tr>\n",
       "      <th>15</th>\n",
       "      <td>7</td>\n",
       "      <td>100</td>\n",
       "      <td>0</td>\n",
       "      <td>0</td>\n",
       "      <td>0</td>\n",
       "      <td>30.0</td>\n",
       "      <td>0.484</td>\n",
       "      <td>32</td>\n",
       "      <td>1</td>\n",
       "    </tr>\n",
       "    <tr>\n",
       "      <th>16</th>\n",
       "      <td>0</td>\n",
       "      <td>118</td>\n",
       "      <td>84</td>\n",
       "      <td>47</td>\n",
       "      <td>230</td>\n",
       "      <td>45.8</td>\n",
       "      <td>0.551</td>\n",
       "      <td>31</td>\n",
       "      <td>1</td>\n",
       "    </tr>\n",
       "    <tr>\n",
       "      <th>17</th>\n",
       "      <td>7</td>\n",
       "      <td>107</td>\n",
       "      <td>74</td>\n",
       "      <td>0</td>\n",
       "      <td>0</td>\n",
       "      <td>29.6</td>\n",
       "      <td>0.254</td>\n",
       "      <td>31</td>\n",
       "      <td>1</td>\n",
       "    </tr>\n",
       "    <tr>\n",
       "      <th>18</th>\n",
       "      <td>1</td>\n",
       "      <td>103</td>\n",
       "      <td>30</td>\n",
       "      <td>38</td>\n",
       "      <td>83</td>\n",
       "      <td>43.3</td>\n",
       "      <td>0.183</td>\n",
       "      <td>33</td>\n",
       "      <td>0</td>\n",
       "    </tr>\n",
       "    <tr>\n",
       "      <th>19</th>\n",
       "      <td>1</td>\n",
       "      <td>115</td>\n",
       "      <td>70</td>\n",
       "      <td>30</td>\n",
       "      <td>96</td>\n",
       "      <td>34.6</td>\n",
       "      <td>0.529</td>\n",
       "      <td>32</td>\n",
       "      <td>1</td>\n",
       "    </tr>\n",
       "  </tbody>\n",
       "</table>\n",
       "</div>"
      ],
      "text/plain": [
       "    nEmbarazos  concentracionGlucosa  presionArterialSistolica  \\\n",
       "0            6                   148                        72   \n",
       "1            1                    85                        66   \n",
       "2            8                   183                        64   \n",
       "3            1                    89                        66   \n",
       "4            0                   137                        40   \n",
       "5            5                   116                        74   \n",
       "6            3                    78                        50   \n",
       "7           10                   115                         0   \n",
       "8            2                   197                        70   \n",
       "9            8                   125                        96   \n",
       "10           4                   110                        92   \n",
       "11          10                   168                        74   \n",
       "12          10                   139                        80   \n",
       "13           1                   189                        60   \n",
       "14           5                   166                        72   \n",
       "15           7                   100                         0   \n",
       "16           0                   118                        84   \n",
       "17           7                   107                        74   \n",
       "18           1                   103                        30   \n",
       "19           1                   115                        70   \n",
       "\n",
       "    pliegueCutaneo  insulinaSerica   IMC  funcionPediDiabe  edad  diabetes  \n",
       "0               35               0  33.6             0.627    50         1  \n",
       "1               29               0  26.6             0.351    31         0  \n",
       "2                0               0  23.3             0.672    32         1  \n",
       "3               23              94  28.1             0.167    21         0  \n",
       "4               35             168  43.1             2.288    33         1  \n",
       "5                0               0  25.6             0.201    30         0  \n",
       "6               32              88  31.0             0.248    26         1  \n",
       "7                0               0  35.3             0.134    29         0  \n",
       "8               45             543  30.5             0.158    53         1  \n",
       "9                0               0   0.0             0.232    54         1  \n",
       "10               0               0  37.6             0.191    30         0  \n",
       "11               0               0  38.0             0.537    34         1  \n",
       "12               0               0  27.1             1.441    57         0  \n",
       "13              23             846  30.1             0.398    59         1  \n",
       "14              19             175  25.8             0.587    51         1  \n",
       "15               0               0  30.0             0.484    32         1  \n",
       "16              47             230  45.8             0.551    31         1  \n",
       "17               0               0  29.6             0.254    31         1  \n",
       "18              38              83  43.3             0.183    33         0  \n",
       "19              30              96  34.6             0.529    32         1  "
      ]
     },
     "execution_count": 9,
     "metadata": {},
     "output_type": "execute_result"
    }
   ],
   "source": [
    "df_base.head(20)"
   ]
  },
  {
   "cell_type": "code",
   "execution_count": 10,
   "metadata": {},
   "outputs": [
    {
     "data": {
      "image/png": "[encoded data removed]",
      "text/plain": [
       "<Figure size 2000x1000 with 2 Axes>"
      ]
     },
     "metadata": {},
     "output_type": "display_data"
    }
   ],
   "source": [
    "import seaborn as sns\n",
    "import matplotlib.pyplot as plt\n",
    "\n",
    "corr= df_base.corr()\n",
    "ax = sns.heatmap(\n",
    "    corr, \n",
    "    vmin=-1, vmax=1, center=0,\n",
    "    cmap=sns.diverging_palette(20, 220, n=200),\n",
    "    square=True\n",
    ")\n",
    "ax.set_xticklabels(\n",
    "    ax.get_xticklabels(),\n",
    "    rotation=45,\n",
    "    horizontalalignment='right'\n",
    ");"
   ]
  },
  {
   "cell_type": "markdown",
   "metadata": {},
   "source": [
    "# 3.- Tratamiento de missing. "
   ]
  },
  {
   "cell_type": "markdown",
   "metadata": {},
   "source": [
    "Antes de realizar cualquier evaluación sobre los datos es importante siempre realizar un tratamiento previo con el fin de abordar el problema de los datos faltantes. Se citan algunos ejemplos: \n",
    "* Si la cantidad de datos faltantes es muy grande se recomienda borrar estas variables.\n",
    "* Si existe una cantidad pequeña de filas con datos faltantes en sus variables se puede optar por borrarlas.\n",
    "* Para variables categóricas se puede agregar un estado adicional que describa este factor.\n",
    "* Se puede llenar los datos faltantes con la media, mediana o moda de la variable tanto para variables numéricas o categóricas.\n",
    "* Para variables categóricas, se puede optar por una asignación aleatoria de categorías escogiendo aquellas que se encuentren presentes en esa variable, tratado de buscar que se encuentren uniformemente distribuidas.\n",
    "* En ocasiones no existen valores faltantes o nulos, existen valores en cero que realmente están reflejando datos faltantes. \n"
   ]
  },
  {
   "cell_type": "markdown",
   "metadata": {},
   "source": [
    "## Se obtiene las columnas que tienen datos faltantes."
   ]
  },
  {
   "cell_type": "code",
   "execution_count": 11,
   "metadata": {},
   "outputs": [
    {
     "data": {
      "text/plain": [
       "Series([], dtype: int64)"
      ]
     },
     "metadata": {},
     "output_type": "display_data"
    }
   ],
   "source": [
    "col_total_nulos = df_base.isnull().sum()\n",
    "serie_col_nombres = col_total_nulos[col_total_nulos > 0]\n",
    "display(serie_col_nombres)"
   ]
  },
  {
   "cell_type": "markdown",
   "metadata": {},
   "source": [
    "No existen valores faltantes"
   ]
  },
  {
   "cell_type": "markdown",
   "metadata": {},
   "source": [
    "## Revisar valores en cero"
   ]
  },
  {
   "cell_type": "markdown",
   "metadata": {},
   "source": [
    "Si observamos el resultado del describe del análisis exploratorio de los datos, podemos ver que hay muchas columnas con valor mínimo en cero. Y no tiene mucho sentido, así que se trata de valores faltantes. Las siguientes columnas no deben tener valor en cero.\n",
    "\n",
    "* Concentración de Glucosa\n",
    "* Presión arterial diastólica\n",
    "* Pliegue cutáneo en triceps\n",
    "* Insulina sérica\n",
    "* Indice de Masa Corporal IMC."
   ]
  },
  {
   "cell_type": "markdown",
   "metadata": {},
   "source": [
    "Si vemos las 20 primeras filas del análisis exploratorio de los datos, podemos ver ceros en la columna 3, 4 y 5. Contemos ahora los ceros que existen en cada columna del dataset.\n",
    "### Sumemos los ceros por columna"
   ]
  },
  {
   "cell_type": "code",
   "execution_count": 12,
   "metadata": {},
   "outputs": [
    {
     "data": {
      "text/plain": [
       "nEmbarazos                  111\n",
       "concentracionGlucosa          5\n",
       "presionArterialSistolica     35\n",
       "pliegueCutaneo              227\n",
       "insulinaSerica              374\n",
       "IMC                          11\n",
       "funcionPediDiabe              0\n",
       "edad                          0\n",
       "diabetes                    500\n",
       "dtype: int64"
      ]
     },
     "execution_count": 12,
     "metadata": {},
     "output_type": "execute_result"
    }
   ],
   "source": [
    "(df_base==0).sum(axis=0)"
   ]
  },
  {
   "cell_type": "markdown",
   "metadata": {},
   "source": [
    "Podemos ver que las columnas 2,3 y 6 tienen pocas filas con valores en cero. Pero las columnas 4 y 5 casi la mitad de los datos están en cero. Así que necesitaremos diferentes estrategias para poder llenar los valores faltantes. "
   ]
  },
  {
   "cell_type": "markdown",
   "metadata": {},
   "source": [
    "# 4.- Manejo de valores faltantes"
   ]
  },
  {
   "cell_type": "markdown",
   "metadata": {},
   "source": [
    "## **4.1. Escriba el código que permita reemplazar ceros con valores 'NAN':**"
   ]
  },
  {
   "cell_type": "code",
   "execution_count": 13,
   "metadata": {},
   "outputs": [
    {
     "name": "stdout",
     "output_type": "stream",
     "text": [
      "nEmbarazos                    0\n",
      "concentracionGlucosa          5\n",
      "presionArterialSistolica     35\n",
      "pliegueCutaneo              227\n",
      "insulinaSerica              374\n",
      "IMC                          11\n",
      "funcionPediDiabe              0\n",
      "edad                          0\n",
      "diabetes                      0\n",
      "dtype: int64\n"
     ]
    }
   ],
   "source": [
    "# Reemplazar '0' con valores 'nan' para los atributos: concentracionGlucosa, presionArterialSistolica, pliegueCutaneo, insulinaSerica e IMC\n",
    "from numpy import nan\n",
    "cols=['concentracionGlucosa','presionArterialSistolica','pliegueCutaneo','insulinaSerica','IMC'] \n",
    "df_base[cols] = df_base[cols].replace({'0':np.nan, 0:np.nan})\n",
    "# Contar el número de nan por columna\n",
    "print(df_base.isnull().sum())"
   ]
  },
  {
   "cell_type": "markdown",
   "metadata": {},
   "source": [
    "## Eliminar filas con valores faltantes"
   ]
  },
  {
   "cell_type": "markdown",
   "metadata": {},
   "source": [
    "La estrategia más sencilla para manejar los datos faltantes es eliminar los registros que contienen un valor perdido.\n",
    "\n",
    "Podemos hacer esto creando un nuevo Pandas DataFrame con las filas que contienen los valores faltantes\n",
    "\n",
    "Pandas proporciona la función dropna () que se puede utilizar para eliminar columnas o filas con datos faltantes. Podemos usar dropna () para eliminar todas las filas con datos faltantes, de la siguiente manera:"
   ]
  },
  {
   "cell_type": "code",
   "execution_count": 14,
   "metadata": {},
   "outputs": [
    {
     "name": "stdout",
     "output_type": "stream",
     "text": [
      "(768, 9)\n"
     ]
    }
   ],
   "source": [
    "from numpy import nan\n",
    "df_base_missing_dropn=df_base.copy()\n",
    "# Revisar cuántas filas y columnas tiene df_base_missing_dropn\n",
    "print(df_base_missing_dropn.shape)\n"
   ]
  },
  {
   "cell_type": "markdown",
   "metadata": {},
   "source": [
    "## **4.2. Escriba el código que permita eliminar filas con valores faltantes:**"
   ]
  },
  {
   "cell_type": "code",
   "execution_count": 23,
   "metadata": {},
   "outputs": [
    {
     "name": "stdout",
     "output_type": "stream",
     "text": [
      "Valores nulos antes de dropna()\n",
      "nEmbarazos                    0\n",
      "concentracionGlucosa          5\n",
      "presionArterialSistolica     35\n",
      "pliegueCutaneo              227\n",
      "insulinaSerica              374\n",
      "IMC                          11\n",
      "funcionPediDiabe              0\n",
      "edad                          0\n",
      "diabetes                      0\n",
      "dtype: int64\n",
      "\n",
      "Valores nulos después de dropna()\n",
      "nEmbarazos                  0\n",
      "concentracionGlucosa        0\n",
      "presionArterialSistolica    0\n",
      "pliegueCutaneo              0\n",
      "insulinaSerica              0\n",
      "IMC                         0\n",
      "funcionPediDiabe            0\n",
      "edad                        0\n",
      "diabetes                    0\n",
      "dtype: int64\n",
      "\n"
     ]
    }
   ],
   "source": [
    "# crea copia de df_base\n",
    "df_base_delete_rows_missing_values = df_base.copy()\n",
    "\n",
    "# se obtienen los valores nulos antes de dropna()\n",
    "print(\"Valores nulos antes de dropna()\", end='\\n')\n",
    "print(df_base_delete_rows_missing_values.isnull().sum(), end='\\n\\n')\n",
    "\n",
    "# Eliminar filas con valores faltantes\n",
    "df_base_delete_rows_missing_values = df_base_delete_rows_missing_values.dropna()\n",
    "\n",
    "# se obtienen los valores nulos después del dropna()\n",
    "print(\"Valores nulos después de dropna()\", end='\\n')\n",
    "print(df_base_delete_rows_missing_values.isnull().sum(), end='\\n\\n')"
   ]
  },
  {
   "cell_type": "markdown",
   "metadata": {},
   "source": [
    "## Eliminar columnas con un % de valores faltantes\n",
    "Ahora eliminemos aquellas columnas que tienen un % de nulos mayor a un parámetro definido previamente."
   ]
  },
  {
   "cell_type": "code",
   "execution_count": 15,
   "metadata": {},
   "outputs": [],
   "source": [
    "df_base_missing_dropnColumns=df_base.copy()\n",
    "perc = 25.0 # mayor al 25% de valores faltantes\n",
    "min_count =  int(((100-perc)/100)*df_base_missing_dropnColumns.shape[0] + 1)\n",
    "df_base_missing_dropnColumns = df_base_missing_dropnColumns.dropna( axis=1, \n",
    "                    thresh=min_count)"
   ]
  },
  {
   "cell_type": "code",
   "execution_count": 16,
   "metadata": {},
   "outputs": [
    {
     "data": {
      "text/plain": [
       "(768, 7)"
      ]
     },
     "execution_count": 16,
     "metadata": {},
     "output_type": "execute_result"
    }
   ],
   "source": [
    "df_base_missing_dropnColumns.shape"
   ]
  },
  {
   "cell_type": "code",
   "execution_count": 17,
   "metadata": {},
   "outputs": [
    {
     "data": {
      "text/html": [
       "<div>\n",
       "<style scoped>\n",
       "    .dataframe tbody tr th:only-of-type {\n",
       "        vertical-align: middle;\n",
       "    }\n",
       "\n",
       "    .dataframe tbody tr th {\n",
       "        vertical-align: top;\n",
       "    }\n",
       "\n",
       "    .dataframe thead th {\n",
       "        text-align: right;\n",
       "    }\n",
       "</style>\n",
       "<table border=\"1\" class=\"dataframe\">\n",
       "  <thead>\n",
       "    <tr style=\"text-align: right;\">\n",
       "      <th></th>\n",
       "      <th>nEmbarazos</th>\n",
       "      <th>concentracionGlucosa</th>\n",
       "      <th>presionArterialSistolica</th>\n",
       "      <th>IMC</th>\n",
       "      <th>funcionPediDiabe</th>\n",
       "      <th>edad</th>\n",
       "      <th>diabetes</th>\n",
       "    </tr>\n",
       "  </thead>\n",
       "  <tbody>\n",
       "    <tr>\n",
       "      <th>0</th>\n",
       "      <td>6</td>\n",
       "      <td>148.0</td>\n",
       "      <td>72.0</td>\n",
       "      <td>33.6</td>\n",
       "      <td>0.627</td>\n",
       "      <td>50</td>\n",
       "      <td>1</td>\n",
       "    </tr>\n",
       "    <tr>\n",
       "      <th>1</th>\n",
       "      <td>1</td>\n",
       "      <td>85.0</td>\n",
       "      <td>66.0</td>\n",
       "      <td>26.6</td>\n",
       "      <td>0.351</td>\n",
       "      <td>31</td>\n",
       "      <td>0</td>\n",
       "    </tr>\n",
       "    <tr>\n",
       "      <th>2</th>\n",
       "      <td>8</td>\n",
       "      <td>183.0</td>\n",
       "      <td>64.0</td>\n",
       "      <td>23.3</td>\n",
       "      <td>0.672</td>\n",
       "      <td>32</td>\n",
       "      <td>1</td>\n",
       "    </tr>\n",
       "    <tr>\n",
       "      <th>3</th>\n",
       "      <td>1</td>\n",
       "      <td>89.0</td>\n",
       "      <td>66.0</td>\n",
       "      <td>28.1</td>\n",
       "      <td>0.167</td>\n",
       "      <td>21</td>\n",
       "      <td>0</td>\n",
       "    </tr>\n",
       "    <tr>\n",
       "      <th>4</th>\n",
       "      <td>0</td>\n",
       "      <td>137.0</td>\n",
       "      <td>40.0</td>\n",
       "      <td>43.1</td>\n",
       "      <td>2.288</td>\n",
       "      <td>33</td>\n",
       "      <td>1</td>\n",
       "    </tr>\n",
       "    <tr>\n",
       "      <th>5</th>\n",
       "      <td>5</td>\n",
       "      <td>116.0</td>\n",
       "      <td>74.0</td>\n",
       "      <td>25.6</td>\n",
       "      <td>0.201</td>\n",
       "      <td>30</td>\n",
       "      <td>0</td>\n",
       "    </tr>\n",
       "    <tr>\n",
       "      <th>6</th>\n",
       "      <td>3</td>\n",
       "      <td>78.0</td>\n",
       "      <td>50.0</td>\n",
       "      <td>31.0</td>\n",
       "      <td>0.248</td>\n",
       "      <td>26</td>\n",
       "      <td>1</td>\n",
       "    </tr>\n",
       "    <tr>\n",
       "      <th>7</th>\n",
       "      <td>10</td>\n",
       "      <td>115.0</td>\n",
       "      <td>NaN</td>\n",
       "      <td>35.3</td>\n",
       "      <td>0.134</td>\n",
       "      <td>29</td>\n",
       "      <td>0</td>\n",
       "    </tr>\n",
       "    <tr>\n",
       "      <th>8</th>\n",
       "      <td>2</td>\n",
       "      <td>197.0</td>\n",
       "      <td>70.0</td>\n",
       "      <td>30.5</td>\n",
       "      <td>0.158</td>\n",
       "      <td>53</td>\n",
       "      <td>1</td>\n",
       "    </tr>\n",
       "    <tr>\n",
       "      <th>9</th>\n",
       "      <td>8</td>\n",
       "      <td>125.0</td>\n",
       "      <td>96.0</td>\n",
       "      <td>NaN</td>\n",
       "      <td>0.232</td>\n",
       "      <td>54</td>\n",
       "      <td>1</td>\n",
       "    </tr>\n",
       "    <tr>\n",
       "      <th>10</th>\n",
       "      <td>4</td>\n",
       "      <td>110.0</td>\n",
       "      <td>92.0</td>\n",
       "      <td>37.6</td>\n",
       "      <td>0.191</td>\n",
       "      <td>30</td>\n",
       "      <td>0</td>\n",
       "    </tr>\n",
       "    <tr>\n",
       "      <th>11</th>\n",
       "      <td>10</td>\n",
       "      <td>168.0</td>\n",
       "      <td>74.0</td>\n",
       "      <td>38.0</td>\n",
       "      <td>0.537</td>\n",
       "      <td>34</td>\n",
       "      <td>1</td>\n",
       "    </tr>\n",
       "    <tr>\n",
       "      <th>12</th>\n",
       "      <td>10</td>\n",
       "      <td>139.0</td>\n",
       "      <td>80.0</td>\n",
       "      <td>27.1</td>\n",
       "      <td>1.441</td>\n",
       "      <td>57</td>\n",
       "      <td>0</td>\n",
       "    </tr>\n",
       "    <tr>\n",
       "      <th>13</th>\n",
       "      <td>1</td>\n",
       "      <td>189.0</td>\n",
       "      <td>60.0</td>\n",
       "      <td>30.1</td>\n",
       "      <td>0.398</td>\n",
       "      <td>59</td>\n",
       "      <td>1</td>\n",
       "    </tr>\n",
       "    <tr>\n",
       "      <th>14</th>\n",
       "      <td>5</td>\n",
       "      <td>166.0</td>\n",
       "      <td>72.0</td>\n",
       "      <td>25.8</td>\n",
       "      <td>0.587</td>\n",
       "      <td>51</td>\n",
       "      <td>1</td>\n",
       "    </tr>\n",
       "    <tr>\n",
       "      <th>15</th>\n",
       "      <td>7</td>\n",
       "      <td>100.0</td>\n",
       "      <td>NaN</td>\n",
       "      <td>30.0</td>\n",
       "      <td>0.484</td>\n",
       "      <td>32</td>\n",
       "      <td>1</td>\n",
       "    </tr>\n",
       "    <tr>\n",
       "      <th>16</th>\n",
       "      <td>0</td>\n",
       "      <td>118.0</td>\n",
       "      <td>84.0</td>\n",
       "      <td>45.8</td>\n",
       "      <td>0.551</td>\n",
       "      <td>31</td>\n",
       "      <td>1</td>\n",
       "    </tr>\n",
       "    <tr>\n",
       "      <th>17</th>\n",
       "      <td>7</td>\n",
       "      <td>107.0</td>\n",
       "      <td>74.0</td>\n",
       "      <td>29.6</td>\n",
       "      <td>0.254</td>\n",
       "      <td>31</td>\n",
       "      <td>1</td>\n",
       "    </tr>\n",
       "    <tr>\n",
       "      <th>18</th>\n",
       "      <td>1</td>\n",
       "      <td>103.0</td>\n",
       "      <td>30.0</td>\n",
       "      <td>43.3</td>\n",
       "      <td>0.183</td>\n",
       "      <td>33</td>\n",
       "      <td>0</td>\n",
       "    </tr>\n",
       "    <tr>\n",
       "      <th>19</th>\n",
       "      <td>1</td>\n",
       "      <td>115.0</td>\n",
       "      <td>70.0</td>\n",
       "      <td>34.6</td>\n",
       "      <td>0.529</td>\n",
       "      <td>32</td>\n",
       "      <td>1</td>\n",
       "    </tr>\n",
       "  </tbody>\n",
       "</table>\n",
       "</div>"
      ],
      "text/plain": [
       "    nEmbarazos  concentracionGlucosa  presionArterialSistolica   IMC  \\\n",
       "0            6                 148.0                      72.0  33.6   \n",
       "1            1                  85.0                      66.0  26.6   \n",
       "2            8                 183.0                      64.0  23.3   \n",
       "3            1                  89.0                      66.0  28.1   \n",
       "4            0                 137.0                      40.0  43.1   \n",
       "5            5                 116.0                      74.0  25.6   \n",
       "6            3                  78.0                      50.0  31.0   \n",
       "7           10                 115.0                       NaN  35.3   \n",
       "8            2                 197.0                      70.0  30.5   \n",
       "9            8                 125.0                      96.0   NaN   \n",
       "10           4                 110.0                      92.0  37.6   \n",
       "11          10                 168.0                      74.0  38.0   \n",
       "12          10                 139.0                      80.0  27.1   \n",
       "13           1                 189.0                      60.0  30.1   \n",
       "14           5                 166.0                      72.0  25.8   \n",
       "15           7                 100.0                       NaN  30.0   \n",
       "16           0                 118.0                      84.0  45.8   \n",
       "17           7                 107.0                      74.0  29.6   \n",
       "18           1                 103.0                      30.0  43.3   \n",
       "19           1                 115.0                      70.0  34.6   \n",
       "\n",
       "    funcionPediDiabe  edad  diabetes  \n",
       "0              0.627    50         1  \n",
       "1              0.351    31         0  \n",
       "2              0.672    32         1  \n",
       "3              0.167    21         0  \n",
       "4              2.288    33         1  \n",
       "5              0.201    30         0  \n",
       "6              0.248    26         1  \n",
       "7              0.134    29         0  \n",
       "8              0.158    53         1  \n",
       "9              0.232    54         1  \n",
       "10             0.191    30         0  \n",
       "11             0.537    34         1  \n",
       "12             1.441    57         0  \n",
       "13             0.398    59         1  \n",
       "14             0.587    51         1  \n",
       "15             0.484    32         1  \n",
       "16             0.551    31         1  \n",
       "17             0.254    31         1  \n",
       "18             0.183    33         0  \n",
       "19             0.529    32         1  "
      ]
     },
     "execution_count": 17,
     "metadata": {},
     "output_type": "execute_result"
    }
   ],
   "source": [
    "df_base_missing_dropnColumns.head(20)\n",
    "#Se elimina Insulina y pliegue"
   ]
  },
  {
   "cell_type": "markdown",
   "metadata": {},
   "source": [
    "## Reemplazar valores faltantes con la media\n",
    "## **4.3. Escriba el código que permita reemplazar valores faltantes con la media:**"
   ]
  },
  {
   "cell_type": "code",
   "execution_count": 18,
   "metadata": {},
   "outputs": [],
   "source": [
    "df_base_missing_mean=df_base.copy()\n"
   ]
  },
  {
   "cell_type": "code",
   "execution_count": 24,
   "metadata": {},
   "outputs": [
    {
     "name": "stdout",
     "output_type": "stream",
     "text": [
      "Valores nulos antes\n",
      "nEmbarazos                    0\n",
      "concentracionGlucosa          5\n",
      "presionArterialSistolica     35\n",
      "pliegueCutaneo              227\n",
      "insulinaSerica              374\n",
      "IMC                          11\n",
      "funcionPediDiabe              0\n",
      "edad                          0\n",
      "diabetes                      0\n",
      "dtype: int64\n",
      "\n",
      "Verificación de datos faltantes : 0\n",
      "Valores nulos después\n",
      "nEmbarazos                  0\n",
      "concentracionGlucosa        0\n",
      "presionArterialSistolica    0\n",
      "pliegueCutaneo              0\n",
      "insulinaSerica              0\n",
      "IMC                         0\n",
      "funcionPediDiabe            0\n",
      "edad                        0\n",
      "diabetes                    0\n",
      "dtype: int64\n",
      "\n"
     ]
    }
   ],
   "source": [
    "# crea copia de df_base\n",
    "df_base_missing_mean=df_base.copy()\n",
    "\n",
    "# se obtienen los valores faltantes antes de reemplazar con la media\n",
    "print(\"Valores nulos antes\", end='\\n')\n",
    "print(df_base_missing_mean.isnull().sum(), end='\\n\\n')\n",
    "\n",
    "# Reemplazar los valores faltantes con la media de la columna correspondiente\n",
    "df_base_missing_mean.fillna(df_base_missing_mean.mean(), inplace=True)\n",
    "\n",
    "# Verificación de datos faltantes\n",
    "print('Verificación de datos faltantes : {0}'.format(df_base_missing_mean.isnull().sum().max()))\n",
    "\n",
    "# se obtienen los valores faltantes después de reemplazar con la media\n",
    "print(\"Valores nulos después\", end='\\n')\n",
    "print(df_base_missing_mean.isnull().sum(), end='\\n\\n')"
   ]
  },
  {
   "cell_type": "markdown",
   "metadata": {},
   "source": [
    "## Reemplazar valores faltantes con la moda\n",
    "## **4.4. Escriba el código que permita reemplazar valores faltantes con la moda:**"
   ]
  },
  {
   "cell_type": "code",
   "execution_count": 25,
   "metadata": {},
   "outputs": [
    {
     "name": "stdout",
     "output_type": "stream",
     "text": [
      "Valores nulos antes\n",
      "nEmbarazos                    0\n",
      "concentracionGlucosa          5\n",
      "presionArterialSistolica     35\n",
      "pliegueCutaneo              227\n",
      "insulinaSerica              374\n",
      "IMC                          11\n",
      "funcionPediDiabe              0\n",
      "edad                          0\n",
      "diabetes                      0\n",
      "dtype: int64\n",
      "\n",
      "Verificación de datos faltantes : 0\n",
      "Valores nulos después\n",
      "nEmbarazos                  0\n",
      "concentracionGlucosa        0\n",
      "presionArterialSistolica    0\n",
      "pliegueCutaneo              0\n",
      "insulinaSerica              0\n",
      "IMC                         0\n",
      "funcionPediDiabe            0\n",
      "edad                        0\n",
      "diabetes                    0\n",
      "dtype: int64\n",
      "\n"
     ]
    }
   ],
   "source": [
    "df_base_missing_mode=df_base.copy()\n",
    "\n",
    "# se obtienen los valores faltantes antes de reemplazar con la moda\n",
    "print(\"Valores nulos antes\", end='\\n')\n",
    "print(df_base_missing_mode.isnull().sum(), end='\\n\\n')\n",
    "\n",
    "for column in df_base_missing_mode.columns:\n",
    "    mode_value = df_base_missing_mode[column].mode()[0]  # Obtener la moda de la columna\n",
    "    df_base_missing_mode[column].fillna(mode_value, inplace=True)\n",
    "\n",
    "print('Verificación de datos faltantes : {0}'.format(df_base_missing_mode.isnull().sum().max()))\n",
    "\n",
    "# se obtienen los valores faltantes después de reemplazar con la moda\n",
    "print(\"Valores nulos después\", end='\\n')\n",
    "print(df_base_missing_mode.isnull().sum(), end='\\n\\n')"
   ]
  },
  {
   "cell_type": "markdown",
   "metadata": {},
   "source": [
    "## Reemplazar valores faltantes con una función de interpolación, usando método lineal\n",
    "## **4.5. Escriba el código que permita reemplazar valores faltantes utilizando interpolación lineal:**"
   ]
  },
  {
   "cell_type": "code",
   "execution_count": 26,
   "metadata": {},
   "outputs": [
    {
     "name": "stdout",
     "output_type": "stream",
     "text": [
      "Valores nulos antes\n",
      "nEmbarazos                    0\n",
      "concentracionGlucosa          5\n",
      "presionArterialSistolica     35\n",
      "pliegueCutaneo              227\n",
      "insulinaSerica              374\n",
      "IMC                          11\n",
      "funcionPediDiabe              0\n",
      "edad                          0\n",
      "diabetes                      0\n",
      "dtype: int64\n",
      "\n"
     ]
    },
    {
     "data": {
      "text/plain": [
       "'Verificación de datos faltantes : 3'"
      ]
     },
     "metadata": {},
     "output_type": "display_data"
    },
    {
     "name": "stdout",
     "output_type": "stream",
     "text": [
      "nEmbarazos                  0\n",
      "concentracionGlucosa        0\n",
      "presionArterialSistolica    0\n",
      "pliegueCutaneo              0\n",
      "insulinaSerica              3\n",
      "IMC                         0\n",
      "funcionPediDiabe            0\n",
      "edad                        0\n",
      "diabetes                    0\n",
      "dtype: int64\n",
      "Valores nulos después\n",
      "nEmbarazos                  0\n",
      "concentracionGlucosa        0\n",
      "presionArterialSistolica    0\n",
      "pliegueCutaneo              0\n",
      "insulinaSerica              3\n",
      "IMC                         0\n",
      "funcionPediDiabe            0\n",
      "edad                        0\n",
      "diabetes                    0\n",
      "dtype: int64\n",
      "\n"
     ]
    }
   ],
   "source": [
    "# se crea copia de df_base\n",
    "df_base_missing_interpo=df_base.copy()\n",
    "\n",
    "# se obtienen los valores faltantes antes de reemplazar con la función de interpolación\n",
    "print(\"Valores nulos antes\", end='\\n')\n",
    "print(df_base_missing_interpo.isnull().sum(), end='\\n\\n')\n",
    "\n",
    "df_base_missing_interpo=df_base_missing_interpo.interpolate(method ='linear', limit_direction ='forward')\n",
    "display('Verificación de datos faltantes : {0}'.format(df_base_missing_interpo.isnull().sum().max()))\n",
    "\n",
    "# muestra los valores null de df_base_interpolate\n",
    "print(df_base_missing_interpo.isnull().sum())\n",
    "\n",
    "# se obtienen los valores faltantes después de reemplazar con la función de interpolación\n",
    "print(\"Valores nulos después\", end='\\n')\n",
    "print(df_base_missing_interpo.isnull().sum(), end='\\n\\n')"
   ]
  },
  {
   "cell_type": "markdown",
   "metadata": {},
   "source": [
    "# 5.- Hallar todas las correlaciones existentes entre las variables numéricas del conjunto de datos.\n",
    "\n",
    "## **5.1. Escriba el código que permita calcular las correlaciones entre las variables del dataset:**\n",
    "\n",
    "## **5.2. Dibuje un mapa de calor donde se puedan ver las correlaciones:**"
   ]
  },
  {
   "cell_type": "code",
   "execution_count": 30,
   "metadata": {},
   "outputs": [
    {
     "name": "stdout",
     "output_type": "stream",
     "text": [
      "La correlación entre IMC y pliegueCutaneo es: 0.6482139430923206\n"
     ]
    },
    {
     "data": {
      "image/png": "[encoded data removed]",
      "text/plain": [
       "<Figure size 1000x800 with 2 Axes>"
      ]
     },
     "metadata": {},
     "output_type": "display_data"
    }
   ],
   "source": [
    "# Calcular la correlación entre IMC y pliegueCutaneo\n",
    "correlate = df_base['IMC'].corr(df_base['pliegueCutaneo'])\n",
    "\n",
    "# Mostrar el valor de la correlación\n",
    "# df_base.corr()\n",
    "print(f'La correlación entre IMC y pliegueCutaneo es: {correlate}')\n",
    "plt.figure(figsize=(10,8))\n",
    "sns.heatmap(corr, annot=True, cmap='coolwarm', linewidths=0.5)\n",
    "plt.title('Correlation Matrix')\n",
    "plt.show()"
   ]
  },
  {
   "cell_type": "markdown",
   "metadata": {},
   "source": [
    "# 6.- Aplicar Árboles de Decisión y Random Forest al dataframe donde se eliminaron todas las filas con valores faltantes"
   ]
  },
  {
   "cell_type": "markdown",
   "metadata": {},
   "source": [
    "### Determinar el conjunto de modelización y el de validación\n",
    "* Se segmenta los datos en dos conjuntos uno de entrenamiento con el 80% y de prueba 20% del total de datos respectivamente."
   ]
  },
  {
   "cell_type": "code",
   "execution_count": 21,
   "metadata": {},
   "outputs": [],
   "source": [
    "X = df_base_missing_dropn.drop(columns = ['diabetes']).copy()\n",
    "y = df_base_missing_dropn['diabetes']\n",
    "\n",
    "# In the first step we will split the data in training and remaining dataset\n",
    "train_x,test_x,train_y,test_y = train_test_split(X,y, train_size=0.8, random_state=semilla_aleatoria)\n"
   ]
  },
  {
   "cell_type": "markdown",
   "metadata": {},
   "source": [
    "## 6.1. Pasos para aplicar árboles \n",
    "## **Escriba el código que permite entrenar un árbol de decisión con el dataset donde se eliminaron las filas con valores faltantes:**"
   ]
  },
  {
   "cell_type": "code",
   "execution_count": 31,
   "metadata": {},
   "outputs": [
    {
     "ename": "NameError",
     "evalue": "name 'accuracy_score' is not defined",
     "output_type": "error",
     "traceback": [
      "\u001b[0;31m---------------------------------------------------------------------------\u001b[0m",
      "\u001b[0;31mNameError\u001b[0m                                 Traceback (most recent call last)",
      "Cell \u001b[0;32mIn[31], line 22\u001b[0m\n\u001b[1;32m     19\u001b[0m predictions_dropna \u001b[38;5;241m=\u001b[39m tree_dropna\u001b[38;5;241m.\u001b[39mpredict(x_test)\n\u001b[1;32m     21\u001b[0m \u001b[38;5;66;03m# Evaluar el modelo\u001b[39;00m\n\u001b[0;32m---> 22\u001b[0m \u001b[38;5;28mprint\u001b[39m(\u001b[38;5;124m\"\u001b[39m\u001b[38;5;124mAccuracy:\u001b[39m\u001b[38;5;124m\"\u001b[39m, accuracy_score(y_test, predictions_dropna))\n\u001b[1;32m     23\u001b[0m \u001b[38;5;28mprint\u001b[39m(\u001b[38;5;124m\"\u001b[39m\u001b[38;5;124mConfusion Matrix:\u001b[39m\u001b[38;5;130;01m\\n\u001b[39;00m\u001b[38;5;124m\"\u001b[39m, confusion_matrix(y_test, predictions_dropna))\n\u001b[1;32m     24\u001b[0m \u001b[38;5;28mprint\u001b[39m(\u001b[38;5;124m\"\u001b[39m\u001b[38;5;124mClassification Report:\u001b[39m\u001b[38;5;130;01m\\n\u001b[39;00m\u001b[38;5;124m\"\u001b[39m, classification_report(y_test, predictions_dropna))\n",
      "\u001b[0;31mNameError\u001b[0m: name 'accuracy_score' is not defined"
     ]
    }
   ],
   "source": [
    "# Separar características (x) y objetivo (y)\n",
    "x = df_base_delete_rows_missing_values.drop('diabetes', axis=1)\n",
    "y = df_base_delete_rows_missing_values['diabetes']\n",
    "\n",
    "# Dividir los datos en conjuntos de entrenamiento y prueba\n",
    "x_train, x_test, y_train, y_test = train_test_split(x, y, train_size=0.8, random_state=semilla_aleatoria)\n",
    "\n",
    "# Crear y entrenar el modelo de árbol de decisión con las configuraciones específicas\n",
    "tree_dropna = DecisionTreeClassifier(\n",
    "    max_depth=15,\n",
    "    max_features='sqrt',\n",
    "    min_samples_leaf=1,\n",
    "    random_state=semilla_aleatoria,\n",
    "    splitter='best'\n",
    ")\n",
    "tree_dropna.fit(x_train, y_train)\n",
    "\n",
    "# Hacer predicciones\n",
    "predictions_dropna = tree_dropna.predict(x_test)\n",
    "\n",
    "# Evaluar el modelo\n",
    "print(\"Accuracy:\", accuracy_score(y_test, predictions_dropna))\n",
    "print(\"Confusion Matrix:\\n\", confusion_matrix(y_test, predictions_dropna))\n",
    "print(\"Classification Report:\\n\", classification_report(y_test, predictions_dropna))"
   ]
  },
  {
   "cell_type": "markdown",
   "metadata": {},
   "source": [
    "## **6.2. Escriba el código que permita predecir la diabetes en el conjunto de datos de test:**"
   ]
  },
  {
   "cell_type": "code",
   "execution_count": 22,
   "metadata": {},
   "outputs": [
    {
     "ename": "SyntaxError",
     "evalue": "invalid syntax (4163588825.py, line 1)",
     "output_type": "error",
     "traceback": [
      "\u001b[0;36m  Cell \u001b[0;32mIn[22], line 1\u001b[0;36m\u001b[0m\n\u001b[0;31m    predEY_clas_arb=\u001b[0m\n\u001b[0m                    ^\u001b[0m\n\u001b[0;31mSyntaxError\u001b[0m\u001b[0;31m:\u001b[0m invalid syntax\n"
     ]
    }
   ],
   "source": [
    "predEY_clas_arb="
   ]
  },
  {
   "cell_type": "markdown",
   "metadata": {},
   "source": [
    "### MÉTRICAS.\n",
    "## **6.3. Utilice la función classification_report para poder ver la precisión, recall y f1 tanto para la case 0 como para la clase 1:**"
   ]
  },
  {
   "cell_type": "code",
   "execution_count": null,
   "metadata": {},
   "outputs": [],
   "source": [
    "clas_report=\n",
    "print(clas_report)"
   ]
  },
  {
   "cell_type": "markdown",
   "metadata": {},
   "source": [
    "## 7. Pasos método Clasificación Random Forest\n",
    "### Escriba el código que permita entrenar un algoritmo de Random Forest con la función RandomForestClassifier con 100 árboles y que se puedan entrenar 2 árboles en paralelo (n_jobs) y la semilla sea aleatoria."
   ]
  },
  {
   "cell_type": "code",
   "execution_count": null,
   "metadata": {},
   "outputs": [],
   "source": [
    "clas_rndforest = \n",
    "clas_rndforest.fit(train_x,train_y)"
   ]
  },
  {
   "cell_type": "markdown",
   "metadata": {},
   "source": [
    "### Predicción del modelo."
   ]
  },
  {
   "cell_type": "code",
   "execution_count": null,
   "metadata": {},
   "outputs": [],
   "source": [
    "predEY_clas_rnd=clas_rndforest.predict(test_x)"
   ]
  },
  {
   "cell_type": "markdown",
   "metadata": {},
   "source": [
    "### MÉTRICAS.\n",
    "## **7.1. Utilice la función classification_report para poder ver la precisión, recall y f1 tanto para la case 0 como para la clase 1:**"
   ]
  },
  {
   "cell_type": "markdown",
   "metadata": {},
   "source": [
    "## 8. Aplicar Árboles de decisión con el dataframe a los que se les imputa valores con una función de interpolación"
   ]
  },
  {
   "cell_type": "code",
   "execution_count": null,
   "metadata": {},
   "outputs": [],
   "source": [
    "X = df_base_missing_interpo.drop(columns = ['diabetes']).copy()\n",
    "y = df_base_missing_interpo['diabetes']"
   ]
  },
  {
   "cell_type": "code",
   "execution_count": null,
   "metadata": {},
   "outputs": [],
   "source": [
    "# In the first step we will split the data in training and remaining dataset\n",
    "train_x,test_x,train_y,test_y = train_test_split(X,y, train_size=0.8, random_state=semilla_aleatoria)"
   ]
  },
  {
   "cell_type": "markdown",
   "metadata": {},
   "source": [
    "## 8.1. Pasos para aplicar árboles \n",
    "### Escriba el código que permita entrenar un algoritmo de árboles de decisión con la función DecisionTreeClassifier."
   ]
  },
  {
   "cell_type": "code",
   "execution_count": null,
   "metadata": {},
   "outputs": [],
   "source": [
    "clas_arboles = "
   ]
  },
  {
   "cell_type": "markdown",
   "metadata": {},
   "source": [
    "### Predicción del modelo."
   ]
  },
  {
   "cell_type": "code",
   "execution_count": null,
   "metadata": {},
   "outputs": [],
   "source": [
    "predEY_clas_arb=clas_arboles.predict(test_x)"
   ]
  },
  {
   "cell_type": "markdown",
   "metadata": {},
   "source": [
    "### MÉTRICAS.\n",
    "## **8.2. Utilice la función classification_report para poder ver la precisión, recall y f1 tanto para la case 0 como para la clase 1:**"
   ]
  },
  {
   "cell_type": "code",
   "execution_count": null,
   "metadata": {},
   "outputs": [],
   "source": [
    "display(confusion_matrix(test_y,predEY_clas_arb))\n",
    "class_report=\n",
    "print(class_report)"
   ]
  },
  {
   "cell_type": "markdown",
   "metadata": {},
   "source": [
    "## 9. Aplicar Random Forest con el dataframe a los que se les imputa valores con una función de interpolación\n",
    "### 9.1. Escriba el código que permita entrenar un algoritmo de Random Forest con la función RandomForestClassifier con 100 árboles y que se puedan entrenar 2 árboles en paralelo (n_jobs) y la semilla sea aleatoria."
   ]
  },
  {
   "cell_type": "code",
   "execution_count": null,
   "metadata": {},
   "outputs": [],
   "source": [
    "clas_rndforest = "
   ]
  },
  {
   "cell_type": "markdown",
   "metadata": {},
   "source": [
    "### Predicción del modelo."
   ]
  },
  {
   "cell_type": "code",
   "execution_count": null,
   "metadata": {},
   "outputs": [],
   "source": [
    "predEY_clas_rnd=clas_rndforest.predict(test_x)"
   ]
  },
  {
   "cell_type": "markdown",
   "metadata": {},
   "source": [
    "### MÉTRICAS.\n",
    "## **9.2. Utilice la función classification_report para poder ver la precisión, recall y f1 tanto para la case 0 como para la clase 1:**"
   ]
  }
 ],
 "metadata": {
  "kernelspec": {
   "display_name": "Python 3 (ipykernel)",
   "language": "python",
   "name": "python3"
  },
  "language_info": {
   "codemirror_mode": {
    "name": "ipython",
    "version": 3
   },
   "file_extension": ".py",
   "mimetype": "text/x-python",
   "name": "python",
   "nbconvert_exporter": "python",
   "pygments_lexer": "ipython3",
   "version": "3.11.7"
  }
 },
 "nbformat": 4,
 "nbformat_minor": 4
}
