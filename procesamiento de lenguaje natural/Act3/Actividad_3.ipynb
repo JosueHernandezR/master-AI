{
 "cells": [
  {
   "cell_type": "markdown",
   "metadata": {},
   "source": [
    "**Universidad Internacional de La Rioja (UNIR) - Máster Universitario en Inteligencia Artificial - Procesamiento del Lenguaje Natural** "
   ]
  },
  {
   "cell_type": "markdown",
   "metadata": {},
   "source": [
    "***\n",
    "Datos del alumno (Nombre y Apellidos):\n",
    "\n",
    "\n",
    "Fecha:\n",
    "***"
   ]
  },
  {
   "cell_type": "markdown",
   "metadata": {},
   "source": [
    "<span style=\"font-size: 20pt; font-weight: bold; color: #0098cd;\">Actividad 3: Desambiguación del sentido de las palabras</span>\n",
    "\n",
    "**Objetivos** \n",
    "\n",
    "Con este laboratorio el alumno conseguirá aplicar diferentes algoritmos basados en aprendizaje automático supervisado para desambiguar el sentido de las palabras. Además, va a aprender a utilizar la herramienta de software abierto Natural Language Toolkit (NLTK) con la que implementar tareas de procesamiento del lenguaje natural en Python.\n",
    "\n",
    "**Descripción**\n",
    "\n",
    "En este laboratorio debes desarrollar e implementar diferentes algoritmos basados en aprendizaje automático supervisado para desambiguar el sentido de las palabras en Python y utilizando la herramienta de software abierto Natural Language Toolkit (NLTK).\n",
    "\n",
    "Para preparar este laboratorio, simplemente descarga e instala **NLTK 3.3** en tu equipo.\n",
    "\n",
    "***\n",
    "Accede a NLTK 3.3 desde la siguiente dirección web:\n",
    "https://www.nltk.org/install.html\n",
    "***\n",
    "\n",
    "NLTK requiere de Python versiones 2.7, 3.4, 3.5 o 3.6 para funcionar. Por lo que, si no tienes instalado Python, descárgalo e instálalo.\n",
    "\n",
    "***\n",
    "Accede a **Python**  desde la siguiente dirección web: https://www.python.org/downloads/\n",
    "***\n",
    "\n",
    "Asegúrate de que has instalado NLTK 3.3 adecuadamente antes de la sesión de laboratorio y de revisar el contenido teórico, Semántica léxica y temas anteriores, para tener frescos los diferentes conceptos sobre el procesamiento del lenguaje natural estudiados en esta asignatura.\n",
    "\n",
    "Durante la sesión del laboratorio debes solucionar un problema sobre desambiguación del sentido de las palabras utilizando el corpus etiquetado en inglés llamado **Senseval 2** y que viene disponible en NLTK.\n",
    "\n",
    "***\n",
    "Accede a más información sobre **Senseval 2** desde la siguiente dirección web:\n",
    "http://www.nltk.org/howto/corpus.html \n",
    "***"
   ]
  },
  {
   "cell_type": "markdown",
   "metadata": {},
   "source": [
    "El primer paso es importar el corpus etiquetado utilizando los siguientes comandos:"
   ]
  },
  {
   "cell_type": "code",
   "execution_count": 35,
   "metadata": {},
   "outputs": [],
   "source": [
    "import nltk\n",
    "from nltk.corpus import senseval"
   ]
  },
  {
   "cell_type": "markdown",
   "metadata": {},
   "source": [
    "El corpus **Senseval 2** contiene datos etiquetados que sirven para entrenar un clasificador que permita desambiguar el sentido de las palabras. Cada elemento del corpus **Senseval 2** se corresponde a una palabra ambigua. Concretamente en este laboratorio se trabajará con las palabras en inglés *«hard»* y *«serve»*, aunque en el corpus hay información de otras dos.\n",
    "\n",
    "Para poder extraer la información sobre las palabras es imprescindible la manera en la que se identifican en el corpus, es decir, sus identificadores. Con el siguiente comando, se extraen los identificadores de las palabras tratadas en el corpus. "
   ]
  },
  {
   "cell_type": "code",
   "execution_count": 36,
   "metadata": {
    "scrolled": true
   },
   "outputs": [
    {
     "data": {
      "text/plain": [
       "['hard.pos', 'interest.pos', 'line.pos', 'serve.pos']"
      ]
     },
     "execution_count": 36,
     "metadata": {},
     "output_type": "execute_result"
    }
   ],
   "source": [
    "senseval.fileids()"
   ]
  },
  {
   "cell_type": "markdown",
   "metadata": {},
   "source": [
    "Para cada una de las palabras ambiguas, el corpus contiene una lista de instancias correspondientes a las ocurrencias de esa palabra. Para cada instancia se proporciona la palabra, una lista de sentidos que se aplican a la aparición de esa palabra y el contexto de la palabra. "
   ]
  },
  {
   "cell_type": "markdown",
   "metadata": {},
   "source": [
    "En la siguiente figura se observa el comando utilizado para visualizar la información que contiene cada instancia de la palabra ambigua *«hard»*."
   ]
  },
  {
   "cell_type": "code",
   "execution_count": 37,
   "metadata": {},
   "outputs": [
    {
     "data": {
      "text/plain": [
       "[SensevalInstance(word='hard-a', position=20, context=[('``', '``'), ('he', 'PRP'), ('may', 'MD'), ('lose', 'VB'), ('all', 'DT'), ('popular', 'JJ'), ('support', 'NN'), (',', ','), ('but', 'CC'), ('someone', 'NN'), ('has', 'VBZ'), ('to', 'TO'), ('kill', 'VB'), ('him', 'PRP'), ('to', 'TO'), ('defeat', 'VB'), ('him', 'PRP'), ('and', 'CC'), ('that', 'DT'), (\"'s\", 'VBZ'), ('hard', 'JJ'), ('to', 'TO'), ('do', 'VB'), ('.', '.'), (\"''\", \"''\")], senses=('HARD1',)), SensevalInstance(word='hard-a', position=10, context=[('clever', 'NNP'), ('white', 'NNP'), ('house', 'NNP'), ('``', '``'), ('spin', 'VB'), ('doctors', 'NNS'), (\"''\", \"''\"), ('are', 'VBP'), ('having', 'VBG'), ('a', 'DT'), ('hard', 'JJ'), ('time', 'NN'), ('helping', 'VBG'), ('president', 'NNP'), ('bush', 'NNP'), ('explain', 'VB'), ('away', 'RB'), ('the', 'DT'), ('economic', 'JJ'), ('bashing', 'NN'), ('that', 'IN'), ('low-and', 'JJ'), ('middle-income', 'JJ'), ('workers', 'NNS'), ('are', 'VBP'), ('taking', 'VBG'), ('these', 'DT'), ('days', 'NNS'), ('.', '.')], senses=('HARD1',)), ...]"
      ]
     },
     "execution_count": 37,
     "metadata": {},
     "output_type": "execute_result"
    }
   ],
   "source": [
    "senseval.instances('hard.pos')"
   ]
  },
  {
   "cell_type": "markdown",
   "metadata": {},
   "source": [
    "Por ejemplo, en la primera instancia (`SensevalInstance`) la palabra ambigua (`word`) es `‘hard-a’`, lo que indica que la palabra es `‘hard’` y en este caso la categoría gramatical es un adjetivo, identificado por el sufijo `‘-a’`."
   ]
  },
  {
   "cell_type": "markdown",
   "metadata": {},
   "source": [
    "El campo `position` indica la posición en la oración en la que se encuentra la palabra ambigua, en este caso la palabra `‘hard’` se encuentra en la posición 20."
   ]
  },
  {
   "cell_type": "markdown",
   "metadata": {},
   "source": [
    "El campo `context` representa el contexto, es decir, la oración en la que se encuentra la palabra ambigua, en este ejemplo *«\"he may lose all popular support, but someone has to kill him to defeat him and that's hard to do.\"»*. El contexto viene representado por pares formados por una palabra y la correspondiente etiqueta gramatical. Por ejemplo, el par `(‘he’, ‘PRP’)` que aparece en el contexto indica que la categoría gramatical asociada a la palabra `‘he’` es un pronombre personal `‘PRP’`. "
   ]
  },
  {
   "cell_type": "markdown",
   "metadata": {},
   "source": [
    "Por último, el campo `senses` contiene los posibles sentidos de la palabra ambigua, en el ejemplo `‘HARD1’`. Los sentidos del corpus hacen referencia a los sentidos de la palabra recogidos en la base de datos de relaciones léxicas WordNet<sup>1</sup>.\n",
    "\n",
    "\n",
    "<sup>1</sup> Puede que los sentidos que aparecen en Senseval 2 difieran de los que se encuentran actualmente en WordNet, debido a la constante actualización de este. En este laboratorio no será necesario trabajar con WordNet, se menciona como información adicional."
   ]
  },
  {
   "cell_type": "markdown",
   "metadata": {},
   "source": [
    "En este caso `‘HARD1’` hace referencia la primera definición de la palabra `‘hard’` que aparece en WordNet, a «difícil»,  *«difficult, hard (not easy; requiring great physical or mental effort to accomplish or comprehend or endure)»*. Esta información se puede obtener utilizando la interfaz de búsqueda web de WordNet cuyo resultado se muestra en la siguiente figura.\n",
    "\n",
    "***\n",
    "Accede al interfaz de búsqueda de WordNet desde la siguiente dirección web: http://wordnetweb.princeton.edu/perl/webwn\n",
    "\n",
    "***\n",
    "\n"
   ]
  },
  {
   "cell_type": "markdown",
   "metadata": {},
   "source": [
    "**Nota:** NLTK implementa también un lector para la información disponible en la base de datos de relaciones léxicas WordNet. Aunque no es necesario para realizar esta actividad de laboratorio, WordNet se puede importar utilizando el siguiente comando:\n",
    "\n",
    "> *from nltk.corpus import wordnet*"
   ]
  },
  {
   "cell_type": "markdown",
   "metadata": {},
   "source": [
    "En este laboratorio vas a trabajar con algoritmos basados en aprendizaje automático supervisado, por lo tanto, vas a tener que entrenar diferentes clasificadores que permitan desambiguar las palabras ambiguas en inglés «hard» y «serve», y vas a tener que evaluar el desempeño de los clasificadores creados.\n",
    "\n",
    "Las diferentes partes que forman este laboratorio se indican a continuación."
   ]
  },
  {
   "cell_type": "markdown",
   "metadata": {},
   "source": [
    "<span style=\"font-size: 14pt; font-weight: bold; color: #0098cd;\">Parte 1: Análisis del corpus</span>\n",
    "\n",
    "Analiza el corpus Senseval 2 que vas a utilizar para entrenar los clasificadores. Para realizar el análisis utiliza las funcionalidades que aporta NLTK. Desarrolla el código necesario y responde a las siguientes preguntas."
   ]
  },
  {
   "cell_type": "markdown",
   "metadata": {},
   "source": [
    "* ¿Cuántos posibles sentidos tienen las palabras ambiguas «hard» y «serve»? ¿Cuáles son esos sentidos? Para cada sentido indica la etiqueta que aparece en el corpus."
   ]
  },
  {
   "cell_type": "markdown",
   "metadata": {},
   "source": [
    "Método que a partir de la palabra ambigua, o mejor dicho del nombre del archivo del corpus `word` para la palabra ambigua, obtiene cuáles son los posibles **sentidos de la palabra ambigua**:"
   ]
  },
  {
   "cell_type": "code",
   "execution_count": 38,
   "metadata": {},
   "outputs": [],
   "source": [
    "def senses(word):\n",
    "    \"\"\"\n",
    "    This takes a target word from senseval-2 and it returns the list of possible senses for the word\n",
    "    \"\"\"\n",
    "    instances = senseval.instances(word)\n",
    "    # Get all unique senses using a set comprehension\n",
    "    senses = set(sense for instance in instances for sense in instance.senses)\n",
    "    return list(senses)"
   ]
  },
  {
   "cell_type": "markdown",
   "metadata": {},
   "source": [
    "Mostrar los sentidos de las palabras ambiguas:"
   ]
  },
  {
   "cell_type": "code",
   "execution_count": 39,
   "metadata": {},
   "outputs": [
    {
     "data": {
      "text/plain": [
       "['HARD1', 'HARD2', 'HARD3']"
      ]
     },
     "execution_count": 39,
     "metadata": {},
     "output_type": "execute_result"
    }
   ],
   "source": [
    "senses('hard.pos')"
   ]
  },
  {
   "cell_type": "code",
   "execution_count": 40,
   "metadata": {},
   "outputs": [
    {
     "data": {
      "text/plain": [
       "['SERVE6', 'SERVE10', 'SERVE2', 'SERVE12']"
      ]
     },
     "execution_count": 40,
     "metadata": {},
     "output_type": "execute_result"
    }
   ],
   "source": [
    "senses('serve.pos')"
   ]
  },
  {
   "cell_type": "markdown",
   "metadata": {},
   "source": [
    "########## Aquí debes indicar tu respuesta ##########"
   ]
  },
  {
   "cell_type": "markdown",
   "metadata": {},
   "source": [
    "* ¿Cuántas instancias hay en el corpus para cada uno de los sentidos de las palabras ambiguas «hard» y «serve»? Es decir, cuantas oraciones hay en el corpus etiquetadas con cada uno de los sentidos."
   ]
  },
  {
   "cell_type": "markdown",
   "metadata": {},
   "source": [
    "Método que obtiene todas las **instancias de un posible sentido de la palabra ambigua** a partir de la lista de instancias de una palabra `instances` y el nombre del sentido palabra ambigua `sense`:"
   ]
  },
  {
   "cell_type": "code",
   "execution_count": 41,
   "metadata": {},
   "outputs": [],
   "source": [
    "def sense_instances(instances, sense):\n",
    "    \"\"\"\n",
    "    This returns the list of instances in instances that have the sense sense\n",
    "    \"\"\"\n",
    "    return [instance for instance in instances if sense in instance.senses]"
   ]
  },
  {
   "cell_type": "code",
   "execution_count": 42,
   "metadata": {},
   "outputs": [
    {
     "name": "stdout",
     "output_type": "stream",
     "text": [
      "Instances for 'hard':\n",
      "HARD1: 3455 instances\n",
      "HARD2: 502 instances\n",
      "HARD3: 376 instances\n",
      "\n",
      "Instances for 'serve':\n",
      "SERVE6: 439 instances\n",
      "SERVE10: 1814 instances\n",
      "SERVE2: 853 instances\n",
      "SERVE12: 1272 instances\n",
      "\n",
      "Total instances for 'hard': 4333\n",
      "Total instances for 'serve': 4378\n"
     ]
    }
   ],
   "source": [
    "##################################################  \n",
    "########## Aquí debes incluir tu código ##########  \n",
    "##################################################\n",
    "def count_sense_instances(word):\n",
    "    \"\"\"\n",
    "    Count instances per sense for a given word\n",
    "    \"\"\"\n",
    "    instances = senseval.instances(word)\n",
    "    word_senses = senses(word)\n",
    "    counts = {}\n",
    "    for sense in word_senses:\n",
    "        counts[sense] = len(sense_instances(instances, sense))\n",
    "    return counts\n",
    "\n",
    "instances_hard = senseval.instances('hard.pos')\n",
    "instances_serve = senseval.instances('serve.pos')\n",
    "\n",
    "print(\"Instances for 'hard':\")\n",
    "hard_counts = count_sense_instances('hard.pos')\n",
    "for sense, count in hard_counts.items():\n",
    "    print(f\"{sense}: {count} instances\")\n",
    "\n",
    "print(\"\\nInstances for 'serve':\")\n",
    "serve_counts = count_sense_instances('serve.pos')\n",
    "for sense, count in serve_counts.items():\n",
    "    print(f\"{sense}: {count} instances\")\n",
    "\n",
    "print(f\"\\nTotal instances for 'hard': {len(instances_hard)}\")\n",
    "print(f\"Total instances for 'serve': {len(instances_serve)}\")"
   ]
  },
  {
   "cell_type": "markdown",
   "metadata": {},
   "source": [
    "########## Aquí debes indicar tu respuesta ##########"
   ]
  },
  {
   "cell_type": "markdown",
   "metadata": {},
   "source": [
    "* En el contexto, las palabras ambiguas pueden aparecer en diferentes formas gramaticales. Por ejemplo, en el caso de la palabra ambigua *«hard»*, esta aparece tanto la forma base, el adjetivo *«hard»* como en comparativo *«harder»* y como en superlativo *«hardest»*. ¿Qué formas gramaticales aparecen en el contexto para cada una de las palabas ambiguas *«hard»* y *«serve»*?"
   ]
  },
  {
   "cell_type": "markdown",
   "metadata": {},
   "source": [
    "Método que muestra las diferentes **versiones de la palabra ambigua** a partir del nombre del archivo del corpus `word` para la palabra ambiguala palabra ambigua:"
   ]
  },
  {
   "cell_type": "code",
   "execution_count": 43,
   "metadata": {},
   "outputs": [],
   "source": [
    "def tokens(word):\n",
    "    \"\"\"\n",
    "    This takes a target word from senseval-2 and it returns the list of possible tokens for the word\n",
    "    \"\"\"\n",
    "    instances = senseval.instances(word)\n",
    "    token = set()\n",
    "    \n",
    "    # Obtener la palabra base (sin el sufijo -a o -v)\n",
    "    base_word = word.split('.')[0]  # quita la extensión .pos\n",
    "    \n",
    "    for instance in instances:\n",
    "        # Añadir la forma base con su categoría\n",
    "        token.add(instance.word)\n",
    "        \n",
    "        # Buscar en el contexto otras formas de la palabra\n",
    "        for item in instance.context:\n",
    "            try:\n",
    "                # Verificar si el item es una tupla de dos elementos\n",
    "                if isinstance(item, tuple) and len(item) == 2:\n",
    "                    word, pos_tag = item\n",
    "                    # Convertir a minúsculas para la comparación\n",
    "                    word_lower = word.lower()\n",
    "                    \n",
    "                    # Si la palabra comienza con la base, añadirla con su etiqueta POS\n",
    "                    if word_lower.startswith(base_word):\n",
    "                        token.add(f\"{word}-{pos_tag}\")\n",
    "            except Exception as e:\n",
    "                # Si hay algún error, simplemente continuamos con el siguiente item\n",
    "                continue\n",
    "    \n",
    "    return sorted(list(token))"
   ]
  },
  {
   "cell_type": "markdown",
   "metadata": {},
   "source": [
    "Mostrar las diferentes versiones de la palabra ambigua"
   ]
  },
  {
   "cell_type": "code",
   "execution_count": 44,
   "metadata": {},
   "outputs": [
    {
     "data": {
      "text/plain": [
       "['hard-JJ',\n",
       " 'hard-a',\n",
       " 'hardaway-NNP',\n",
       " 'harder-JJ',\n",
       " 'harder-JJR',\n",
       " 'harder-NNP',\n",
       " 'hardest-JJ']"
      ]
     },
     "execution_count": 44,
     "metadata": {},
     "output_type": "execute_result"
    }
   ],
   "source": [
    "tokens('hard.pos')"
   ]
  },
  {
   "cell_type": "code",
   "execution_count": 45,
   "metadata": {},
   "outputs": [
    {
     "data": {
      "text/plain": [
       "['serve-VB',\n",
       " 'serve-VBP',\n",
       " 'serve-v',\n",
       " 'served-VBD',\n",
       " 'served-VBN',\n",
       " 'server-NN',\n",
       " 'serves-VBZ']"
      ]
     },
     "execution_count": 45,
     "metadata": {},
     "output_type": "execute_result"
    }
   ],
   "source": [
    "tokens('serve.pos')"
   ]
  },
  {
   "cell_type": "markdown",
   "metadata": {},
   "source": [
    "########## Aquí debes indicar tu respuesta ##########"
   ]
  },
  {
   "cell_type": "markdown",
   "metadata": {},
   "source": [
    "* ¿Tienen todas las instancias que forman el corpus el formato que se ha descrito anteriormente? Si hay alguna instancia que no cumpla con ese formato, indica cuales serían las incongruencias que presenta y muestra algunos ejemplos."
   ]
  },
  {
   "cell_type": "code",
   "execution_count": 46,
   "metadata": {},
   "outputs": [
    {
     "name": "stdout",
     "output_type": "stream",
     "text": [
      "Anomalías en 'hard':\n",
      "\n",
      "Tipo de anomalía: Formato de contexto incorrecto\n",
      "Índice de instancia: 21\n",
      "Detalles: {'tipo': 'Formato de contexto incorrecto', 'indice': 21, 'palabra': 'hard-a', 'contexto': [('the', 'DT'), ('a', 'NNP'), (\"'s\", 'VBZ'), (':', ':'), (';', ':')], 'item_problema': 'FRASL'}\n",
      "\n",
      "Tipo de anomalía: Formato de contexto incorrecto\n",
      "Índice de instancia: 110\n",
      "Detalles: {'tipo': 'Formato de contexto incorrecto', 'indice': 110, 'palabra': 'hard-a', 'contexto': [('wes', 'NNP'), ('raynal', 'NNP'), (',', ','), ('autoweek', 'NNP'), (';', ':')], 'item_problema': 'FRASL'}\n",
      "\n",
      "Tipo de anomalía: Formato de contexto incorrecto\n",
      "Índice de instancia: 196\n",
      "Detalles: {'tipo': 'Formato de contexto incorrecto', 'indice': 196, 'palabra': 'hard-a', 'contexto': [('jazz', 'NNP'), (';', ':'), ('shirley', 'NNP'), ('horn', 'NNP'), (';', ':')], 'item_problema': 'FRASL'}\n",
      "\n",
      "Anomalías en 'serve':\n",
      "\n",
      "Tipo de anomalía: Formato de contexto incorrecto\n",
      "Índice de instancia: 18\n",
      "Detalles: {'tipo': 'Formato de contexto incorrecto', 'indice': 18, 'palabra': 'serve-v', 'contexto': [('heat', 'NN'), ('and', 'CC'), ('blend', 'NN'), (',', ','), ('add', 'VB')], 'item_problema': 'FRASL'}\n",
      "\n",
      "Tipo de anomalía: Formato de contexto incorrecto\n",
      "Índice de instancia: 24\n",
      "Detalles: {'tipo': 'Formato de contexto incorrecto', 'indice': 24, 'palabra': 'serve-v', 'contexto': [('to', 'TO'), ('poach', 'VB'), ('eggs', 'NNS'), ('hard', 'JJ'), (',', ',')], 'item_problema': 'FRASL'}\n",
      "\n",
      "Tipo de anomalía: Formato de contexto incorrecto\n",
      "Índice de instancia: 133\n",
      "Detalles: {'tipo': 'Formato de contexto incorrecto', 'indice': 133, 'palabra': 'serve-v', 'contexto': [('put', 'VB'), ('a', 'DT'), ('lid', 'NN'), ('on', 'IN'), ('the', 'DT')], 'item_problema': 'FRASL'}\n"
     ]
    }
   ],
   "source": [
    "##################################################  \n",
    "########## Aquí debes incluir tu código ##########  \n",
    "##################################################\n",
    "def verificar_formato_instancias(word, num_ejemplos=3):\n",
    "    \"\"\"\n",
    "    Verifica el formato de las instancias y muestra ejemplos de anomalías\n",
    "    \"\"\"\n",
    "    instances = senseval.instances(word)\n",
    "    anomalias = []\n",
    "    \n",
    "    for i, inst in enumerate(instances):\n",
    "        # Verificar formato del contexto\n",
    "        for j, item in enumerate(inst.context):\n",
    "            if not isinstance(item, tuple) or len(item) != 2:\n",
    "                anomalias.append({\n",
    "                    'tipo': 'Formato de contexto incorrecto',\n",
    "                    'indice': i,\n",
    "                    'palabra': inst.word,\n",
    "                    'contexto': inst.context[:5],  # Mostrar primeros 5 elementos\n",
    "                    'item_problema': item\n",
    "                })\n",
    "                break\n",
    "        \n",
    "        # Verificar múltiples sentidos\n",
    "        if len(inst.senses) > 1:\n",
    "            anomalias.append({\n",
    "                'tipo': 'Múltiples sentidos',\n",
    "                'indice': i,\n",
    "                'palabra': inst.word,\n",
    "                'sentidos': inst.senses\n",
    "            })\n",
    "        \n",
    "        # Verificar posición válida\n",
    "        if inst.position >= len(inst.context):\n",
    "            anomalias.append({\n",
    "                'tipo': 'Posición inválida',\n",
    "                'indice': i,\n",
    "                'palabra': inst.word,\n",
    "                'posicion': inst.position,\n",
    "                'longitud_contexto': len(inst.context)\n",
    "            })\n",
    "    \n",
    "    return anomalias\n",
    "\n",
    "# Probar con ambas palabras\n",
    "print(\"Anomalías en 'hard':\")\n",
    "anomalias_hard = verificar_formato_instancias('hard.pos')\n",
    "for anomalia in anomalias_hard[:3]:  # Mostrar solo 3 ejemplos\n",
    "    print(\"\\nTipo de anomalía:\", anomalia['tipo'])\n",
    "    print(\"Índice de instancia:\", anomalia['indice'])\n",
    "    print(\"Detalles:\", anomalia)\n",
    "\n",
    "print(\"\\nAnomalías en 'serve':\")\n",
    "anomalias_serve = verificar_formato_instancias('serve.pos')\n",
    "for anomalia in anomalias_serve[:3]:  # Mostrar solo 3 ejemplos\n",
    "    print(\"\\nTipo de anomalía:\", anomalia['tipo'])\n",
    "    print(\"Índice de instancia:\", anomalia['indice'])\n",
    "    print(\"Detalles:\", anomalia)"
   ]
  },
  {
   "cell_type": "markdown",
   "metadata": {},
   "source": [
    "########## Aquí debes indicar tu respuesta ##########"
   ]
  },
  {
   "cell_type": "markdown",
   "metadata": {},
   "source": [
    "<span style=\"font-size: 14pt; font-weight: bold; color: #0098cd;\">Parte 2: Extracción de características</span>\n",
    "\n",
    "Para poder entrenar un clasificador es necesario extraer un conjunto de características lingüísticas a partir del corpus etiquetado. Por lo tanto, debes crear el código en Python que te permita extraer diferentes conjuntos de características a partir de Senseval 2. "
   ]
  },
  {
   "cell_type": "markdown",
   "metadata": {},
   "source": [
    "### Extracción de características basada en las palabras vecinas"
   ]
  },
  {
   "cell_type": "markdown",
   "metadata": {},
   "source": [
    "Debes extraer un **conjunto de características basado en las palabras vecinas**. Para una instancia del corpus, debes desarrollar el código que sea capaz de extraer el vector de características que indican si las palabras de un vocabulario, que se debe construir previamente, aparecen o no en el contexto (la oración completa en que aparece la palabra ambigua).\n"
   ]
  },
  {
   "cell_type": "markdown",
   "metadata": {},
   "source": [
    "Para una instancia de la palaba ambigua «hard» su contexto se muestra a continuación:"
   ]
  },
  {
   "cell_type": "code",
   "execution_count": 47,
   "metadata": {},
   "outputs": [],
   "source": [
    "instances_hard = senseval.instances('hard.pos')"
   ]
  },
  {
   "cell_type": "code",
   "execution_count": 48,
   "metadata": {},
   "outputs": [],
   "source": [
    "inst_hard_1 = instances_hard[1]"
   ]
  },
  {
   "cell_type": "code",
   "execution_count": 49,
   "metadata": {},
   "outputs": [
    {
     "data": {
      "text/plain": [
       "[('clever', 'NNP'),\n",
       " ('white', 'NNP'),\n",
       " ('house', 'NNP'),\n",
       " ('``', '``'),\n",
       " ('spin', 'VB'),\n",
       " ('doctors', 'NNS'),\n",
       " (\"''\", \"''\"),\n",
       " ('are', 'VBP'),\n",
       " ('having', 'VBG'),\n",
       " ('a', 'DT'),\n",
       " ('hard', 'JJ'),\n",
       " ('time', 'NN'),\n",
       " ('helping', 'VBG'),\n",
       " ('president', 'NNP'),\n",
       " ('bush', 'NNP'),\n",
       " ('explain', 'VB'),\n",
       " ('away', 'RB'),\n",
       " ('the', 'DT'),\n",
       " ('economic', 'JJ'),\n",
       " ('bashing', 'NN'),\n",
       " ('that', 'IN'),\n",
       " ('low-and', 'JJ'),\n",
       " ('middle-income', 'JJ'),\n",
       " ('workers', 'NNS'),\n",
       " ('are', 'VBP'),\n",
       " ('taking', 'VBG'),\n",
       " ('these', 'DT'),\n",
       " ('days', 'NNS'),\n",
       " ('.', '.')]"
      ]
     },
     "execution_count": 49,
     "metadata": {},
     "output_type": "execute_result"
    }
   ],
   "source": [
    "inst_hard_1.context"
   ]
  },
  {
   "cell_type": "markdown",
   "metadata": {},
   "source": [
    "Suponiendo que el vocabulario usado para crear extraer las características es el siguiente:"
   ]
  },
  {
   "cell_type": "markdown",
   "metadata": {},
   "source": [
    "`['time', 'would', 'get', 'work', 'find', 'make']`"
   ]
  },
  {
   "cell_type": "markdown",
   "metadata": {},
   "source": [
    "Entonces el vector de características extraídas para esa instancia sería:"
   ]
  },
  {
   "cell_type": "markdown",
   "metadata": {},
   "source": [
    "`{'contains(time)': True, \n",
    "'contains(would)': False, \n",
    "'contains(get)': False, \n",
    "'contains(work)': False, \n",
    "'contains(find)': False, \n",
    "'contains(make)': False}`"
   ]
  },
  {
   "cell_type": "markdown",
   "metadata": {},
   "source": [
    "Este vector de características indica que en el contexto de la palabra ambigua aparece la palabra *«time»* y no aparecen las palabras *«would»*, *«get»*, *«work»*, *«find»* y *«make»*."
   ]
  },
  {
   "cell_type": "markdown",
   "metadata": {},
   "source": [
    "Para extraer el vector de características basado en las palabras vecinas debes seguir los siguientes pasos:"
   ]
  },
  {
   "cell_type": "markdown",
   "metadata": {},
   "source": [
    "#### 1. Construcción del vocabulario o bags of words. \n",
    "\n",
    "Como ya se ha indicado, para poder obtener el vector de características, se debe construir previamente un vocabulario. Para cada una de las palabras del vocabulario, se debe consultar si la palabra aparece en el contexto de la palabra ambigua. Si la palabra del vocabulario aparece en el contexto entonces en el vector de características aparecerá True para esa palabra y si no, False. "
   ]
  },
  {
   "cell_type": "markdown",
   "metadata": {},
   "source": [
    "Tomemos como ejemplo un vocabulario creado sobre el que se ha construido el vector de características. Este vocabulario es `['time', 'would', 'get', 'work', 'find', 'make']`. Este vocabulario se usará posteriormente para construir el vector de características del ejemplo que usamos para darte una orientación."
   ]
  },
  {
   "cell_type": "markdown",
   "metadata": {},
   "source": [
    "- **¿Cómo construyo mi vocabulario o bags of words?** Lo que debes hacer para tu entrega de este laboratorio es utilizar como vocabulario las m palabras más frecuentes que aparecen en las instancias que conforman el conjunto de datos, es decir en las oraciones que contienen las palabras ambiguas y que forman parte del corpus. Entonces, para crear la **bag of words** (bolsa de palabras) debes extraer el conjunto de las n palabras más frecuentes. Para ello te puedes ayudar de la función `nltk.FreqDist()` que proporciona información sobre la distribución de frecuencias de las palabras que aparecen en un texto. "
   ]
  },
  {
   "cell_type": "markdown",
   "metadata": {},
   "source": [
    "- Cuando obtengas las palabras más frecuentes, debes eliminar los signos que puntuación y las palabras vacías (aquellas sin significado como artículos, pronombres o preposiciones, las llamadas stop words en inglés). También debes eliminar las diferentes formas gramaticales de la palabra ambigua, por ejemplo, para desambiguar la palabra *«hard»* no tendría sentido utilizar la palabra *«harder»* ni la palabra *«hardest»*."
   ]
  },
  {
   "cell_type": "markdown",
   "metadata": {},
   "source": [
    "- Para la eliminación del conjunto de palabras no útiles del vocabulario se puede usar un código parecido al que se indica a continuación. Debes tener en cuenta que **en el código faltaría añadir las palabras que has identificado en la Parte 1** de este laboratorio como las diferentes formas gramaticales de las palabras ambiguas."
   ]
  },
  {
   "cell_type": "code",
   "execution_count": 50,
   "metadata": {},
   "outputs": [],
   "source": [
    "from nltk.corpus import stopwords\n",
    "import string\n",
    "OTHER_WORDS = [\"''\", \"'d\", \"'ll\", \"'m\", \"'re\", \"'s\", \"'t\", \"'ve\", '--', '000', '1', '2', '3', '4', '5', '6', '8', '10', '15', '30', 'I', 'F', '``', 'also', \"don'\", 'n', 'one', 'said', 'say', 'says', 'u', 'us']\n",
    "STOPWORDS_SET = set(stopwords.words('english')).union(set(string.punctuation), set(OTHER_WORDS))"
   ]
  },
  {
   "cell_type": "markdown",
   "metadata": {},
   "source": [
    "- Ejemplo de vocabulario para un tamaño de 6. Por ejemplo, si se quiere entrenar un clasificador que permita identificar los diferentes sentidos de la palabra «hard» y se utilizan para entrenar y validar el modelo las instancias etiquetadas para esta palabra, la bolsa de palabras en el caso de considerar las seis palabras más frecuentes (m=6) sería la presentada anteriormente `['time', 'would', 'get', 'work', 'find', 'make']`."
   ]
  },
  {
   "cell_type": "markdown",
   "metadata": {},
   "source": [
    "Método que devuelve el **vocabulario** formado por las `m` palabras más frecuentes en el contexto de una palabra ambigua a partir de un conjunto de instancias `instances` y el conjunto de palabras no útiles `stopwords` (Nota: Recuerda que se deben eliminar las diferentes formas gramaticales de la palabra ambigua):"
   ]
  },
  {
   "cell_type": "code",
   "execution_count": 53,
   "metadata": {},
   "outputs": [],
   "source": [
    "def extract_vocab_frequency(instances, stopwords=STOPWORDS_SET, m=250):\n",
    "    \"\"\"\n",
    "    Given a list of senseval instances, return a list of the m most frequent words that\n",
    "    appears in its context (i.e., the sentence with the target word in), output is in order\n",
    "    of frequency and includes also the number of instances in which that key appears in the\n",
    "    context of instances.\n",
    "    \"\"\"\n",
    "    ##################################################  \n",
    "    ########## Aquí debes incluir tu código ##########  \n",
    "    ##################################################\n",
    "    # Crear un FreqDist para contar frecuencias\n",
    "    fd = nltk.FreqDist()\n",
    "    \n",
    "    # Obtener la palabra base (para excluir sus variantes)\n",
    "    base_word = instances[0].word.split('-')[0].lower()\n",
    "    \n",
    "    # Iterar sobre todas las instancias\n",
    "    for instance in instances:\n",
    "        # Obtener las palabras del contexto (primera parte de cada tupla)\n",
    "        try:\n",
    "            # Solo procesar tuplas válidas del contexto\n",
    "            context_words = [word.lower() for word, pos in instance.context \n",
    "                           if isinstance((word, pos), tuple) and len((word, pos)) == 2]\n",
    "            \n",
    "            # Agregar cada palabra al contador si:\n",
    "            # 1. No es stopword\n",
    "            # 2. No es una variante de la palabra ambigua\n",
    "            # 3. No es puntuación\n",
    "            for word in context_words:\n",
    "                if (word not in stopwords and \n",
    "                    not word.startswith(base_word) and \n",
    "                    word.isalnum()):  # solo palabras alfanuméricas\n",
    "                    fd[word] += 1\n",
    "                    \n",
    "        except ValueError:\n",
    "            # Si hay algún problema con el formato del contexto, continuamos\n",
    "            continue\n",
    "    \n",
    "    # Obtener las m palabras más frecuentes con sus conteos\n",
    "    most_common = fd.most_common(m)\n",
    "    \n",
    "    return most_common"
   ]
  },
  {
   "cell_type": "code",
   "execution_count": 54,
   "metadata": {},
   "outputs": [],
   "source": [
    "def extract_vocab(instances, stopwords=STOPWORDS_SET, m=250):\n",
    "    \"\"\"\n",
    "    Given a list of senseval instances, return a list of the m most frequent words that\n",
    "    appears in its context (i.e., the sentence with the target word in), output is in order\n",
    "    of frequency.\n",
    "    \"\"\"\n",
    "    return [w for w,f in extract_vocab_frequency(instances,stopwords,m)]"
   ]
  },
  {
   "cell_type": "markdown",
   "metadata": {},
   "source": [
    "Mostrar el vocabulario de tamaño de 6 para la palabra «hard», es decir el vocabulario creado usando las instancias de la a"
   ]
  },
  {
   "cell_type": "code",
   "execution_count": 55,
   "metadata": {},
   "outputs": [],
   "source": [
    "vocab_6 = extract_vocab(instances_hard, STOPWORDS_SET, m=6)"
   ]
  },
  {
   "cell_type": "code",
   "execution_count": 56,
   "metadata": {},
   "outputs": [
    {
     "data": {
      "text/plain": [
       "['time', 'would', 'get', 'work', 'make', 'find']"
      ]
     },
     "execution_count": 56,
     "metadata": {},
     "output_type": "execute_result"
    }
   ],
   "source": [
    "vocab_6"
   ]
  },
  {
   "cell_type": "markdown",
   "metadata": {},
   "source": [
    "#### 2. Construcción del conjunto de características basado en palabras vecinas. "
   ]
  },
  {
   "cell_type": "markdown",
   "metadata": {},
   "source": [
    "Utiliza un diccionario en Python para guardar el conjunto de características. La clave del diccionario serán las palabras del vocabulario y el valor debe ser un booleano para indicar la aparición o no de las palabras en el contexto. Por ejemplo, en el vector de características `{'contains(time)': True, 'contains(would)': False, 'contains(get)': False, 'contains(work)': False, 'contains(find)': False, 'contains(make)': False}` una de las claves del diccionario es `'contains(time)'` y su valor es `True`  lo que indica que en el contexto de la palabra ambigua aparece la palabra *«time»*."
   ]
  },
  {
   "cell_type": "markdown",
   "metadata": {},
   "source": [
    "- Debes mostrar el vector de características resultante para una de las instancias del corpus."
   ]
  },
  {
   "cell_type": "markdown",
   "metadata": {},
   "source": [
    "- **Importante:** En el cómputo del vector de características basado en las palabras vecinas debes utilizar como contexto la oración completa donde aparece la palabra ambigua. Es decir, todas las palabras que forman la oración guardada en el campo  `context` de la instancia."
   ]
  },
  {
   "cell_type": "markdown",
   "metadata": {},
   "source": [
    "Método que devuelve el conjunto de características basado en palabras vecinas para una instancia `instance` a partir de un vocabulario `vocab` (Nota: el parámetro `dist` no debes usarlo):"
   ]
  },
  {
   "cell_type": "code",
   "execution_count": 66,
   "metadata": {},
   "outputs": [],
   "source": [
    "def wsd_caracteristicas_palabras_vecinas(instance, vocab, dist=2):\n",
    "    \"\"\"\n",
    "    Create a featureset where every key returns False unless it occurs in the\n",
    "    instance's context\n",
    "    \"\"\"\n",
    "    features = {}\n",
    "    \n",
    "    # Obtener las palabras del contexto (convertidas a minúsculas)\n",
    "    context_words = set()\n",
    "    \n",
    "    for item in instance.context:\n",
    "        # Verificar si el item es una tupla de palabra y POS\n",
    "        if isinstance(item, tuple) and len(item) == 2:\n",
    "            word, pos = item\n",
    "            if isinstance(word, str):  # verificar que word sea una cadena\n",
    "                context_words.add(word.lower())\n",
    "    \n",
    "    # Para cada palabra en el vocabulario\n",
    "    for word in vocab:\n",
    "        # La clave será \"contains(palabra)\"\n",
    "        feature_name = f'contains({word})'\n",
    "        # El valor será True si la palabra está en el contexto, False si no\n",
    "        features[feature_name] = word in context_words\n",
    "    \n",
    "    return features"
   ]
  },
  {
   "cell_type": "markdown",
   "metadata": {},
   "source": [
    "Mostrar el vector de características basado en palabras vecinas para una de las instancias del corpus usando el vocabulario de seis palabras calculado previamente:"
   ]
  },
  {
   "cell_type": "code",
   "execution_count": 67,
   "metadata": {},
   "outputs": [
    {
     "data": {
      "text/plain": [
       "{'contains(time)': True,\n",
       " 'contains(would)': False,\n",
       " 'contains(get)': False,\n",
       " 'contains(work)': False,\n",
       " 'contains(make)': False,\n",
       " 'contains(find)': False}"
      ]
     },
     "execution_count": 67,
     "metadata": {},
     "output_type": "execute_result"
    }
   ],
   "source": [
    "wsd_caracteristicas_palabras_vecinas(inst_hard_1, vocab_6, 0)"
   ]
  },
  {
   "cell_type": "markdown",
   "metadata": {},
   "source": [
    "### Extracción de características basada en características de colocación"
   ]
  },
  {
   "cell_type": "markdown",
   "metadata": {},
   "source": [
    "Debes extraer también un **conjunto de características de colocación**. Para una instancia del corpus, debes desarrollar el código que sea capaz de extraer el vector de características formado por la secuencia de n palabras que ocurren antes de la palabra ambigua y la secuencia de n palabras que ocurren después de la palabra ambigua, los llamados n-gramas."
   ]
  },
  {
   "cell_type": "markdown",
   "metadata": {},
   "source": [
    "Para una instancia de la palaba ambigua «hard» su contexto se muestra a continuación:"
   ]
  },
  {
   "cell_type": "code",
   "execution_count": 68,
   "metadata": {},
   "outputs": [],
   "source": [
    "inst_hard_2737 = instances_hard[2737]"
   ]
  },
  {
   "cell_type": "code",
   "execution_count": 69,
   "metadata": {},
   "outputs": [
    {
     "data": {
      "text/plain": [
       "[('``', '``'),\n",
       " ('it', 'PRP'),\n",
       " (\"'s\", 'VBZ'),\n",
       " ('a', 'DT'),\n",
       " ('very', 'RB'),\n",
       " ('interesting', 'JJ'),\n",
       " ('place', 'NN'),\n",
       " ('to', 'TO'),\n",
       " ('work', 'VB'),\n",
       " (',', ','),\n",
       " ('but', 'CC'),\n",
       " ('i', 'PRP'),\n",
       " ('can', 'MD'),\n",
       " ('see', 'VB'),\n",
       " ('why', 'WRB'),\n",
       " ('some', 'DT'),\n",
       " ('people', 'NNS'),\n",
       " ('have', 'VBP'),\n",
       " ('a', 'DT'),\n",
       " ('hard', 'JJ'),\n",
       " ('time', 'NN'),\n",
       " ('imagining', 'VBG'),\n",
       " ('what', 'WP'),\n",
       " ('it', 'PRP'),\n",
       " (\"'s\", 'VBZ'),\n",
       " ('like', 'IN'),\n",
       " (',', ','),\n",
       " ('\"', '\"'),\n",
       " ('says', 'VBZ'),\n",
       " ('nate', 'NNP'),\n",
       " ('gossett', 'NNP'),\n",
       " ('.', '.')]"
      ]
     },
     "execution_count": 69,
     "metadata": {},
     "output_type": "execute_result"
    }
   ],
   "source": [
    "inst_hard_2737.context"
   ]
  },
  {
   "cell_type": "markdown",
   "metadata": {},
   "source": [
    "Entonces el vector de características de colocación para el bigrama anterior y posterior sería:"
   ]
  },
  {
   "cell_type": "markdown",
   "metadata": {},
   "source": [
    "`{'previous(have a)': True, 'next(time imagining)': True}` "
   ]
  },
  {
   "cell_type": "markdown",
   "metadata": {},
   "source": [
    "Este vector de características indica que antes de la palabra ambigua se encuentran las palabras *«have a»* y después de la palabra ambigua las palabras *«time imagining»*. "
   ]
  },
  {
   "cell_type": "markdown",
   "metadata": {},
   "source": [
    "- **¿Cómo construyo mi conjunto y que n utilizo?** Utiliza un diccionario en Python para guardar el conjunto de características, la clave del diccionario debe indicar la secuencia de palabras de contexto y si aparecen antes o después de la palabra ambigua y el valor asociado a la clave debe ser un booleano verdadero. Usaremos **n=2**."
   ]
  },
  {
   "cell_type": "markdown",
   "metadata": {},
   "source": [
    "- Por ejemplo, en el vector de características `{'previous(have a)': True, 'next(time imagining)': True}` una de las claves del diccionario es `'previous(have a)'` y su valor es `True` lo que indica que antes de la palabra ambigua se encuentran las palabras *«have a»*. En este caso, al tener secuencias de dos palabras (*n=2*), se están considerando bigramas y la ventana tendría tamaño cinco (*2n+1*). Por lo tanto, si la palabra ambigua es *«hard» en el contexto guardado en el campo context de la instancia, aparece la siguiente parte de la frase «have a hard time imagining»."
   ]
  },
  {
   "cell_type": "markdown",
   "metadata": {},
   "source": [
    "- Debes mostrar el vector de características resultante para una de las instancias del corpus."
   ]
  },
  {
   "cell_type": "markdown",
   "metadata": {},
   "source": [
    "- **Importante:** Debes tener en cuenta los posibles casos en los que la palabra ambigua aparezca al principio o final de la frase, ya que en esas instancias no vas a poder obtener una secuencia de palabras de longitud n. Por ejemplo, para la instancia cuyo contexto es: `[('some', 'DT'), ('hard', 'JJ'), ('choices', 'NNS'), ('had', 'VBD'), ('to', 'TO'), ('be', 'VB'), ('made', 'VBN'), …]` si n=2 deberías obtener el siguiente vector de características: `{'previous(some)': True, 'next(choices had)': True}`."
   ]
  },
  {
   "cell_type": "markdown",
   "metadata": {},
   "source": [
    "- **Nota:** aunque no es imprescindible para realizar esta actividad de laboratorio, puedes utilizar las funcionalidades para trabajar con n-gramas que ofrece NLTK. Estas se pueden importar utilizando el siguiente comando:\n",
    "\n",
    "> *from nltk import ngrams*"
   ]
  },
  {
   "cell_type": "markdown",
   "metadata": {},
   "source": [
    "Método que devuelve el conjunto de características de colocación para una instancia `instance` usando los n-gramas anterior y posterior donde la longitud de secuencia es de `dist` palabras (Nota: el parámetro `vocab` no debes usarlo):"
   ]
  },
  {
   "cell_type": "code",
   "execution_count": 70,
   "metadata": {},
   "outputs": [],
   "source": [
    "def wsd_caracteristicas_colocacion(instance, vocab, dist=2):\n",
    "    features = {}\n",
    "    \n",
    "    # Obtener la posición de la palabra ambigua\n",
    "    pos = instance.position\n",
    "    \n",
    "    # Obtener las palabras del contexto (solo las palabras válidas)\n",
    "    context_words = []\n",
    "    for item in instance.context:\n",
    "        if isinstance(item, tuple) and len(item) == 2:\n",
    "            word, pos_tag = item\n",
    "            if isinstance(word, str):\n",
    "                context_words.append(word.lower())\n",
    "    \n",
    "    # Extraer n-grama anterior\n",
    "    if pos >= dist:\n",
    "        # Si hay suficientes palabras antes\n",
    "        prev_words = context_words[pos-dist:pos]\n",
    "        prev_feature = ' '.join(prev_words)\n",
    "        features[f'previous({prev_feature})'] = True\n",
    "    elif pos > 0:\n",
    "        # Si no hay suficientes palabras, usar las que hay\n",
    "        prev_words = context_words[:pos]\n",
    "        prev_feature = ' '.join(prev_words)\n",
    "        features[f'previous({prev_feature})'] = True\n",
    "    \n",
    "    # Extraer n-grama posterior\n",
    "    if pos + 1 + dist <= len(context_words):\n",
    "        # Si hay suficientes palabras después\n",
    "        next_words = context_words[pos+1:pos+1+dist]\n",
    "        next_feature = ' '.join(next_words)\n",
    "        features[f'next({next_feature})'] = True\n",
    "    elif pos + 1 < len(context_words):\n",
    "        # Si no hay suficientes palabras, usar las que hay\n",
    "        next_words = context_words[pos+1:]\n",
    "        next_feature = ' '.join(next_words)\n",
    "        features[f'next({next_feature})'] = True\n",
    "    \n",
    "    return features"
   ]
  },
  {
   "cell_type": "markdown",
   "metadata": {},
   "source": [
    "Mostrar el vector de características de colocación para una de las instancias del corpus usando n=2:"
   ]
  },
  {
   "cell_type": "code",
   "execution_count": 71,
   "metadata": {},
   "outputs": [
    {
     "data": {
      "text/plain": [
       "{'previous(have a)': True, 'next(time imagining)': True}"
      ]
     },
     "execution_count": 71,
     "metadata": {},
     "output_type": "execute_result"
    }
   ],
   "source": [
    "wsd_caracteristicas_colocacion(inst_hard_2737, 0, 2)"
   ]
  },
  {
   "cell_type": "markdown",
   "metadata": {},
   "source": [
    "<span style=\"font-size: 14pt; font-weight: bold; color: #0098cd;\">Parte 3: Entrenamiento de clasificadores</span>\n",
    "\n",
    "Debes entrenar diferentes clasificadores que permitan desambiguar las palabras ambiguas en inglés «hard» y «serve». Además, vas a tener que evaluar el desempeño de los clasificadores creados. Por lo tanto, debes crear el código en Python que te permita entrenar estos clasificadores y evaluarlos. \n",
    "\n",
    "El tipo de clasificador que vas a utilizar en este laboratorio es el Naive Bayes. Para importar el clasificador y el paquete que te permita evaluar su rendimiento debes utilizar el siguiente comando:"
   ]
  },
  {
   "cell_type": "code",
   "execution_count": 72,
   "metadata": {},
   "outputs": [],
   "source": [
    "from nltk.classify import accuracy, NaiveBayesClassifier\n",
    "from nltk import ConfusionMatrix"
   ]
  },
  {
   "cell_type": "markdown",
   "metadata": {},
   "source": [
    "Una vez hayas importado los paquetes anteriores, para entrenar un clasificador Naïve Bayes puedes usar el comando `NaiveBayesClassifier.train()` y para evaluarlo `accuracy()`. Además, puedes utilizar el clasificador entrenado para clasificar una instancia utilizando su método `classify()`. Por último, puedes obtener la matriz de confusión utilizando el comando `nltk.ConfusionMatrix()`."
   ]
  },
  {
   "cell_type": "markdown",
   "metadata": {},
   "source": [
    "Para realizar esta parte del laboratorio debes seguir los siguientes pasos:"
   ]
  },
  {
   "cell_type": "markdown",
   "metadata": {},
   "source": [
    "### 1.\tEntrenamiento de dos clasificadores para la palabra «hard». "
   ]
  },
  {
   "cell_type": "markdown",
   "metadata": {},
   "source": [
    "Debes entrenar dos clasificadores que permitan desambiguar la palabra «hard», es decir, que debes entrenar los clasificadores utilizando las instancias disponibles en el corpus Senseval 2 para esta palabra ambigua."
   ]
  },
  {
   "cell_type": "markdown",
   "metadata": {},
   "source": [
    "- **Conjuntos de entrenamiento y test.** Para entrenar y validar divide las instancias disponibles en una proporción del 80-20 % y recuerda que en el conjunto de datos de entrenamiento deben aparecer instancias de todas las clases. "
   ]
  },
  {
   "cell_type": "markdown",
   "metadata": {},
   "source": [
    "- **Clasificador basado en las palabras vecinas.** Con el conjunto de datos de entrenamiento, entrena un clasificador para «hard» que use como características el conjunto basado en las **palabras vecinas** cuyo código has implementado en la parte 2 de este laboratorio. Para definir el vocabulario utiliza las **250** palabras más frecuentes (**m=250**). "
   ]
  },
  {
   "cell_type": "markdown",
   "metadata": {},
   "source": [
    "- **Clasificador basado en características de colocación.** Con el conjunto de datos de entrenamiento, entrena un clasificador para «hard» que use como conjunto de características las de colocación cuyo código has implementado en la parte 2 de este laboratorio. Para definir la **ventana de contexto** utiliza la secuencia de dos palabras que ocurren antes de la palabra ambigua y la secuencia de dos palabras que ocurren después de esta **(n=2)**."
   ]
  },
  {
   "cell_type": "code",
   "execution_count": 73,
   "metadata": {},
   "outputs": [],
   "source": [
    "def wsd_clasificador(word, features, stopwords_list = STOPWORDS_SET, number=250, distance=2, errors=False, confusion_matrix=False):\n",
    "    \"\"\"\n",
    "    This function takes as arguments:\n",
    "        a target word from senseval2;\n",
    "        a feature set (this can be wsd_caracteristicas_palabras_vecinas or wsd_caracteristicas_colocacion);\n",
    "        a list of stopwords \n",
    "        a number (defaults to 250), which determines for wsd_caracteristicas_palabras_vecinas the number of\n",
    "            most frequent words within the context of a given sense that you use to classify examples;\n",
    "        a distance (defaults to 2) which determines the size of the window for wsd_caracteristicas_colocacion;\n",
    "        errors (defaults to false), which if set to True prints the errors;\n",
    "        confusion_matrix (defaults to False), which if set to True prints a confusion matrix.\n",
    "\n",
    "    Calling this function splits the senseval data for the word into a training set and a test set (the way it does\n",
    "    this is the same for each call of this function, because the argument to random.seed is specified,\n",
    "    but removing this argument would make the training and testing sets different each time you build a classifier).\n",
    "\n",
    "    It then trains the trainer on the training set to create a classifier that performs WSD on the word,\n",
    "    using features (with number or distance where relevant).\n",
    "\n",
    "    It then tests the classifier on the test set, and prints its accuracy on that set.\n",
    "\n",
    "    If error==True, then the errors of the classifier over the test set are printed out.\n",
    "    For each error four things are recorded: (i) the example number within the test data (this is simply the index of the\n",
    "    example within the list test_data); (ii) the sentence that the target word appeared in, (iii) the\n",
    "    (incorrect) derived label, and (iv) the good label.\n",
    "\n",
    "    If confusion_matrix==True, then calling this function prints out a confusion matrix, where each cell [i,j]\n",
    "    indicates how often label j was predicted when the correct label was i (so the diagonal entries indicate labels\n",
    "    that were correctly predicted).\n",
    "    \"\"\"\n",
    "\n",
    "    \n",
    "    import random\n",
    "    from nltk.classify import NaiveBayesClassifier\n",
    "    from nltk import ConfusionMatrix\n",
    "    \n",
    "    # Obtener todas las instancias\n",
    "    instances = senseval.instances(word)\n",
    "    \n",
    "    # Crear el vocabulario\n",
    "    vocab = extract_vocab(instances, stopwords_list, number)\n",
    "    \n",
    "    # Preparar los datos etiquetados (features, label)\n",
    "    labeled_data = []\n",
    "    for instance in instances:\n",
    "        # Extraer características según la función proporcionada\n",
    "        feats = features(instance, vocab, distance)\n",
    "        # El primer sentido es la etiqueta\n",
    "        label = instance.senses[0]\n",
    "        labeled_data.append((feats, label))\n",
    "    \n",
    "    # Dividir en conjuntos de entrenamiento (80%) y prueba (20%)\n",
    "    random.seed(42)  # Para reproducibilidad\n",
    "    random.shuffle(labeled_data)\n",
    "    cutoff = int(len(labeled_data) * 0.8)\n",
    "    train_data = labeled_data[:cutoff]\n",
    "    test_data = labeled_data[cutoff:]\n",
    "    \n",
    "    # Entrenar el clasificador\n",
    "    classifier = NaiveBayesClassifier.train(train_data)\n",
    "    \n",
    "    # Calcular exactitud en conjunto de prueba\n",
    "    acc = nltk.classify.accuracy(classifier, test_data)\n",
    "    print('Accuracy: %6.4f' % acc)\n",
    "    \n",
    "    if errors==True:\n",
    "        print('Errores: ')\n",
    "        for i, (feats, correct_label) in enumerate(test_data):\n",
    "            predicted = classifier.classify(feats)\n",
    "            if predicted != correct_label:\n",
    "                # Encontrar la instancia original\n",
    "                test_instance = instances[cutoff + i]\n",
    "                context = ' '.join(word for word, pos in test_instance.context)\n",
    "                print(f'\\nEjemplo {i}:')\n",
    "                print(f'Contexto: {context}')\n",
    "                print(f'Etiqueta predicha: {predicted}')\n",
    "                print(f'Etiqueta correcta: {correct_label}')\n",
    "        \n",
    "        \n",
    "    if confusion_matrix==True:\n",
    "        print('Matriz de confusión: ')\n",
    "        # Obtener predicciones y etiquetas reales\n",
    "        test_predictions = [classifier.classify(feats) for feats, label in test_data]\n",
    "        test_labels = [label for feats, label in test_data]\n",
    "        # Crear y mostrar matriz de confusión\n",
    "        cm = ConfusionMatrix(test_labels, test_predictions)\n",
    "        print(cm)\n",
    "        \n",
    "    \n",
    "    return classifier"
   ]
  },
  {
   "cell_type": "markdown",
   "metadata": {},
   "source": [
    "### 2.\tValidación de los clasificadores para la palabra «hard».  "
   ]
  },
  {
   "cell_type": "markdown",
   "metadata": {},
   "source": [
    "Utilizando el conjunto de datos de test que has generado previamente, obtén la exactitud (accuracy) y la matriz de confusión para cada uno de los dos clasificadores que permiten desambiguar el sentido de la palabra «hard». "
   ]
  },
  {
   "cell_type": "markdown",
   "metadata": {},
   "source": [
    "- Debes mostrar la exactitud (accuracy) y la matriz de confusión resultantes de la validación de cada uno de los dos clasificadores."
   ]
  },
  {
   "cell_type": "code",
   "execution_count": 74,
   "metadata": {},
   "outputs": [
    {
     "name": "stdout",
     "output_type": "stream",
     "text": [
      "Accuracy: 0.8731\n",
      "Matriz de confusión: \n",
      "      |   H   H   H |\n",
      "      |   A   A   A |\n",
      "      |   R   R   R |\n",
      "      |   D   D   D |\n",
      "      |   1   2   3 |\n",
      "------+-------------+\n",
      "HARD1 |<672> 15   6 |\n",
      "HARD2 |  46 <64>  2 |\n",
      "HARD3 |  41   . <21>|\n",
      "------+-------------+\n",
      "(row = reference; col = test)\n",
      "\n"
     ]
    }
   ],
   "source": [
    "clasificador_hard_vecinas = wsd_clasificador('hard.pos', wsd_caracteristicas_palabras_vecinas, number=250, errors=False, confusion_matrix=True)"
   ]
  },
  {
   "cell_type": "code",
   "execution_count": 75,
   "metadata": {},
   "outputs": [
    {
     "name": "stdout",
     "output_type": "stream",
     "text": [
      "Accuracy: 0.8812\n",
      "Matriz de confusión: \n",
      "      |   H   H   H |\n",
      "      |   A   A   A |\n",
      "      |   R   R   R |\n",
      "      |   D   D   D |\n",
      "      |   1   2   3 |\n",
      "------+-------------+\n",
      "HARD1 |<675> 11   7 |\n",
      "HARD2 |  44 <65>  3 |\n",
      "HARD3 |  33   5 <24>|\n",
      "------+-------------+\n",
      "(row = reference; col = test)\n",
      "\n"
     ]
    }
   ],
   "source": [
    "clasificador_hard_colocacion = wsd_clasificador('hard.pos', wsd_caracteristicas_colocacion, distance=2, errors=False, confusion_matrix=True)"
   ]
  },
  {
   "cell_type": "markdown",
   "metadata": {},
   "source": [
    "Debes comparar y analizar los resultados de rendimiento de los clasificadores. Para ello responde a las siguientes preguntas:"
   ]
  },
  {
   "cell_type": "markdown",
   "metadata": {},
   "source": [
    "- ¿Cuál es el conjunto de características que aporta mejores resultados? ¿Por qué? "
   ]
  },
  {
   "cell_type": "markdown",
   "metadata": {},
   "source": [
    "########## Aquí debes indicar tu respuesta ##########"
   ]
  },
  {
   "cell_type": "markdown",
   "metadata": {},
   "source": [
    "- ¿Cuál es el sentido más difícil de identificar? ¿Por qué?"
   ]
  },
  {
   "cell_type": "markdown",
   "metadata": {},
   "source": [
    "########## Aquí debes indicar tu respuesta ##########"
   ]
  },
  {
   "cell_type": "markdown",
   "metadata": {},
   "source": [
    "- ¿Qué posibles mejoras se podrían aplicar para mejorar el rendimiento de los clasificadores creados? No es necesario que las implementes, solo que las comentes."
   ]
  },
  {
   "cell_type": "markdown",
   "metadata": {},
   "source": [
    "########## Aquí debes indicar tu respuesta ##########"
   ]
  },
  {
   "cell_type": "markdown",
   "metadata": {},
   "source": [
    "### 3.\tInstancias clasificadas incorrectamente para «hard».   "
   ]
  },
  {
   "cell_type": "markdown",
   "metadata": {},
   "source": [
    "Para el clasificador que permite desambiguar la palabra «hard» y que utiliza las características de colocación, obtén las instancias que pertenecen al sentido ‘HARD1’ y que se han clasificado incorrectamente. Presenta en el informe la oración en la que aparece la palabra ambigua (el contexto) para cada una de esas instancias y la etiqueta en la que han sido erróneamente clasificadas.\n",
    "\n",
    "Para el clasificador que permite desambiguar la palabra «hard» y que utiliza las características de colocación, obtén las instancias que pertenecen al sentido ‘HARD1’ y que se han clasificado incorrectamente."
   ]
  },
  {
   "cell_type": "markdown",
   "metadata": {},
   "source": [
    "- Presenta la oración en la que aparece la palabra ambigua (el contexto) para cada una de esas instancias y la etiqueta en la que han sido erróneamente clasificadas."
   ]
  },
  {
   "cell_type": "code",
   "execution_count": 76,
   "metadata": {
    "scrolled": true
   },
   "outputs": [
    {
     "name": "stdout",
     "output_type": "stream",
     "text": [
      "Accuracy: 0.8812\n",
      "Errores: \n",
      "\n",
      "Ejemplo 10:\n",
      "Contexto: your self-discipline , diligence and hard work are exemplary .\n",
      "Etiqueta predicha: HARD1\n",
      "Etiqueta correcta: HARD2\n",
      "\n",
      "Ejemplo 13:\n",
      "Contexto: it was hard work , recalls john a . breeding , a year younger than lester and now a resident of live oak .\n",
      "Etiqueta predicha: HARD2\n",
      "Etiqueta correcta: HARD1\n",
      "\n",
      "Ejemplo 14:\n",
      "Contexto: the hearings forced tim stead , 37 , a supervisor at a san jose manufacturing plant , to take a hard look at his past treatment of women .\n",
      "Etiqueta predicha: HARD1\n",
      "Etiqueta correcta: HARD3\n",
      "\n",
      "Ejemplo 35:\n",
      "Contexto: while not denying his obvious sex appeal , bolton has clearly earned his position of prominence , artistically and commercially , in the music industry through his tremendous talents as a singer and songwriter and many years of hard work and dedication .\n",
      "Etiqueta predicha: HARD1\n",
      "Etiqueta correcta: HARD3\n",
      "\n",
      "Ejemplo 48:\n",
      "Contexto: yuh 25 , unaccustomed to the hard edge of new york humor , found breslin 's remarks sexist .\n",
      "Etiqueta predicha: HARD1\n",
      "Etiqueta correcta: HARD3\n",
      "\n",
      "Ejemplo 52:\n",
      "Contexto: but on sunday , after two weeks of hard thinking , blondie bumstead entered the workforce as . . . a caterer .\n",
      "Etiqueta predicha: HARD2\n",
      "Etiqueta correcta: HARD1\n",
      "\n",
      "Ejemplo 71:\n",
      "Contexto: `` more importantly , it will create an effort - and performance-based system which will send a message to all students that hard work pays dividends , that learning is important , and that tough courses are the path to success , \" cooperman said .\n",
      "Etiqueta predicha: HARD1\n",
      "Etiqueta correcta: HARD3\n",
      "\n",
      "Ejemplo 73:\n",
      "Contexto: no hard feelings developed and within months rosenberg followed cooley to seafirst , washington state 's largest bank .\n",
      "Etiqueta predicha: HARD1\n",
      "Etiqueta correcta: HARD3\n",
      "\n",
      "Ejemplo 83:\n",
      "Contexto: a hard look at the status of women in the workplace shows : ; ( check ) record numbers of women are entering traditional male professions , such as law , business and medicine .\n",
      "Etiqueta predicha: HARD1\n",
      "Etiqueta correcta: HARD3\n",
      "\n",
      "Ejemplo 92:\n",
      "Contexto: `` he said that he thought this was an indication that there was still hard feelings toward some segments of the community , \" he said .\n",
      "Etiqueta predicha: HARD1\n",
      "Etiqueta correcta: HARD3\n",
      "\n",
      "Ejemplo 98:\n",
      "Contexto: he also praises the efforts of his grandfather ( his sister lived with other relatives after his father walked out on the family when thomas was 7 ) , who believed that hard work , faith in god and moral values could overcome any adversity .\n",
      "Etiqueta predicha: HARD3\n",
      "Etiqueta correcta: HARD1\n",
      "\n",
      "Ejemplo 99:\n",
      "Contexto: it 's making you hard , joyce .\n",
      "Etiqueta predicha: HARD1\n",
      "Etiqueta correcta: HARD2\n",
      "\n",
      "Ejemplo 100:\n",
      "Contexto: her laugh was hard .\n",
      "Etiqueta predicha: HARD2\n",
      "Etiqueta correcta: HARD1\n",
      "\n",
      "Ejemplo 102:\n",
      "Contexto: the mayor chalks up the mcclain controversy to `` misunderstandings and hard feelings . ''\n",
      "Etiqueta predicha: HARD1\n",
      "Etiqueta correcta: HARD3\n",
      "\n",
      "Ejemplo 106:\n",
      "Contexto: the turtles also learned a lot about the benefits of diligence and hard work on their way to rock stardom , raphael says .\n",
      "Etiqueta predicha: HARD1\n",
      "Etiqueta correcta: HARD2\n",
      "\n",
      "Ejemplo 109:\n",
      "Contexto: no offense to okun , who probably is a good guy and as charming as grover says , but he is a publicist , and this is supposed to be a hard look at the company he works for .\n",
      "Etiqueta predicha: HARD2\n",
      "Etiqueta correcta: HARD3\n",
      "\n",
      "Ejemplo 111:\n",
      "Contexto: i 'm sure this provides hours of enjoyment for urban professionals , who , after a hard day of wrangling sales reports , can mosey back to their condominiums , rustle up a mess o ' sushi , and spend an old-fashioned western-style evening analyzing their jean damage .\n",
      "Etiqueta predicha: HARD3\n",
      "Etiqueta correcta: HARD2\n",
      "\n",
      "Ejemplo 124:\n",
      "Contexto: i remember the hard work i had put in , the great hopes i held , and the disappointment when i made a mistake .\n",
      "Etiqueta predicha: HARD3\n",
      "Etiqueta correcta: HARD2\n",
      "\n",
      "Ejemplo 139:\n",
      "Contexto: `` he was able to handle situations and people without causing hard feelings or escalating the situation . ''\n",
      "Etiqueta predicha: HARD1\n",
      "Etiqueta correcta: HARD3\n",
      "\n",
      "Ejemplo 143:\n",
      "Contexto: if the office milieu is timeless , why should n 't there be a typewriter ? -- except that scrivening is so much a pre-automation profession , hard on the eyes , labor-intensive and dull beyond compare .\n",
      "Etiqueta predicha: HARD1\n",
      "Etiqueta correcta: HARD2\n",
      "\n",
      "Ejemplo 148:\n",
      "Contexto: whereas everything in boccaccio is hard , elegant and general , in chaucer it is muted , peculiar , full of objects that are unexpected and yet oddly characteristic . ''\n",
      "Etiqueta predicha: HARD1\n",
      "Etiqueta correcta: HARD3\n",
      "\n",
      "Ejemplo 149:\n",
      "Contexto: british prime minister john major said the moves meant the ec was `` dismantling its ties with yugoslavia , \" and president bush said the united states was `` taking a hard look '' at its option to follow suit .\n",
      "Etiqueta predicha: HARD3\n",
      "Etiqueta correcta: HARD1\n",
      "\n",
      "Ejemplo 157:\n",
      "Contexto: her mother said in scandalized tones that money was n 't everything and thought how hard her daughter had become .\n",
      "Etiqueta predicha: HARD1\n",
      "Etiqueta correcta: HARD3\n",
      "\n",
      "Ejemplo 160:\n",
      "Contexto: in the interview , donaldson called on the federal government to take `` a good hard look '' at whether its encouragement of competition among different securities markets had placed the industry on `` a very slippery slope '' toward a fragmented market that would be difficult to monitor and control .\n",
      "Etiqueta predicha: HARD1\n",
      "Etiqueta correcta: HARD2\n",
      "\n",
      "Ejemplo 164:\n",
      "Contexto: there could be some hard feelings in this one -- it 's the first time the two teams have met since calgary defenseman jamie macoun broke buffalo star pat lafontaine 's jaw with a high stick nov . 16 .\n",
      "Etiqueta predicha: HARD3\n",
      "Etiqueta correcta: HARD1\n",
      "\n",
      "Ejemplo 192:\n",
      "Contexto: both stress hard work .\n",
      "Etiqueta predicha: HARD1\n",
      "Etiqueta correcta: HARD3\n",
      "\n",
      "Ejemplo 211:\n",
      "Contexto: `` you see a more tempered , citizen-oriented approach by candidates , whereas 10 years ago you may have seen a harder line .\n",
      "Etiqueta predicha: HARD1\n",
      "Etiqueta correcta: HARD2\n",
      "\n",
      "Ejemplo 216:\n",
      "Contexto: but last week , that litany of hard feelings flowed not from arabs ' lips , but from israelis ' .\n",
      "Etiqueta predicha: HARD1\n",
      "Etiqueta correcta: HARD2\n",
      "\n",
      "Ejemplo 221:\n",
      "Contexto: i think we should respect the hard work the committee has done .\n",
      "Etiqueta predicha: HARD1\n",
      "Etiqueta correcta: HARD2\n",
      "\n",
      "Ejemplo 237:\n",
      "Contexto: perhaps i should n 't be too hard on myself .\n",
      "Etiqueta predicha: HARD1\n",
      "Etiqueta correcta: HARD2\n",
      "\n",
      "Ejemplo 247:\n",
      "Contexto: `` patience and a lot of hard work , '' she said last night .\n",
      "Etiqueta predicha: HARD1\n",
      "Etiqueta correcta: HARD3\n",
      "\n",
      "Ejemplo 252:\n",
      "Contexto: the oak grove school district learned the hard way that you can 't count on san jose for good city planning when powerful developers take their case to the city council .\n",
      "Etiqueta predicha: HARD1\n",
      "Etiqueta correcta: HARD2\n",
      "\n",
      "Ejemplo 268:\n",
      "Contexto: he gave a short hard laugh and looked at her knowingly .\n",
      "Etiqueta predicha: HARD1\n",
      "Etiqueta correcta: HARD2\n",
      "\n",
      "Ejemplo 281:\n",
      "Contexto: after two years of hard work , denice decided to call it quits .\n",
      "Etiqueta predicha: HARD1\n",
      "Etiqueta correcta: HARD2\n",
      "\n",
      "Ejemplo 290:\n",
      "Contexto: it 's a day well spent because insurance companies like to have the cold , hard facts when you 're faced with a loss .\n",
      "Etiqueta predicha: HARD1\n",
      "Etiqueta correcta: HARD3\n",
      "\n",
      "Ejemplo 302:\n",
      "Contexto: but this astonishment of mine was much increased , when some days after , a storm came upon us , and the captain rushed out of the cabin in his nightcap , and nothing else but his shirt on ; and leaping up on the poop , began to jump up and down , and curse and swear , and call the men aloft all manner of hard names , just like a common loafer in the street .\n",
      "Etiqueta predicha: HARD2\n",
      "Etiqueta correcta: HARD1\n",
      "\n",
      "Ejemplo 307:\n",
      "Contexto: the country will only get its money 's worth when it goes through the hard work of setting priorities .\n",
      "Etiqueta predicha: HARD1\n",
      "Etiqueta correcta: HARD3\n",
      "\n",
      "Ejemplo 314:\n",
      "Contexto: the fourth - , fifth - and sixth-graders at sakamoto elementary school in the oak grove school district in south san jose wanted hard answers to some tough questions from hammer during her quick stop there as part of a whirlwind tour of district 10 .\n",
      "Etiqueta predicha: HARD1\n",
      "Etiqueta correcta: HARD2\n",
      "\n",
      "Ejemplo 315:\n",
      "Contexto: italy 's decision to adopt a hard line with its third wave of albanian boat people appears to be working .\n",
      "Etiqueta predicha: HARD1\n",
      "Etiqueta correcta: HARD2\n",
      "\n",
      "Ejemplo 326:\n",
      "Contexto: one of the chief complaints was that the floodlight from the ceiling was too bright , its glare hard on the eyes of council members .\n",
      "Etiqueta predicha: HARD1\n",
      "Etiqueta correcta: HARD2\n",
      "\n",
      "Ejemplo 344:\n",
      "Contexto: but , in american labor politics , he identifies with what he imagines to be `` the hard line rank-and-file party '' -- unlikely supporters for a compact among labor , business and government .\n",
      "Etiqueta predicha: HARD1\n",
      "Etiqueta correcta: HARD2\n",
      "\n",
      "Ejemplo 348:\n",
      "Contexto: she smiled at winston , and he saw the hateful hard glitter in her eyes .\n",
      "Etiqueta predicha: HARD1\n",
      "Etiqueta correcta: HARD3\n",
      "\n",
      "Ejemplo 351:\n",
      "Contexto: the san jose museum of art auxiliary 's recent debut fashion show luncheon will be a hard act to follow .\n",
      "Etiqueta predicha: HARD1\n",
      "Etiqueta correcta: HARD3\n",
      "\n",
      "Ejemplo 365:\n",
      "Contexto: the hard work and caring is evident , by both the carefully prepared meals and the friendly atmosphere .\n",
      "Etiqueta predicha: HARD1\n",
      "Etiqueta correcta: HARD2\n",
      "\n",
      "Ejemplo 374:\n",
      "Contexto: we just can 't let hard work and drive create favorable environments for those willing to make the effort as opposed to those unwilling to do so .\n",
      "Etiqueta predicha: HARD1\n",
      "Etiqueta correcta: HARD2\n",
      "\n",
      "Ejemplo 388:\n",
      "Contexto: today , the gates sound somewhat dated , lacking the emotional force of the `` hard '' gospel singers , but they show a side of gospel that is often overlooked -- its consummate technical expertise and professionalism .\n",
      "Etiqueta predicha: HARD1\n",
      "Etiqueta correcta: HARD3\n",
      "\n",
      "Ejemplo 392:\n",
      "Contexto: the mercury news publishes a glitzy cover story to highlight its home section , admittedly not a portion devoted to hard news .\n",
      "Etiqueta predicha: HARD1\n",
      "Etiqueta correcta: HARD2\n",
      "\n",
      "Ejemplo 393:\n",
      "Contexto: `` at first the guys on the other teams really give me a hard time , \" she said .\n",
      "Etiqueta predicha: HARD1\n",
      "Etiqueta correcta: HARD3\n",
      "\n",
      "Ejemplo 398:\n",
      "Contexto: she had an instant 's glimpse of grey eyes , hard as steel , then his lips were on hers .\n",
      "Etiqueta predicha: HARD1\n",
      "Etiqueta correcta: HARD2\n",
      "\n",
      "Ejemplo 404:\n",
      "Contexto: they see stories of a young man from a broken family who raised himself out of abject poverty with the help of stern but loving grandparents , who instilled in him the value of hard work .\n",
      "Etiqueta predicha: HARD1\n",
      "Etiqueta correcta: HARD3\n",
      "\n",
      "Ejemplo 421:\n",
      "Contexto: after apple exceeded $ 5 billion in sales , graziano said , `` we took a hard look at our business and our position in the industry .\n",
      "Etiqueta predicha: HARD1\n",
      "Etiqueta correcta: HARD3\n",
      "\n",
      "Ejemplo 439:\n",
      "Contexto: here are my notes on the wines in the order in which they were tasted : ; ( box ) 1988 echezeaux : smoky and tasting of brown sugar , pretty and lively with hard tannins ; closed and young , charming but simple and quite forward . ( 90 ) there are 94 acres in this appellation of which drc owns 11 .\n",
      "Etiqueta predicha: HARD1\n",
      "Etiqueta correcta: HARD2\n",
      "\n",
      "Ejemplo 440:\n",
      "Contexto: their loyalty and hard work have greatly contributed to the success of the company .\n",
      "Etiqueta predicha: HARD1\n",
      "Etiqueta correcta: HARD3\n",
      "\n",
      "Ejemplo 441:\n",
      "Contexto: what makes him different is his profession ; he 's a big-money ballplayer in the public eye and there are numbers , hard and fast numbers such as 21 and . 201 , that strongly suggest he 's bringing his problems to work .\n",
      "Etiqueta predicha: HARD2\n",
      "Etiqueta correcta: HARD3\n",
      "\n",
      "Ejemplo 458:\n",
      "Contexto: while the baltic republics have been planning their independence moves for years and are certain to go ahead , `` with the others , when they take a good hard look at the consequences , it may cause a lot of the republics to reconsider . ''\n",
      "Etiqueta predicha: HARD1\n",
      "Etiqueta correcta: HARD2\n",
      "\n",
      "Ejemplo 459:\n",
      "Contexto: `` listen to me , my man , '' he said grimly , as he laid a hard hand on fred 's arm .\n",
      "Etiqueta predicha: HARD1\n",
      "Etiqueta correcta: HARD2\n",
      "\n",
      "Ejemplo 475:\n",
      "Contexto: but , baker said , `` it is the firm hope and desire and wish of my government , of my president that we will not let what could be a historic opportunity pass for want of a willingness to commit ourselves to do the real hard work of peace . ''\n",
      "Etiqueta predicha: HARD3\n",
      "Etiqueta correcta: HARD2\n",
      "\n",
      "Ejemplo 480:\n",
      "Contexto: `` investors also need to know that this market is more volatile . . . so they should take a hard look at the companies before investing , \" collins added .\n",
      "Etiqueta predicha: HARD1\n",
      "Etiqueta correcta: HARD2\n",
      "\n",
      "Ejemplo 494:\n",
      "Contexto: statistics canada said that of the hard red spring wheat remaining in the storage bins of western farmers , about 47 % was of the top grade , up from 46 % last year .\n",
      "Etiqueta predicha: HARD1\n",
      "Etiqueta correcta: HARD2\n",
      "\n",
      "Ejemplo 498:\n",
      "Contexto: downs , whose annual shoulder trouble apparently was remedied with surgery last april , threw progressively better this spring but developed an inflamed big right toe as his foot rubbed the hard arizona dirt during his follow-through .\n",
      "Etiqueta predicha: HARD2\n",
      "Etiqueta correcta: HARD1\n",
      "\n",
      "Ejemplo 502:\n",
      "Contexto: one sells at $ 1 , 695 ; the other costs $ 600 more for a `` hard '' disk storing 10 , 000 pages of data .\n",
      "Etiqueta predicha: HARD1\n",
      "Etiqueta correcta: HARD3\n",
      "\n",
      "Ejemplo 515:\n",
      "Contexto: but carlton said the money was in a hard cardboard box when he handed it to the aide for delivery to noriega .\n",
      "Etiqueta predicha: HARD1\n",
      "Etiqueta correcta: HARD3\n",
      "\n",
      "Ejemplo 517:\n",
      "Contexto: even though we use cold , filtered water in our tea kettle , it has developed a hard , cracked gray crust on the bottom during the few months we 've been here .\n",
      "Etiqueta predicha: HARD2\n",
      "Etiqueta correcta: HARD1\n",
      "\n",
      "Ejemplo 521:\n",
      "Contexto: a general rule to keep in mind is that when cooking cheese it should be done on medium unless it is a hard cheese such as grated parmesan or romano .\n",
      "Etiqueta predicha: HARD1\n",
      "Etiqueta correcta: HARD3\n",
      "\n",
      "Ejemplo 523:\n",
      "Contexto: little boos , with their hard white skin , are not for cooking .\n",
      "Etiqueta predicha: HARD1\n",
      "Etiqueta correcta: HARD2\n",
      "\n",
      "Ejemplo 528:\n",
      "Contexto: not everybody minds noise as much as i do , but in the wooden mountain house , all hard surfaces , even a small crowd can rattle the windows .\n",
      "Etiqueta predicha: HARD1\n",
      "Etiqueta correcta: HARD2\n",
      "\n",
      "Ejemplo 547:\n",
      "Contexto: these include covering a cake with a hard glaze of sugar and gelatin or using wood as a temporary frame for floating sculptures .\n",
      "Etiqueta predicha: HARD1\n",
      "Etiqueta correcta: HARD2\n",
      "\n",
      "Ejemplo 550:\n",
      "Contexto: its blond tints were as fresh and enduring as enamel , -- and quite as hard .\n",
      "Etiqueta predicha: HARD1\n",
      "Etiqueta correcta: HARD2\n",
      "\n",
      "Ejemplo 578:\n",
      "Contexto: the soviet union will supply 1 . 5 million cubic meters of timber a year , mostly hard pine , and china will provide coal , salt , electricity , oil and other materials , the news service said .\n",
      "Etiqueta predicha: HARD2\n",
      "Etiqueta correcta: HARD1\n",
      "\n",
      "Ejemplo 586:\n",
      "Contexto: sometimes tapping the pot on a hard surface will loose the cramped plant , but you may have to use a screwdriver to pry it out .\n",
      "Etiqueta predicha: HARD1\n",
      "Etiqueta correcta: HARD2\n",
      "\n",
      "Ejemplo 594:\n",
      "Contexto: japan , she said , smelled pugh because people let dead fish lie on the beaches till the fish got hard as rocks ; then they scraped off the mold and made fish soup .\n",
      "Etiqueta predicha: HARD3\n",
      "Etiqueta correcta: HARD1\n",
      "\n",
      "Ejemplo 605:\n",
      "Contexto: the blow encountered silky hair and hard bone .\n",
      "Etiqueta predicha: HARD2\n",
      "Etiqueta correcta: HARD1\n",
      "\n",
      "Ejemplo 610:\n",
      "Contexto: the shelf of hard lava , resting on a pile of loose rock , could snap off and dump them in the ocean .\n",
      "Etiqueta predicha: HARD3\n",
      "Etiqueta correcta: HARD1\n",
      "\n",
      "Ejemplo 632:\n",
      "Contexto: although it 's extremely hard and durable , there is n 't much thickness for sanding .\n",
      "Etiqueta predicha: HARD1\n",
      "Etiqueta correcta: HARD2\n",
      "\n",
      "Ejemplo 653:\n",
      "Contexto: de-thatch and aerate hard packed turf areas and apply a fertilizer to carry the lawn through winter .\n",
      "Etiqueta predicha: HARD2\n",
      "Etiqueta correcta: HARD1\n",
      "\n",
      "Ejemplo 654:\n",
      "Contexto: there are the roses , unexpected dots of color on a neutral ground ; and a playful mural softens the hard line of the central corridor in the main wing .\n",
      "Etiqueta predicha: HARD1\n",
      "Etiqueta correcta: HARD2\n",
      "\n",
      "Ejemplo 655:\n",
      "Contexto: she also said their hard shoes and the squeaky pram wheels annoyed her .\n",
      "Etiqueta predicha: HARD2\n",
      "Etiqueta correcta: HARD3\n",
      "\n",
      "Ejemplo 663:\n",
      "Contexto: the designers tried several approaches using the hard shell mammal as an emblem including an early one sans sunglasses but with four cowboy boots .\n",
      "Etiqueta predicha: HARD1\n",
      "Etiqueta correcta: HARD2\n",
      "\n",
      "Ejemplo 666:\n",
      "Contexto: once your tummy is hard enough , they 'll stop the faucet and push on your tummy so you 'll throw up all the water . ''\n",
      "Etiqueta predicha: HARD1\n",
      "Etiqueta correcta: HARD2\n",
      "\n",
      "Ejemplo 671:\n",
      "Contexto: the chickens , frozen hard as stones , smacked many refugees on the head .\n",
      "Etiqueta predicha: HARD1\n",
      "Etiqueta correcta: HARD2\n",
      "\n",
      "Ejemplo 681:\n",
      "Contexto: ( box ) as the resin beads remove the minerals , they slowly get saturated with `` hard '' material .\n",
      "Etiqueta predicha: HARD1\n",
      "Etiqueta correcta: HARD2\n",
      "\n",
      "Ejemplo 683:\n",
      "Contexto: on the flip side , too much light or too much fertilizer can make a plant too compact with tight , hard and brittle centers .\n",
      "Etiqueta predicha: HARD1\n",
      "Etiqueta correcta: HARD2\n",
      "\n",
      "Ejemplo 695:\n",
      "Contexto: marble cherubs , for example , and carved marble fireplaces had been attacked with hard blunt objects .\n",
      "Etiqueta predicha: HARD1\n",
      "Etiqueta correcta: HARD3\n",
      "\n",
      "Ejemplo 713:\n",
      "Contexto: unlike relatively soft canvas or polyester wallpaper linings , veneer wall coverings are relatively hard when applied with adhesive ; a finger will not leave a depression .\n",
      "Etiqueta predicha: HARD2\n",
      "Etiqueta correcta: HARD1\n",
      "\n",
      "Ejemplo 714:\n",
      "Contexto: but then , when she first sat down , i did n 't noticed the paper bag she carried -- the bag filled with individually wrapped hard candies , into which she steadily dipped her hand .\n",
      "Etiqueta predicha: HARD1\n",
      "Etiqueta correcta: HARD2\n",
      "\n",
      "Ejemplo 721:\n",
      "Contexto: with its attention to culture and history , its concern for the state 's fragile coastal environment , and its visual layering of line-art , photographs and maps , the `` guide '' - lrb - edited by madge caughman and joanne s . ginsberg , university of california press , $ 29 . 95 hard cover , $ 14 . 95 paperback - rrb - emerges as a fully realized work -- one that may be fundamentally impossible to improve upon .\n",
      "Etiqueta predicha: HARD1\n",
      "Etiqueta correcta: HARD2\n",
      "\n",
      "Ejemplo 724:\n",
      "Contexto: onion bulbs can 't grow and expand in hard , adobe soil .\n",
      "Etiqueta predicha: HARD1\n",
      "Etiqueta correcta: HARD2\n",
      "\n",
      "Ejemplo 728:\n",
      "Contexto: put cut pieces on plaster board to dry to firm leather - hard state .\n",
      "Etiqueta predicha: HARD2\n",
      "Etiqueta correcta: HARD3\n",
      "\n",
      "Ejemplo 736:\n",
      "Contexto: here are some tips to help you enjoy garlic : ; ( check ) buying -- cloves should be big , plump and hard .\n",
      "Etiqueta predicha: HARD3\n",
      "Etiqueta correcta: HARD1\n",
      "\n",
      "Ejemplo 738:\n",
      "Contexto: it 's a bold gamble in the hard scrabble economy of texas , but the fdic also granted the north carolina company substantial protection against further texas loan losses .\n",
      "Etiqueta predicha: HARD1\n",
      "Etiqueta correcta: HARD3\n",
      "\n",
      "Ejemplo 743:\n",
      "Contexto: `` i 'd always had a hard edge to me , which was intensified by the years i spent in vietnam , \" he said .\n",
      "Etiqueta predicha: HARD2\n",
      "Etiqueta correcta: HARD3\n",
      "\n",
      "Ejemplo 745:\n",
      "Contexto: there 's magic -- foods that get soft when cooked ( carrots and potatoes ) , foods that get hard when cooked ( eggs and cookie dough ) , foods that metamorphose ( cream into butter , egg whites into meringue ) , foods that shape-shift ( popcorn , hominy , tortillas and polenta ) .\n",
      "Etiqueta predicha: HARD1\n",
      "Etiqueta correcta: HARD3\n",
      "\n",
      "Ejemplo 748:\n",
      "Contexto: paperweight may be personalized on back while clay is leather hard .\n",
      "Etiqueta predicha: HARD1\n",
      "Etiqueta correcta: HARD3\n",
      "\n",
      "Ejemplo 753:\n",
      "Contexto: the ice-cream fork would seem to contradict miss manners ' assertion that ice cream should be eaten with a spoon , but -- fooled you ! -- it actually is a spoon , with a very rounded bowl , only with fork-like tines at the end for subduing brick hard ice cream .\n",
      "Etiqueta predicha: HARD1\n",
      "Etiqueta correcta: HARD2\n",
      "\n",
      "Ejemplo 755:\n",
      "Contexto: surface key : frm pkd = firm packed , hrd pkd = hard packed , mch grm = machine groomed , pkd pwdr = packed powder , pwdr = powder .\n",
      "Etiqueta predicha: HARD1\n",
      "Etiqueta correcta: HARD2\n",
      "\n",
      "Ejemplo 773:\n",
      "Contexto: ( box ) the shell should be hard when pinched .\n",
      "Etiqueta predicha: HARD1\n",
      "Etiqueta correcta: HARD3\n",
      "\n",
      "Ejemplo 782:\n",
      "Contexto: like amoebas , plasmodia can enter hard , resistant resting states , called sclerotia , when conditions are bad .\n",
      "Etiqueta predicha: HARD1\n",
      "Etiqueta correcta: HARD3\n",
      "\n",
      "Ejemplo 787:\n",
      "Contexto: york also believes that double-walled , hard sided coolers like little igloos , thermos brands and such are a good bet because the two walls are an efficient way to use air 's excellent insulation properties .\n",
      "Etiqueta predicha: HARD1\n",
      "Etiqueta correcta: HARD3\n",
      "\n",
      "Ejemplo 794:\n",
      "Contexto: and he acknowledges the company 's inability to refinance its $ 1 . 4 billion debt from that deal `` put us between a rock and a hard place . ''\n",
      "Etiqueta predicha: HARD2\n",
      "Etiqueta correcta: HARD1\n",
      "\n",
      "Ejemplo 795:\n",
      "Contexto: in the bay area , the soil is mostly hard clay , and the best way to loosen up this compacted soil is to dig in huge amounts of compost , redwood soil conditioner or other organic soil amendments .\n",
      "Etiqueta predicha: HARD3\n",
      "Etiqueta correcta: HARD1\n",
      "\n",
      "Ejemplo 813:\n",
      "Contexto: note : dragees are hard candies used to decorate baked goods . -- -- from `` rose 's christmas ; cookies '' by rose levy ; beranbaum ( morrow ) .\n",
      "Etiqueta predicha: HARD1\n",
      "Etiqueta correcta: HARD2\n",
      "\n",
      "Ejemplo 843:\n",
      "Contexto: c . edward acker , pan am 's chairman , remains caught between a rock and a hard place .\n",
      "Etiqueta predicha: HARD1\n",
      "Etiqueta correcta: HARD2\n",
      "\n",
      "Ejemplo 852:\n",
      "Contexto: you just have to work a little harder to keep the relationship going . ''\n",
      "Etiqueta predicha: HARD1\n",
      "Etiqueta correcta: HARD3\n",
      "Matriz de confusión: \n",
      "      |   H   H   H |\n",
      "      |   A   A   A |\n",
      "      |   R   R   R |\n",
      "      |   D   D   D |\n",
      "      |   1   2   3 |\n",
      "------+-------------+\n",
      "HARD1 |<675> 11   7 |\n",
      "HARD2 |  44 <65>  3 |\n",
      "HARD3 |  33   5 <24>|\n",
      "------+-------------+\n",
      "(row = reference; col = test)\n",
      "\n"
     ]
    }
   ],
   "source": [
    "clasificador_hard_colocacion = wsd_clasificador('hard.pos', wsd_caracteristicas_colocacion, distance=2, errors=True, confusion_matrix=True)"
   ]
  },
  {
   "cell_type": "markdown",
   "metadata": {},
   "source": [
    "########## Aquí debes indicar tu respuesta ##########"
   ]
  },
  {
   "cell_type": "markdown",
   "metadata": {},
   "source": [
    "### 4.\tEntrenamiento y validación de dos clasificadores para la palabra «serve».   "
   ]
  },
  {
   "cell_type": "markdown",
   "metadata": {},
   "source": [
    "Repite el proceso anterior para entrenar y validar dos clasificadores que permitan desambiguar la palabra «serve». Puedes aprovechar el código que has generado anteriormente.\n",
    "\n",
    "-\tCrea los conjuntos de entrenamiento y test para las instancias donde la palabra ambigua es «serve». Mantén la proporción del 80-20 % para la creación de los conjuntos de entrenamiento y de test. \n",
    "\n",
    "-\tEntrena un clasificador para «serve» que use como características el conjunto basado en las **palabras vecinas**. Para definir el vocabulario utiliza las **250** palabras más frecuentes (**m=250**).\n",
    "\n",
    "-\tEntrena un clasificador para «serve» que use como conjunto **de características las de colocación**. Para definir la **ventana de contexto** utiliza la secuencia de dos palabras que ocurren antes de la palabra ambigua y la secuencia de dos palabras que ocurren después de esta **(n=2)**. \n",
    "\n",
    "-\tObtén el valor la exactitud (accuracy) para cada uno de los dos clasificadores que permiten desambiguar el sentido de la palabra «sense». "
   ]
  },
  {
   "cell_type": "code",
   "execution_count": 77,
   "metadata": {},
   "outputs": [
    {
     "name": "stdout",
     "output_type": "stream",
     "text": [
      "Accuracy: 0.7500\n"
     ]
    }
   ],
   "source": [
    "clasificador_serve_vecinas = wsd_clasificador('serve.pos', wsd_caracteristicas_palabras_vecinas, number=250)"
   ]
  },
  {
   "cell_type": "code",
   "execution_count": 78,
   "metadata": {},
   "outputs": [
    {
     "name": "stdout",
     "output_type": "stream",
     "text": [
      "Accuracy: 0.7523\n"
     ]
    }
   ],
   "source": [
    "clasificador_serve_colocacion = wsd_clasificador('serve.pos', wsd_caracteristicas_colocacion, distance=2, errors=False)"
   ]
  },
  {
   "cell_type": "markdown",
   "metadata": {},
   "source": [
    "### 5.\tAnálisis de resultados del rendimiento de los clasificadores y conclusiones sobre el uso de aprendizaje automático supervisado para desambiguar el sentido de las palabras"
   ]
  },
  {
   "cell_type": "markdown",
   "metadata": {},
   "source": [
    "Presenta una tabla resumen con los valores de exactitud para cada uno de los 4 clasificadores (dos para cada palabra ambigua) que has entrenado previamente y responde a las siguientes preguntas:"
   ]
  },
  {
   "cell_type": "markdown",
   "metadata": {},
   "source": [
    "########## Aquí debes indicar tu respuesta ##########"
   ]
  },
  {
   "cell_type": "markdown",
   "metadata": {},
   "source": [
    "* ¿Por qué no es justo comparar directamente la exactitud aportada por los clasificadores que han aprendido diferentes palabras ambiguas?"
   ]
  },
  {
   "cell_type": "markdown",
   "metadata": {},
   "source": [
    "########## Aquí debes indicar tu respuesta ##########"
   ]
  },
  {
   "cell_type": "markdown",
   "metadata": {},
   "source": [
    "* ¿Cómo podrías hacerlo para que la comparación entre clasificadores que desambiguan palabras diferentes tenga sentido?"
   ]
  },
  {
   "cell_type": "markdown",
   "metadata": {},
   "source": [
    "########## Aquí debes indicar tu respuesta ##########"
   ]
  },
  {
   "cell_type": "markdown",
   "metadata": {},
   "source": [
    "* Compara la exactitud de los clasificadores con la que proporcionaría un clasificador que asignara el sentido de forma aleatoria. ¿Cuál sería el mejor clasificador tomando como referencia (baseline), el clasificador aleatorio?"
   ]
  },
  {
   "cell_type": "markdown",
   "metadata": {},
   "source": [
    "########## Aquí debes indicar tu respuesta ##########"
   ]
  },
  {
   "cell_type": "markdown",
   "metadata": {},
   "source": [
    "Una vez hayas implementado diferentes clasificadores para desambiguar el sentido de diferentes palabras y analizado su desempeño, reflexiona sobre el uso de algoritmos basados en aprendizaje automático supervisado para resolver la tarea de desambiguación del sentido de las palabras. Para ello responde de forma razonada a las siguientes preguntas:"
   ]
  },
  {
   "cell_type": "markdown",
   "metadata": {},
   "source": [
    "* ¿Cuáles son las limitaciones de los clasificadores que has creado para la desambiguación del sentido de las palabras?"
   ]
  },
  {
   "cell_type": "markdown",
   "metadata": {},
   "source": [
    "########## Aquí debes indicar tu respuesta ##########"
   ]
  },
  {
   "cell_type": "markdown",
   "metadata": {},
   "source": [
    "* ¿Qué alternativas propondrías para superar esas limitaciones y obtener algoritmo que resuelva mejor el problema de la desambiguación del sentido de las palabras?"
   ]
  },
  {
   "cell_type": "markdown",
   "metadata": {},
   "source": [
    "########## Aquí debes indicar tu respuesta ##########"
   ]
  }
 ],
 "metadata": {
  "kernelspec": {
   "display_name": "env_tensorflow",
   "language": "python",
   "name": "python3"
  },
  "language_info": {
   "codemirror_mode": {
    "name": "ipython",
    "version": 3
   },
   "file_extension": ".py",
   "mimetype": "text/x-python",
   "name": "python",
   "nbconvert_exporter": "python",
   "pygments_lexer": "ipython3",
   "version": "3.10.13"
  }
 },
 "nbformat": 4,
 "nbformat_minor": 2
}
