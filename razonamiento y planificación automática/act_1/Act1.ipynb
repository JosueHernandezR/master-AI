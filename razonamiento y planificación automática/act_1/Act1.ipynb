{
 "cells": [
  {
   "cell_type": "markdown",
   "id": "82428f5c",
   "metadata": {},
   "source": [
    "<img src=\"unir-LOGO.png\">"
   ]
  },
  {
   "cell_type": "markdown",
   "id": "e26182f1",
   "metadata": {},
   "source": [
    "# Universidad Internacional de la Rioja en México - Maestría en Inteligencia Artificial - Razonamiento y Planificación Automática"
   ]
  },
  {
   "cell_type": "markdown",
   "id": "e1e63f09",
   "metadata": {},
   "source": [
    "##  Lógica difusa: preámbulo e inicio de desarrollo de funciones en Python "
   ]
  },
  {
   "cell_type": "markdown",
   "id": "57543f45",
   "metadata": {},
   "source": [
    "### Un poco de historia\n",
    "\n",
    "Para ilustrar el concepto de la lógica difusa y los conjuntos difusos se explica el ejemplo que propuso Zadeh (Se considera a Zadeh como fundador de la lógica difusa. Consulte Zadeh, L. A. Fuzzy Sets. Information and Control. Vol. 8, pp. 338-353, 1965.). Para ello propuso el ejemplo del conjunto de “los hombres altos”.\n",
    "\n",
    "Según la teoría de lógica clásica al conjunto de hombres altos, solo pertenecen los que miden más de una determinada altura y esa altura límite es 1.80 metros, así un hombre es considerado alto cuando mide por ejemplo 1.81 metros y uno bajo cuando mide 1.79 metros. Esto no parece una razón muy lógica para catalogar a un hombre de alto o bajo ya que por ejemplo en el caso expuesto la altura de uno a otro solo se diferencia en 2 centímetros. Ahí, en casos como este donde no es fácil catalogar algo, se introduce la lógica difusa (borrosa o en inglés fuzzy logic). \n",
    "\n",
    "Según la lógica difusa, el conjunto de “hombres altos” es un conjunto que no tiene\n",
    "una frontera clara que indique que perteneces a ese grupo o no. El evaluar si un hombre\n",
    "es alto o bajo, se hace mediante una función que define la transición entre alto a bajo\n",
    "y para ello asigna a las distintas alturas un valor entre 0 y 1. Según sea este valor se\n",
    "considera que se pertenece al conjunto o no. Aplicando esto al caso anterior, un hombre\n",
    "que mida 1.79 metros se puede decir que pertenece al conjunto de hombres altos con un\n",
    "grado de 0.75 y el hombre que medía 1.81 metros pertenece al conjunto de hombres altos\n",
    "con un grado de 0.8. Si representamos esto en una gráfica se obtendrá que la transición\n",
    "entre alto o bajo con la lógica borrosa es una curva con cambios no abruptos mientras\n",
    "que con la lógica clásica, el paso de alto a bajo o viceversa es brusco. La siguiente Figura muestra el cambio suave la lógica difusa y los cambios abruptos de la lógica booleana (clasica):\n",
    "<img src=\"logicas.png\">\n",
    "\n",
    "\n"
   ]
  },
  {
   "cell_type": "markdown",
   "id": "c0c44448",
   "metadata": {},
   "source": [
    "### ¿Qué es la lógica difusa? \n",
    "La lógica difusa fue desarrollada para emular la lógica humana y tomar decisiones a pesar de la incertidumbre en la información.\n",
    "\n",
    "En lógica booleana, los valores que pueden tomar las variables son certeros, es decir 0 (bajo, negación) si una expresión es falsa, 1 (alto, verdadero) si una expresión es correcta. \n",
    "En lógica difusa las variables toman valores entre el conjunto de valores 0 y 1, [0,1], estos valores permiten representar expresiones lingüísticas como la temperatura del agua “muy caliente” “poco caliente” “poco frio” “muy frio” en valores numéricos, definiendo para cada expresión lingüística un grado de pertenencia al conjunto [0,1], por ejemplo, valores cercanos a 0 cuando la variable lingüística es frio, valores cercanos a 1 cuando la variable lingüística es caliente. El proceso de asignar valor numérico a una variable lingüística se le llama fusificación y permite cuantificar el grado de verdad o falsedad de las variables lingüísticas.\n",
    "\n",
    "La lógica difusa permite representar el conocimiento común (del tipo lingüístico), en un lenguaje matemático a través de conjuntos difusos y funciones de pertenencia (o membresía). Tiene la capacidad de reproducir el pensamiento humano en un lenguaje matemático (en específico pertenencia a conjuntos).\n"
   ]
  },
  {
   "cell_type": "markdown",
   "id": "675ebd0b",
   "metadata": {},
   "source": [
    "### Elementos de lógica difusa:\n",
    "#### Variable Lingüística:\n",
    "Se define a una variable lingüística como aquella variable que toma valores lingüísticos que representen expresiones de incertidumbre alto, medio alto, mediano, medio bajo, bajo por ejemplo. La velocidad de un automóvil puede considerarse puede considerarse como una variable lingüística, ya que toma valores lingüísticos como “alta” “media” o “baja”.\n",
    " Las variables lingüísticas están regidas por reglas que dictan el comportamiento asociado al sistema representado por las variables lingüísticas. \n",
    " \n",
    " #### Universo de Discurso:\n",
    " Es el rango de toda la información que va a representar una variable de interés (temperatura). Por ejemplo, para la variable “temperatura” el rango tomará valores de 0 a 100 Celcius; para la variable “rentabilidad” el rango va de 10 a 33 por ciento, etc.\n",
    " \n",
    " #### Conjunto Difuso:\n",
    " \n",
    " Es el conjunto de valores numéricos que toma una variable lingüística entre el rango de valores [0,1]. Expresa el valor de pertenencia de una variable lingüística. geométricamente es representado por funciones de membresía (o pertenencia). Se define como: $A = \\left\\lbrace a_{i}| i=1,2,…,n\\right\\rbrace $\n",
    "Donde $A$ es el nombre del conjunto difuso,  $a_{i}$ son los elementos del conjunto difuso y $n$ toma valores discretos. \n",
    "\n",
    "Un elemento del conjunto $A$ tiene sentido de pertenencia a un conjunto de valores [0,1], el grado de pertenencia de un elemento $x$ pertenece al conjunto A se denota como:\n",
    "\n",
    "$\\mu _{A}\\left( x \\right) $.\n",
    "\n",
    "Si $x$ no pertenece al conjunto $A$ se denota como:\n",
    "\n",
    "$\\mu _{A}(x)=0 $. \n",
    "\n",
    "Si $x$ pertenece completamente al conjunto $A$ se denota como:\n",
    "\n",
    "$\\mu _{A}(x) =1$. \n",
    "\n",
    "Para valores intermedios: \n",
    "\n",
    "$\\mu _{A}(x) =0.2$ Significa que tiene un bajo grado de pertenencia\n",
    "\n",
    "$\\mu _{A}(x) =0.9$ Singifica que tiene un alto grado de pertenencia\n",
    "\n",
    "### Función de membresía (o pertenencia):\n",
    "\n",
    "Es la función que permitirá asignar en el rango del conjunto [0,1] valores numéricos de las variables lingüísticas, geométricamente tienen la forma de salto (pulso), triangular, trapezoidal, sigmoide y exponencial Gaussiana. Asocia su grado de pertenencia dentro del intervalo [0 ,1], se define como $µ(x)$. \n",
    "\n",
    "En general, se define la siguiente función (con los adecuados parámetros se pueden obtener las funciones triangular y trapezoidal)\n",
    "\n",
    "$\\mu _{F}(x)=\\left\\lbrace \\begin{array}{c}  0 \\ \\ \\ \\ x\\leq a  \\\\ \\frac{x-a}{b-a} \\ \\ \\ \\ x \\in (a,b] \\\\ 1 \\ x \\in (b,c]  \\\\  \\frac{d-x}{d-c}\\ \\ \\ \\ x \\in (c,d) \\\\ 0 \\ \\ \\ \\ x \\geq d \\end{array}  \\right.$\n",
    "\n",
    "La siguiente Figura muestra la definición de la función $\\mu _{x}$. Los parámetros $a$, $b$, $c$ y $d$ se muestran en la Figura y corresponden a las ordenadas de los puntos donde cambia  \n",
    "<img src=\"FT.png\">\n",
    "La función con parámetros $a=1$, $b=3$, $c=7$ y $d=9$ \n",
    "<img src=\"FTT.png\">\n"
   ]
  },
  {
   "cell_type": "markdown",
   "id": "6bcf783d",
   "metadata": {},
   "source": [
    "## Para comenzar con la parte práctica se declaran las líbrerías "
   ]
  },
  {
   "cell_type": "code",
   "execution_count": 1,
   "id": "9f57d1a0",
   "metadata": {},
   "outputs": [],
   "source": [
    "#declaración de librerias\n",
    "import numpy as np                 #Permite el manejo de arreglos (matrices)\n",
    "import matplotlib.pyplot as plt    #Nos va a permitir el realizar las gráficas "
   ]
  },
  {
   "cell_type": "markdown",
   "id": "fea7c870",
   "metadata": {},
   "source": [
    "## Se declara la función de membresía $\\mu_{F}(x)$ definida en la sección anterior"
   ]
  },
  {
   "cell_type": "code",
   "execution_count": 2,
   "id": "0b4a3ed3",
   "metadata": {},
   "outputs": [],
   "source": [
    "#declaración de función mu\n",
    "def mu(x,param):\n",
    "    a=param[0]\n",
    "    b=param[1]\n",
    "    c=param[2]\n",
    "    d=param[3]\n",
    "    y=np.piecewise(x, [x <= a, (x > a) & (x<=b),(x>b) & (x<=c),(x>c) & (x<=d),x>d ], [0, lambda x:(x-a)/(b-a),1,lambda x:(d-x)/(d-c),0])\n",
    "    return y\n"
   ]
  },
  {
   "cell_type": "code",
   "execution_count": 3,
   "id": "fc06bd8e",
   "metadata": {
    "scrolled": false
   },
   "outputs": [
    {
     "data": {
      "image/png": "[encoded data removed]",
      "text/plain": [
       "<Figure size 640x480 with 1 Axes>"
      ]
     },
     "metadata": {},
     "output_type": "display_data"
    }
   ],
   "source": [
    "#instanciar y graficar función $\\mu_{x}$ parametros a=1, b=3, c=7, d=9\n",
    "x = np.linspace(-2, 12, 1000)\n",
    "valor=mu(x,[1,3,7,9])\n",
    "plt.plot(x, valor)\n",
    "plt.show()"
   ]
  },
  {
   "cell_type": "code",
   "execution_count": 4,
   "id": "3a721785",
   "metadata": {},
   "outputs": [],
   "source": [
    "#inserta el código para responder a la pregunta 5.\n"
   ]
  },
  {
   "cell_type": "code",
   "execution_count": 5,
   "id": "734302be",
   "metadata": {},
   "outputs": [],
   "source": [
    "#inserta el código para responder a la pregunta 6.\n",
    "\n"
   ]
  },
  {
   "cell_type": "code",
   "execution_count": 6,
   "id": "82ee4e96",
   "metadata": {},
   "outputs": [],
   "source": [
    "#inserta el código para responder a la pregunta 7.\n"
   ]
  },
  {
   "cell_type": "markdown",
   "id": "7db569b9",
   "metadata": {},
   "source": [
    "## Se declara la función de membresía $\\mu_{F}(x)$ exponencial (Gaussiana)\n",
    "$\\mu_{F} (x)= \\exp(-k(x-m)^{2})$ con $k>0$ y $m$ puede tomar el valor de $0$ si se desea que la función sea centrada en el origen. \n",
    "\n",
    "<img src=\"FG.png\">"
   ]
  },
  {
   "cell_type": "code",
   "execution_count": 7,
   "id": "6d94b85b",
   "metadata": {},
   "outputs": [],
   "source": [
    "#declaración de función mu(x) Gaussiana\n",
    "def mug(x,param):\n",
    "    k=param[0]\n",
    "    m=param[1]\n",
    "    y=np.exp(-k*(x-m)**2)\n",
    "    return y"
   ]
  },
  {
   "cell_type": "code",
   "execution_count": 8,
   "id": "16e79ed3",
   "metadata": {},
   "outputs": [
    {
     "data": {
      "image/png": "[encoded data removed]",
      "text/plain": [
       "<Figure size 640x480 with 1 Axes>"
      ]
     },
     "metadata": {},
     "output_type": "display_data"
    }
   ],
   "source": [
    "#instanciar a la función mug(x)\n",
    "x = np.linspace(-2, 10, 1000)\n",
    "valor=mug(x,[.5,5])\n",
    "plt.plot(x, valor)\n",
    "plt.show()"
   ]
  },
  {
   "cell_type": "code",
   "execution_count": 9,
   "id": "f9924c6a",
   "metadata": {},
   "outputs": [],
   "source": [
    "#inserta el código para responder a la pregunta 8."
   ]
  },
  {
   "cell_type": "markdown",
   "id": "6498ecc1",
   "metadata": {},
   "source": [
    "## Operaciones entre conjuntos difusos\n",
    "\n",
    "Las funciones de membresía expresan grados de pertenencia y se visualizan como conjuntos, las operaciones básicas entre conjuntos difusos que se definen son unión, intersección y complemento, y se definen como:\n",
    "\n",
    "Unión: $\\mu_{A} \\cup \\mu_{B}$\n",
    "\n",
    "Intersección: $\\mu_{A} \\cap \\mu_{B}$\n",
    "\n",
    "Complemento: $\\bar{\\mu} _{A}  = 1- \\mu_{A}$\n",
    "\n",
    "Donde $A$ y $B$ son las funciones de membresía consideradas como conjuntos. \n",
    "\n",
    "Para los elementos del conjunto las operaciones unión, intersección y complemento se definen como:\n",
    "\n",
    "Unión: $\\mu_{A}(a) \\cup \\mu_{B}(b) = max (a,b)$\n",
    "\n",
    "Intersección: $\\mu_{A} \\cap \\mu_{B} = min(a,b) $\n",
    "\n",
    "Complemento: $\\bar{\\mu} _{A} (a)  = 1- \\mu_{A}(a)$\n",
    "\n",
    "Donde $a$ y $b$ son elementos del conjunto $A$ y $B$ respectivamente. "
   ]
  },
  {
   "cell_type": "markdown",
   "id": "0a4449a9",
   "metadata": {},
   "source": [
    "# Control Difuso\n",
    "\n",
    "Si se requiere automatizar o controlar el proceso que realiza un trabajador, el\n",
    "control difuso tendrá la tarea de emular a dicho trabajador. El trabajador con base en\n",
    "su criterio y experiencia,  toma decisiones en forma lingüística como: ‘alto’ ‘medio’ ‘lento’.\n",
    "    \n",
    "    \n",
    "En un sistema de control basado en lógica difusa, no es necesario conocer el modelo\n",
    "matemático del sistema, ya que suele verse como una caja negra donde se tienen las\n",
    "entradas y a través del sistema se genera una salida deseada. Para el control difuso es\n",
    "necesario un experto, el cual toma el registro de situaciones que se presenten y da una\n",
    "respuesta. La experiencia es traducida en reglas que usan variables lingüísticas. En el con-\n",
    "trol las entradas del sistema son mapeadas a variables lingüísticas (difusificación). Con las\n",
    "variables se forman reglas y las reglas rigen la acción de control que es la salida del sistema.\n",
    "\n",
    "## Controladores Difusos\n",
    "\n",
    "El controlador difuso consta de tres partes:\n",
    "\n",
    "Difusificador: Es el nexo entre las entradas reales y difusas, siendo que las entradas deben ser mapeadas a una forma en que las reglas puedan ser usadas.\n",
    "\n",
    "Reglas: Dictan la acción de control, derivadas de un experto. Tienen la estructura de relación. La lógica difusa es basada en relaciones calculadas por medio de reglas “SI-ENTONCES”. Ejemplo: SI la temperatura es alta ENTONCES se debe encender el ventilador.\n",
    "\n",
    "Desdifusificador: Toma un valor difuso de las reglas y genera una salida real.\n",
    "\n",
    "El uso de la lógica difusa en los sistemas de control satisface uno o más de los siguientes criterios:\n",
    "\n",
    "- Mejora la robustez que se obtiene con los métodos clásicos de control lineales\n",
    "\n",
    "- Simplicidad en el diseño de control para sistemas complejos\n",
    "- Implementación simplificada\n",
    "- Autonomía\n",
    "- No es necesario un modelo matemático\n",
    "- El control difuso convierte la estrategia de control lingüístico en una estrategia de control automático, basado en el conocimiento de un experto.\n",
    "\n",
    "Esto es un preámbulo muy breve, para aprender más acerca de control difuso sugiero revisar las siguientes referencias:\n",
    "\n",
    "Cuauhtémoc Carbajal Fernández, Alejandro Aceves López. Control difuso por objetivos jerarquizados. XXVI Reunión de Investigación y Desarrollo Tecnológico del Sistema ITESM - 1996, 1996.\n",
    "\n",
    "Alfred Roca Cusidó. Control de Procesos. Alfa Omega Ediciones UPC, México, 2002.\n",
    "\n",
    "CORRIPIO ARMANDO B. SMITH CARLOS A. Control Automatico de Procesos, Teoria y Practica. NORIEGA LIMUSA, México, 1991.\n",
    "\n",
    "Alberto García Serrano. Inteligencia Artificial Fundamentos, práctica y aplicaciones. Alfaomega, México, 2017. "
   ]
  }
 ],
 "metadata": {
  "kernelspec": {
   "display_name": "Python 3 (ipykernel)",
   "language": "python",
   "name": "python3"
  },
  "language_info": {
   "codemirror_mode": {
    "name": "ipython",
    "version": 3
   },
   "file_extension": ".py",
   "mimetype": "text/x-python",
   "name": "python",
   "nbconvert_exporter": "python",
   "pygments_lexer": "ipython3",
   "version": "3.1.-1"
  }
 },
 "nbformat": 4,
 "nbformat_minor": 5
}
